{
 "cells": [
  {
   "attachments": {},
   "cell_type": "markdown",
   "metadata": {},
   "source": [
    "# By Sayan Banerjee"
   ]
  },
  {
   "attachments": {},
   "cell_type": "markdown",
   "metadata": {
    "id": "aTb-9TFFqprC"
   },
   "source": [
    "### Importing the Dependencies"
   ]
  },
  {
   "cell_type": "code",
   "execution_count": 1,
   "metadata": {
    "id": "3q9U3S_whh3-"
   },
   "outputs": [],
   "source": [
    "import numpy as np\n",
    "import pandas as pd\n",
    "from sklearn.model_selection import train_test_split\n",
    "from sklearn.linear_model import LogisticRegression\n",
    "from sklearn.metrics import accuracy_score\n",
    "import xgboost as xgb\n",
    "import matplotlib.pyplot as plt\n",
    "from sklearn import svm\n",
    "from sklearn.neighbors import KNeighborsClassifier\n",
    "from sklearn.tree import DecisionTreeClassifier\n",
    "from keras.models import Sequential\n",
    "from keras.layers import Dense\n",
    "from sklearn.ensemble import RandomForestClassifier\n",
    "from sklearn.naive_bayes import GaussianNB\n",
    "from catboost import CatBoostClassifier\n",
    "from sklearn.ensemble import AdaBoostClassifier\n",
    "from sklearn.linear_model import Ridge\n",
    "from sklearn.naive_bayes import MultinomialNB\n",
    "from sklearn.metrics import precision_recall_fscore_support\n",
    "from sklearn import metrics\n",
    "import time"
   ]
  },
  {
   "attachments": {},
   "cell_type": "markdown",
   "metadata": {
    "id": "egMd5zeurTMR"
   },
   "source": [
    "### Data Collection and Processing"
   ]
  },
  {
   "cell_type": "code",
   "execution_count": 2,
   "metadata": {
    "id": "0q-3-LkQrREV"
   },
   "outputs": [],
   "source": [
    "# loading the csv data to a Pandas DataFrame\n",
    "heart_data = pd.read_csv('heart_disease_data.csv')"
   ]
  },
  {
   "cell_type": "code",
   "execution_count": 3,
   "metadata": {
    "colab": {
     "base_uri": "https://localhost:8080/",
     "height": 198
    },
    "id": "M8dQxSTqriWD",
    "outputId": "ea695a74-7589-47fe-e400-2dd925f7b5bb"
   },
   "outputs": [
    {
     "data": {
      "text/html": [
       "<div>\n",
       "<style scoped>\n",
       "    .dataframe tbody tr th:only-of-type {\n",
       "        vertical-align: middle;\n",
       "    }\n",
       "\n",
       "    .dataframe tbody tr th {\n",
       "        vertical-align: top;\n",
       "    }\n",
       "\n",
       "    .dataframe thead th {\n",
       "        text-align: right;\n",
       "    }\n",
       "</style>\n",
       "<table border=\"1\" class=\"dataframe\">\n",
       "  <thead>\n",
       "    <tr style=\"text-align: right;\">\n",
       "      <th></th>\n",
       "      <th>age</th>\n",
       "      <th>sex</th>\n",
       "      <th>cp</th>\n",
       "      <th>trestbps</th>\n",
       "      <th>chol</th>\n",
       "      <th>fbs</th>\n",
       "      <th>restecg</th>\n",
       "      <th>thalach</th>\n",
       "      <th>exang</th>\n",
       "      <th>oldpeak</th>\n",
       "      <th>slope</th>\n",
       "      <th>ca</th>\n",
       "      <th>thal</th>\n",
       "      <th>target</th>\n",
       "    </tr>\n",
       "  </thead>\n",
       "  <tbody>\n",
       "    <tr>\n",
       "      <th>0</th>\n",
       "      <td>63</td>\n",
       "      <td>1</td>\n",
       "      <td>3</td>\n",
       "      <td>145</td>\n",
       "      <td>233</td>\n",
       "      <td>1</td>\n",
       "      <td>0</td>\n",
       "      <td>150</td>\n",
       "      <td>0</td>\n",
       "      <td>2.3</td>\n",
       "      <td>0</td>\n",
       "      <td>0</td>\n",
       "      <td>1</td>\n",
       "      <td>1</td>\n",
       "    </tr>\n",
       "    <tr>\n",
       "      <th>1</th>\n",
       "      <td>37</td>\n",
       "      <td>1</td>\n",
       "      <td>2</td>\n",
       "      <td>130</td>\n",
       "      <td>250</td>\n",
       "      <td>0</td>\n",
       "      <td>1</td>\n",
       "      <td>187</td>\n",
       "      <td>0</td>\n",
       "      <td>3.5</td>\n",
       "      <td>0</td>\n",
       "      <td>0</td>\n",
       "      <td>2</td>\n",
       "      <td>1</td>\n",
       "    </tr>\n",
       "    <tr>\n",
       "      <th>2</th>\n",
       "      <td>41</td>\n",
       "      <td>0</td>\n",
       "      <td>1</td>\n",
       "      <td>130</td>\n",
       "      <td>204</td>\n",
       "      <td>0</td>\n",
       "      <td>0</td>\n",
       "      <td>172</td>\n",
       "      <td>0</td>\n",
       "      <td>1.4</td>\n",
       "      <td>2</td>\n",
       "      <td>0</td>\n",
       "      <td>2</td>\n",
       "      <td>1</td>\n",
       "    </tr>\n",
       "    <tr>\n",
       "      <th>3</th>\n",
       "      <td>56</td>\n",
       "      <td>1</td>\n",
       "      <td>1</td>\n",
       "      <td>120</td>\n",
       "      <td>236</td>\n",
       "      <td>0</td>\n",
       "      <td>1</td>\n",
       "      <td>178</td>\n",
       "      <td>0</td>\n",
       "      <td>0.8</td>\n",
       "      <td>2</td>\n",
       "      <td>0</td>\n",
       "      <td>2</td>\n",
       "      <td>1</td>\n",
       "    </tr>\n",
       "    <tr>\n",
       "      <th>4</th>\n",
       "      <td>57</td>\n",
       "      <td>0</td>\n",
       "      <td>0</td>\n",
       "      <td>120</td>\n",
       "      <td>354</td>\n",
       "      <td>0</td>\n",
       "      <td>1</td>\n",
       "      <td>163</td>\n",
       "      <td>1</td>\n",
       "      <td>0.6</td>\n",
       "      <td>2</td>\n",
       "      <td>0</td>\n",
       "      <td>2</td>\n",
       "      <td>1</td>\n",
       "    </tr>\n",
       "  </tbody>\n",
       "</table>\n",
       "</div>"
      ],
      "text/plain": [
       "   age  sex  cp  trestbps  chol  fbs  restecg  thalach  exang  oldpeak  slope  \\\n",
       "0   63    1   3       145   233    1        0      150      0      2.3      0   \n",
       "1   37    1   2       130   250    0        1      187      0      3.5      0   \n",
       "2   41    0   1       130   204    0        0      172      0      1.4      2   \n",
       "3   56    1   1       120   236    0        1      178      0      0.8      2   \n",
       "4   57    0   0       120   354    0        1      163      1      0.6      2   \n",
       "\n",
       "   ca  thal  target  \n",
       "0   0     1       1  \n",
       "1   0     2       1  \n",
       "2   0     2       1  \n",
       "3   0     2       1  \n",
       "4   0     2       1  "
      ]
     },
     "execution_count": 3,
     "metadata": {},
     "output_type": "execute_result"
    }
   ],
   "source": [
    "# print first 5 rows of the dataset\n",
    "heart_data.head()"
   ]
  },
  {
   "cell_type": "code",
   "execution_count": 4,
   "metadata": {
    "colab": {
     "base_uri": "https://localhost:8080/",
     "height": 198
    },
    "id": "Fx_aCZDgrqdR",
    "outputId": "770eb646-bdff-45da-ac1c-06aae06f7446"
   },
   "outputs": [
    {
     "data": {
      "text/html": [
       "<div>\n",
       "<style scoped>\n",
       "    .dataframe tbody tr th:only-of-type {\n",
       "        vertical-align: middle;\n",
       "    }\n",
       "\n",
       "    .dataframe tbody tr th {\n",
       "        vertical-align: top;\n",
       "    }\n",
       "\n",
       "    .dataframe thead th {\n",
       "        text-align: right;\n",
       "    }\n",
       "</style>\n",
       "<table border=\"1\" class=\"dataframe\">\n",
       "  <thead>\n",
       "    <tr style=\"text-align: right;\">\n",
       "      <th></th>\n",
       "      <th>age</th>\n",
       "      <th>sex</th>\n",
       "      <th>cp</th>\n",
       "      <th>trestbps</th>\n",
       "      <th>chol</th>\n",
       "      <th>fbs</th>\n",
       "      <th>restecg</th>\n",
       "      <th>thalach</th>\n",
       "      <th>exang</th>\n",
       "      <th>oldpeak</th>\n",
       "      <th>slope</th>\n",
       "      <th>ca</th>\n",
       "      <th>thal</th>\n",
       "      <th>target</th>\n",
       "    </tr>\n",
       "  </thead>\n",
       "  <tbody>\n",
       "    <tr>\n",
       "      <th>298</th>\n",
       "      <td>57</td>\n",
       "      <td>0</td>\n",
       "      <td>0</td>\n",
       "      <td>140</td>\n",
       "      <td>241</td>\n",
       "      <td>0</td>\n",
       "      <td>1</td>\n",
       "      <td>123</td>\n",
       "      <td>1</td>\n",
       "      <td>0.2</td>\n",
       "      <td>1</td>\n",
       "      <td>0</td>\n",
       "      <td>3</td>\n",
       "      <td>0</td>\n",
       "    </tr>\n",
       "    <tr>\n",
       "      <th>299</th>\n",
       "      <td>45</td>\n",
       "      <td>1</td>\n",
       "      <td>3</td>\n",
       "      <td>110</td>\n",
       "      <td>264</td>\n",
       "      <td>0</td>\n",
       "      <td>1</td>\n",
       "      <td>132</td>\n",
       "      <td>0</td>\n",
       "      <td>1.2</td>\n",
       "      <td>1</td>\n",
       "      <td>0</td>\n",
       "      <td>3</td>\n",
       "      <td>0</td>\n",
       "    </tr>\n",
       "    <tr>\n",
       "      <th>300</th>\n",
       "      <td>68</td>\n",
       "      <td>1</td>\n",
       "      <td>0</td>\n",
       "      <td>144</td>\n",
       "      <td>193</td>\n",
       "      <td>1</td>\n",
       "      <td>1</td>\n",
       "      <td>141</td>\n",
       "      <td>0</td>\n",
       "      <td>3.4</td>\n",
       "      <td>1</td>\n",
       "      <td>2</td>\n",
       "      <td>3</td>\n",
       "      <td>0</td>\n",
       "    </tr>\n",
       "    <tr>\n",
       "      <th>301</th>\n",
       "      <td>57</td>\n",
       "      <td>1</td>\n",
       "      <td>0</td>\n",
       "      <td>130</td>\n",
       "      <td>131</td>\n",
       "      <td>0</td>\n",
       "      <td>1</td>\n",
       "      <td>115</td>\n",
       "      <td>1</td>\n",
       "      <td>1.2</td>\n",
       "      <td>1</td>\n",
       "      <td>1</td>\n",
       "      <td>3</td>\n",
       "      <td>0</td>\n",
       "    </tr>\n",
       "    <tr>\n",
       "      <th>302</th>\n",
       "      <td>57</td>\n",
       "      <td>0</td>\n",
       "      <td>1</td>\n",
       "      <td>130</td>\n",
       "      <td>236</td>\n",
       "      <td>0</td>\n",
       "      <td>0</td>\n",
       "      <td>174</td>\n",
       "      <td>0</td>\n",
       "      <td>0.0</td>\n",
       "      <td>1</td>\n",
       "      <td>1</td>\n",
       "      <td>2</td>\n",
       "      <td>0</td>\n",
       "    </tr>\n",
       "  </tbody>\n",
       "</table>\n",
       "</div>"
      ],
      "text/plain": [
       "     age  sex  cp  trestbps  chol  fbs  restecg  thalach  exang  oldpeak  \\\n",
       "298   57    0   0       140   241    0        1      123      1      0.2   \n",
       "299   45    1   3       110   264    0        1      132      0      1.2   \n",
       "300   68    1   0       144   193    1        1      141      0      3.4   \n",
       "301   57    1   0       130   131    0        1      115      1      1.2   \n",
       "302   57    0   1       130   236    0        0      174      0      0.0   \n",
       "\n",
       "     slope  ca  thal  target  \n",
       "298      1   0     3       0  \n",
       "299      1   0     3       0  \n",
       "300      1   2     3       0  \n",
       "301      1   1     3       0  \n",
       "302      1   1     2       0  "
      ]
     },
     "execution_count": 4,
     "metadata": {},
     "output_type": "execute_result"
    }
   ],
   "source": [
    "# print last 5 rows of the dataset\n",
    "heart_data.tail()"
   ]
  },
  {
   "cell_type": "code",
   "execution_count": 5,
   "metadata": {
    "colab": {
     "base_uri": "https://localhost:8080/"
    },
    "id": "8nX1tIzbrz0u",
    "outputId": "6f650e4c-22b6-4750-ca57-ba6758d1c3a2"
   },
   "outputs": [
    {
     "data": {
      "text/plain": [
       "(303, 14)"
      ]
     },
     "execution_count": 5,
     "metadata": {},
     "output_type": "execute_result"
    }
   ],
   "source": [
    "# number of rows and columns in the dataset\n",
    "heart_data.shape"
   ]
  },
  {
   "cell_type": "code",
   "execution_count": 6,
   "metadata": {
    "colab": {
     "base_uri": "https://localhost:8080/"
    },
    "id": "7_xTcw1Sr6aJ",
    "outputId": "1948e00e-0656-43ef-c4c4-740ee51a6381"
   },
   "outputs": [
    {
     "name": "stdout",
     "output_type": "stream",
     "text": [
      "<class 'pandas.core.frame.DataFrame'>\n",
      "RangeIndex: 303 entries, 0 to 302\n",
      "Data columns (total 14 columns):\n",
      " #   Column    Non-Null Count  Dtype  \n",
      "---  ------    --------------  -----  \n",
      " 0   age       303 non-null    int64  \n",
      " 1   sex       303 non-null    int64  \n",
      " 2   cp        303 non-null    int64  \n",
      " 3   trestbps  303 non-null    int64  \n",
      " 4   chol      303 non-null    int64  \n",
      " 5   fbs       303 non-null    int64  \n",
      " 6   restecg   303 non-null    int64  \n",
      " 7   thalach   303 non-null    int64  \n",
      " 8   exang     303 non-null    int64  \n",
      " 9   oldpeak   303 non-null    float64\n",
      " 10  slope     303 non-null    int64  \n",
      " 11  ca        303 non-null    int64  \n",
      " 12  thal      303 non-null    int64  \n",
      " 13  target    303 non-null    int64  \n",
      "dtypes: float64(1), int64(13)\n",
      "memory usage: 33.3 KB\n"
     ]
    }
   ],
   "source": [
    "# getting some info about the data\n",
    "heart_data.info()"
   ]
  },
  {
   "cell_type": "code",
   "execution_count": 7,
   "metadata": {
    "colab": {
     "base_uri": "https://localhost:8080/"
    },
    "id": "GjHtW31rsGlb",
    "outputId": "8c1c23ce-b5b4-4872-a579-9b4185d12522"
   },
   "outputs": [
    {
     "data": {
      "text/plain": [
       "age         0\n",
       "sex         0\n",
       "cp          0\n",
       "trestbps    0\n",
       "chol        0\n",
       "fbs         0\n",
       "restecg     0\n",
       "thalach     0\n",
       "exang       0\n",
       "oldpeak     0\n",
       "slope       0\n",
       "ca          0\n",
       "thal        0\n",
       "target      0\n",
       "dtype: int64"
      ]
     },
     "execution_count": 7,
     "metadata": {},
     "output_type": "execute_result"
    }
   ],
   "source": [
    "# checking for missing values\n",
    "heart_data.isnull().sum()"
   ]
  },
  {
   "cell_type": "code",
   "execution_count": 8,
   "metadata": {
    "colab": {
     "base_uri": "https://localhost:8080/",
     "height": 308
    },
    "id": "OHmcP7DJsSEP",
    "outputId": "400a121e-dbd2-4e77-8c72-021c12af5927"
   },
   "outputs": [
    {
     "data": {
      "text/html": [
       "<div>\n",
       "<style scoped>\n",
       "    .dataframe tbody tr th:only-of-type {\n",
       "        vertical-align: middle;\n",
       "    }\n",
       "\n",
       "    .dataframe tbody tr th {\n",
       "        vertical-align: top;\n",
       "    }\n",
       "\n",
       "    .dataframe thead th {\n",
       "        text-align: right;\n",
       "    }\n",
       "</style>\n",
       "<table border=\"1\" class=\"dataframe\">\n",
       "  <thead>\n",
       "    <tr style=\"text-align: right;\">\n",
       "      <th></th>\n",
       "      <th>age</th>\n",
       "      <th>sex</th>\n",
       "      <th>cp</th>\n",
       "      <th>trestbps</th>\n",
       "      <th>chol</th>\n",
       "      <th>fbs</th>\n",
       "      <th>restecg</th>\n",
       "      <th>thalach</th>\n",
       "      <th>exang</th>\n",
       "      <th>oldpeak</th>\n",
       "      <th>slope</th>\n",
       "      <th>ca</th>\n",
       "      <th>thal</th>\n",
       "      <th>target</th>\n",
       "    </tr>\n",
       "  </thead>\n",
       "  <tbody>\n",
       "    <tr>\n",
       "      <th>count</th>\n",
       "      <td>303.000000</td>\n",
       "      <td>303.000000</td>\n",
       "      <td>303.000000</td>\n",
       "      <td>303.000000</td>\n",
       "      <td>303.000000</td>\n",
       "      <td>303.000000</td>\n",
       "      <td>303.000000</td>\n",
       "      <td>303.000000</td>\n",
       "      <td>303.000000</td>\n",
       "      <td>303.000000</td>\n",
       "      <td>303.000000</td>\n",
       "      <td>303.000000</td>\n",
       "      <td>303.000000</td>\n",
       "      <td>303.000000</td>\n",
       "    </tr>\n",
       "    <tr>\n",
       "      <th>mean</th>\n",
       "      <td>54.366337</td>\n",
       "      <td>0.683168</td>\n",
       "      <td>0.966997</td>\n",
       "      <td>131.623762</td>\n",
       "      <td>246.264026</td>\n",
       "      <td>0.148515</td>\n",
       "      <td>0.528053</td>\n",
       "      <td>149.646865</td>\n",
       "      <td>0.326733</td>\n",
       "      <td>1.039604</td>\n",
       "      <td>1.399340</td>\n",
       "      <td>0.729373</td>\n",
       "      <td>2.313531</td>\n",
       "      <td>0.544554</td>\n",
       "    </tr>\n",
       "    <tr>\n",
       "      <th>std</th>\n",
       "      <td>9.082101</td>\n",
       "      <td>0.466011</td>\n",
       "      <td>1.032052</td>\n",
       "      <td>17.538143</td>\n",
       "      <td>51.830751</td>\n",
       "      <td>0.356198</td>\n",
       "      <td>0.525860</td>\n",
       "      <td>22.905161</td>\n",
       "      <td>0.469794</td>\n",
       "      <td>1.161075</td>\n",
       "      <td>0.616226</td>\n",
       "      <td>1.022606</td>\n",
       "      <td>0.612277</td>\n",
       "      <td>0.498835</td>\n",
       "    </tr>\n",
       "    <tr>\n",
       "      <th>min</th>\n",
       "      <td>29.000000</td>\n",
       "      <td>0.000000</td>\n",
       "      <td>0.000000</td>\n",
       "      <td>94.000000</td>\n",
       "      <td>126.000000</td>\n",
       "      <td>0.000000</td>\n",
       "      <td>0.000000</td>\n",
       "      <td>71.000000</td>\n",
       "      <td>0.000000</td>\n",
       "      <td>0.000000</td>\n",
       "      <td>0.000000</td>\n",
       "      <td>0.000000</td>\n",
       "      <td>0.000000</td>\n",
       "      <td>0.000000</td>\n",
       "    </tr>\n",
       "    <tr>\n",
       "      <th>25%</th>\n",
       "      <td>47.500000</td>\n",
       "      <td>0.000000</td>\n",
       "      <td>0.000000</td>\n",
       "      <td>120.000000</td>\n",
       "      <td>211.000000</td>\n",
       "      <td>0.000000</td>\n",
       "      <td>0.000000</td>\n",
       "      <td>133.500000</td>\n",
       "      <td>0.000000</td>\n",
       "      <td>0.000000</td>\n",
       "      <td>1.000000</td>\n",
       "      <td>0.000000</td>\n",
       "      <td>2.000000</td>\n",
       "      <td>0.000000</td>\n",
       "    </tr>\n",
       "    <tr>\n",
       "      <th>50%</th>\n",
       "      <td>55.000000</td>\n",
       "      <td>1.000000</td>\n",
       "      <td>1.000000</td>\n",
       "      <td>130.000000</td>\n",
       "      <td>240.000000</td>\n",
       "      <td>0.000000</td>\n",
       "      <td>1.000000</td>\n",
       "      <td>153.000000</td>\n",
       "      <td>0.000000</td>\n",
       "      <td>0.800000</td>\n",
       "      <td>1.000000</td>\n",
       "      <td>0.000000</td>\n",
       "      <td>2.000000</td>\n",
       "      <td>1.000000</td>\n",
       "    </tr>\n",
       "    <tr>\n",
       "      <th>75%</th>\n",
       "      <td>61.000000</td>\n",
       "      <td>1.000000</td>\n",
       "      <td>2.000000</td>\n",
       "      <td>140.000000</td>\n",
       "      <td>274.500000</td>\n",
       "      <td>0.000000</td>\n",
       "      <td>1.000000</td>\n",
       "      <td>166.000000</td>\n",
       "      <td>1.000000</td>\n",
       "      <td>1.600000</td>\n",
       "      <td>2.000000</td>\n",
       "      <td>1.000000</td>\n",
       "      <td>3.000000</td>\n",
       "      <td>1.000000</td>\n",
       "    </tr>\n",
       "    <tr>\n",
       "      <th>max</th>\n",
       "      <td>77.000000</td>\n",
       "      <td>1.000000</td>\n",
       "      <td>3.000000</td>\n",
       "      <td>200.000000</td>\n",
       "      <td>564.000000</td>\n",
       "      <td>1.000000</td>\n",
       "      <td>2.000000</td>\n",
       "      <td>202.000000</td>\n",
       "      <td>1.000000</td>\n",
       "      <td>6.200000</td>\n",
       "      <td>2.000000</td>\n",
       "      <td>4.000000</td>\n",
       "      <td>3.000000</td>\n",
       "      <td>1.000000</td>\n",
       "    </tr>\n",
       "  </tbody>\n",
       "</table>\n",
       "</div>"
      ],
      "text/plain": [
       "              age         sex          cp    trestbps        chol         fbs  \\\n",
       "count  303.000000  303.000000  303.000000  303.000000  303.000000  303.000000   \n",
       "mean    54.366337    0.683168    0.966997  131.623762  246.264026    0.148515   \n",
       "std      9.082101    0.466011    1.032052   17.538143   51.830751    0.356198   \n",
       "min     29.000000    0.000000    0.000000   94.000000  126.000000    0.000000   \n",
       "25%     47.500000    0.000000    0.000000  120.000000  211.000000    0.000000   \n",
       "50%     55.000000    1.000000    1.000000  130.000000  240.000000    0.000000   \n",
       "75%     61.000000    1.000000    2.000000  140.000000  274.500000    0.000000   \n",
       "max     77.000000    1.000000    3.000000  200.000000  564.000000    1.000000   \n",
       "\n",
       "          restecg     thalach       exang     oldpeak       slope          ca  \\\n",
       "count  303.000000  303.000000  303.000000  303.000000  303.000000  303.000000   \n",
       "mean     0.528053  149.646865    0.326733    1.039604    1.399340    0.729373   \n",
       "std      0.525860   22.905161    0.469794    1.161075    0.616226    1.022606   \n",
       "min      0.000000   71.000000    0.000000    0.000000    0.000000    0.000000   \n",
       "25%      0.000000  133.500000    0.000000    0.000000    1.000000    0.000000   \n",
       "50%      1.000000  153.000000    0.000000    0.800000    1.000000    0.000000   \n",
       "75%      1.000000  166.000000    1.000000    1.600000    2.000000    1.000000   \n",
       "max      2.000000  202.000000    1.000000    6.200000    2.000000    4.000000   \n",
       "\n",
       "             thal      target  \n",
       "count  303.000000  303.000000  \n",
       "mean     2.313531    0.544554  \n",
       "std      0.612277    0.498835  \n",
       "min      0.000000    0.000000  \n",
       "25%      2.000000    0.000000  \n",
       "50%      2.000000    1.000000  \n",
       "75%      3.000000    1.000000  \n",
       "max      3.000000    1.000000  "
      ]
     },
     "execution_count": 8,
     "metadata": {},
     "output_type": "execute_result"
    }
   ],
   "source": [
    "# statistical measures about the data\n",
    "heart_data.describe()"
   ]
  },
  {
   "cell_type": "code",
   "execution_count": 9,
   "metadata": {
    "colab": {
     "base_uri": "https://localhost:8080/"
    },
    "id": "4InaOSIUsfWP",
    "outputId": "6c38694f-7445-47b3-e235-cdd0157a4ec6"
   },
   "outputs": [
    {
     "data": {
      "text/plain": [
       "1    165\n",
       "0    138\n",
       "Name: target, dtype: int64"
      ]
     },
     "execution_count": 9,
     "metadata": {},
     "output_type": "execute_result"
    }
   ],
   "source": [
    "# checking the distribution of Target Variable\n",
    "data=heart_data['target'].value_counts()\n",
    "data"
   ]
  },
  {
   "attachments": {},
   "cell_type": "markdown",
   "metadata": {
    "id": "aSOBu4qDtJy5"
   },
   "source": [
    "1 --> Defective Heart\n",
    "\n",
    "0 --> Healthy Heart"
   ]
  },
  {
   "attachments": {},
   "cell_type": "markdown",
   "metadata": {},
   "source": [
    "### Exploratory Data Analysis (EDA)"
   ]
  },
  {
   "cell_type": "code",
   "execution_count": 10,
   "metadata": {},
   "outputs": [
    {
     "data": {
      "image/png": "[encoded data removed]",
      "text/plain": [
       "<Figure size 1100x300 with 1 Axes>"
      ]
     },
     "metadata": {},
     "output_type": "display_data"
    }
   ],
   "source": [
    "#exploring target values\n",
    "name= ['Defective Heart(1)','Healthy Hear(0)' ]\n",
    "values=[165, 138]\n",
    "plt.figure(figsize=(11,3))\n",
    "color=['red', 'blue']\n",
    "plt.subplot(131)\n",
    "plt.bar(name, values, color=color)\n",
    "plt.show()"
   ]
  },
  {
   "cell_type": "code",
   "execution_count": 11,
   "metadata": {},
   "outputs": [
    {
     "name": "stdout",
     "output_type": "stream",
     "text": [
      "sex\n",
      "0     96\n",
      "1    207\n",
      "Name: age, dtype: int64\n"
     ]
    }
   ],
   "source": [
    "#Analysing sex feature\n",
    "data1=heart_data.groupby('sex')\n",
    "chart=data1['age'].count()\n",
    "print(chart)\n"
   ]
  },
  {
   "cell_type": "code",
   "execution_count": 12,
   "metadata": {},
   "outputs": [
    {
     "data": {
      "image/png": "[encoded data removed]",
      "text/plain": [
       "<Figure size 800x300 with 1 Axes>"
      ]
     },
     "metadata": {},
     "output_type": "display_data"
    },
    {
     "data": {
      "text/plain": [
       "count    303.000000\n",
       "mean       0.683168\n",
       "std        0.466011\n",
       "min        0.000000\n",
       "25%        0.000000\n",
       "50%        1.000000\n",
       "75%        1.000000\n",
       "max        1.000000\n",
       "Name: sex, dtype: float64"
      ]
     },
     "execution_count": 12,
     "metadata": {},
     "output_type": "execute_result"
    }
   ],
   "source": [
    "name= ['Male(1)','Female(0)' ]\n",
    "values=[165, 138]\n",
    "plt.figure(figsize=(8,3))\n",
    "color=['red', 'blue']\n",
    "plt.subplot(131)\n",
    "plt.bar(name, values, color=color)\n",
    "plt.title('sex')\n",
    "plt.show()\n",
    "heart_data['sex'].describe()"
   ]
  },
  {
   "cell_type": "code",
   "execution_count": 13,
   "metadata": {},
   "outputs": [
    {
     "name": "stdout",
     "output_type": "stream",
     "text": [
      "cp\n",
      "0    143\n",
      "1     50\n",
      "2     87\n",
      "3     23\n",
      "Name: age, dtype: int64\n"
     ]
    }
   ],
   "source": [
    "#Analysing Chest Pain feature\n",
    "data1=heart_data.groupby('cp')\n",
    "chart=data1['age'].count()\n",
    "print(chart)\n"
   ]
  },
  {
   "cell_type": "code",
   "execution_count": 14,
   "metadata": {},
   "outputs": [
    {
     "data": {
      "image/png": "[encoded data removed]",
      "text/plain": [
       "<Figure size 1000x300 with 1 Axes>"
      ]
     },
     "metadata": {},
     "output_type": "display_data"
    },
    {
     "data": {
      "text/plain": [
       "count    303.000000\n",
       "mean       0.966997\n",
       "std        1.032052\n",
       "min        0.000000\n",
       "25%        0.000000\n",
       "50%        1.000000\n",
       "75%        2.000000\n",
       "max        3.000000\n",
       "Name: cp, dtype: float64"
      ]
     },
     "execution_count": 14,
     "metadata": {},
     "output_type": "execute_result"
    }
   ],
   "source": [
    "name= ['0','1','2','3' ]\n",
    "values=[143,50.,87,23]\n",
    "color = [\"green\",\"red\",\"blue\",\"purple\"]\n",
    "plt.figure(figsize=(10,3))\n",
    "\n",
    "plt.subplot(131)\n",
    "plt.bar(name, values, color=color)\n",
    "plt.title('Chest pain')\n",
    "plt.show()\n",
    "heart_data['cp'].describe()"
   ]
  },
  {
   "cell_type": "code",
   "execution_count": 15,
   "metadata": {},
   "outputs": [
    {
     "name": "stdout",
     "output_type": "stream",
     "text": [
      "fbs\n",
      "0    258\n",
      "1     45\n",
      "Name: age, dtype: int64\n"
     ]
    }
   ],
   "source": [
    "#Analysing Fasting blood sugar feature\n",
    "data1=heart_data.groupby('fbs')\n",
    "chart=data1['age'].count()\n",
    "print(chart)\n"
   ]
  },
  {
   "cell_type": "code",
   "execution_count": 16,
   "metadata": {},
   "outputs": [
    {
     "data": {
      "image/png": "[encoded data removed]",
      "text/plain": [
       "<Figure size 1000x300 with 1 Axes>"
      ]
     },
     "metadata": {},
     "output_type": "display_data"
    }
   ],
   "source": [
    "%matplotlib inline\n",
    "name= ['0','1' ]\n",
    "values=[258, 45]\n",
    "color = [\"green\",\"red\"]\n",
    "plt.figure(figsize=(10,3))\n",
    "\n",
    "plt.subplot(131)\n",
    "plt.bar(name, values, color=color)\n",
    "plt.title(\"Fasting blood sugar\")\n",
    "plt.show()"
   ]
  },
  {
   "cell_type": "code",
   "execution_count": 17,
   "metadata": {},
   "outputs": [
    {
     "data": {
      "text/plain": [
       "thalach\n",
       "71     1\n",
       "88     1\n",
       "90     1\n",
       "95     1\n",
       "96     2\n",
       "      ..\n",
       "190    1\n",
       "192    1\n",
       "194    1\n",
       "195    1\n",
       "202    1\n",
       "Name: age, Length: 91, dtype: int64"
      ]
     },
     "execution_count": 17,
     "metadata": {},
     "output_type": "execute_result"
    }
   ],
   "source": [
    "#Analysing Maximum heart rate achieved  feature\n",
    "data1=heart_data.groupby('thalach')\n",
    "chart=data1['age'].count()\n",
    "df=pd.DataFrame(chart)\n",
    "chart\n"
   ]
  },
  {
   "cell_type": "code",
   "execution_count": 18,
   "metadata": {},
   "outputs": [
    {
     "data": {
      "text/plain": [
       "exang\n",
       "0    204\n",
       "1     99\n",
       "Name: age, dtype: int64"
      ]
     },
     "execution_count": 18,
     "metadata": {},
     "output_type": "execute_result"
    }
   ],
   "source": [
    "#Analysing Exercise-induced angina feature\n",
    "data1=heart_data.groupby('exang')\n",
    "chart=data1['age'].count()\n",
    "df=pd.DataFrame(chart)\n",
    "chart"
   ]
  },
  {
   "cell_type": "code",
   "execution_count": 19,
   "metadata": {},
   "outputs": [
    {
     "data": {
      "image/png": "[encoded data removed]",
      "text/plain": [
       "<Figure size 1000x300 with 1 Axes>"
      ]
     },
     "metadata": {},
     "output_type": "display_data"
    }
   ],
   "source": [
    "name= ['0','1' ]\n",
    "values=[204, 99]\n",
    "color = [\"green\",\"red\"]\n",
    "plt.figure(figsize=(10,3))\n",
    "\n",
    "plt.subplot(131)\n",
    "plt.bar(name, values, color=color)\n",
    "plt.title(\"exang\")\n",
    "plt.show()"
   ]
  },
  {
   "cell_type": "code",
   "execution_count": 20,
   "metadata": {},
   "outputs": [
    {
     "data": {
      "text/plain": [
       "thal\n",
       "0      2\n",
       "1     18\n",
       "2    166\n",
       "3    117\n",
       "Name: age, dtype: int64"
      ]
     },
     "execution_count": 20,
     "metadata": {},
     "output_type": "execute_result"
    }
   ],
   "source": [
    "#Analysing thalssemia feature\n",
    "data1=heart_data.groupby('thal')\n",
    "chart=data1['age'].count()\n",
    "df=pd.DataFrame(chart)\n",
    "chart"
   ]
  },
  {
   "cell_type": "code",
   "execution_count": 21,
   "metadata": {},
   "outputs": [
    {
     "data": {
      "image/png": "[encoded data removed]",
      "text/plain": [
       "<Figure size 1000x300 with 1 Axes>"
      ]
     },
     "metadata": {},
     "output_type": "display_data"
    },
    {
     "data": {
      "text/plain": [
       "count    303.000000\n",
       "mean       2.313531\n",
       "std        0.612277\n",
       "min        0.000000\n",
       "25%        2.000000\n",
       "50%        2.000000\n",
       "75%        3.000000\n",
       "max        3.000000\n",
       "Name: thal, dtype: float64"
      ]
     },
     "execution_count": 21,
     "metadata": {},
     "output_type": "execute_result"
    }
   ],
   "source": [
    "name= ['0','1','2','3' ]\n",
    "values=[2,18,166,117]\n",
    "color = [\"green\",\"red\",\"blue\",\"purple\"]\n",
    "plt.figure(figsize=(10,3))\n",
    "\n",
    "plt.subplot(131)\n",
    "plt.bar(name, values, color=color)\n",
    "plt.title('Thalassemia')\n",
    "plt.show()\n",
    "heart_data['thal'].describe()"
   ]
  },
  {
   "attachments": {},
   "cell_type": "markdown",
   "metadata": {
    "id": "tW8i4igjtPRC"
   },
   "source": [
    "### Splitting the Features and Target"
   ]
  },
  {
   "cell_type": "code",
   "execution_count": 22,
   "metadata": {
    "id": "Q6yfbswrs7m3"
   },
   "outputs": [],
   "source": [
    "X = heart_data.drop(columns='target', axis=1)\n",
    "Y = heart_data['target']"
   ]
  },
  {
   "cell_type": "code",
   "execution_count": 23,
   "metadata": {
    "colab": {
     "base_uri": "https://localhost:8080/"
    },
    "id": "XJoCp4ZKtpZy",
    "outputId": "549bc077-393d-4763-f64f-3d2e5faa0c7f"
   },
   "outputs": [
    {
     "name": "stdout",
     "output_type": "stream",
     "text": [
      "     age  sex  cp  trestbps  chol  fbs  restecg  thalach  exang  oldpeak  \\\n",
      "0     63    1   3       145   233    1        0      150      0      2.3   \n",
      "1     37    1   2       130   250    0        1      187      0      3.5   \n",
      "2     41    0   1       130   204    0        0      172      0      1.4   \n",
      "3     56    1   1       120   236    0        1      178      0      0.8   \n",
      "4     57    0   0       120   354    0        1      163      1      0.6   \n",
      "..   ...  ...  ..       ...   ...  ...      ...      ...    ...      ...   \n",
      "298   57    0   0       140   241    0        1      123      1      0.2   \n",
      "299   45    1   3       110   264    0        1      132      0      1.2   \n",
      "300   68    1   0       144   193    1        1      141      0      3.4   \n",
      "301   57    1   0       130   131    0        1      115      1      1.2   \n",
      "302   57    0   1       130   236    0        0      174      0      0.0   \n",
      "\n",
      "     slope  ca  thal  \n",
      "0        0   0     1  \n",
      "1        0   0     2  \n",
      "2        2   0     2  \n",
      "3        2   0     2  \n",
      "4        2   0     2  \n",
      "..     ...  ..   ...  \n",
      "298      1   0     3  \n",
      "299      1   0     3  \n",
      "300      1   2     3  \n",
      "301      1   1     3  \n",
      "302      1   1     2  \n",
      "\n",
      "[303 rows x 13 columns]\n"
     ]
    }
   ],
   "source": [
    "print(X)"
   ]
  },
  {
   "cell_type": "code",
   "execution_count": 24,
   "metadata": {
    "colab": {
     "base_uri": "https://localhost:8080/"
    },
    "id": "nukuj-YItq1w",
    "outputId": "7c604a47-1690-4db4-fec7-bed3e9497428"
   },
   "outputs": [
    {
     "name": "stdout",
     "output_type": "stream",
     "text": [
      "0      1\n",
      "1      1\n",
      "2      1\n",
      "3      1\n",
      "4      1\n",
      "      ..\n",
      "298    0\n",
      "299    0\n",
      "300    0\n",
      "301    0\n",
      "302    0\n",
      "Name: target, Length: 303, dtype: int64\n"
     ]
    }
   ],
   "source": [
    "print(Y)"
   ]
  },
  {
   "attachments": {},
   "cell_type": "markdown",
   "metadata": {
    "id": "_EcjSE3Et18n"
   },
   "source": [
    "Splitting the Data into Training data & Test Data"
   ]
  },
  {
   "cell_type": "code",
   "execution_count": 25,
   "metadata": {
    "id": "a-UUfRUxtuga"
   },
   "outputs": [],
   "source": [
    "X_train, X_test, Y_train, Y_test = train_test_split(X, Y, test_size=0.2, stratify=Y, random_state=2)"
   ]
  },
  {
   "cell_type": "code",
   "execution_count": 26,
   "metadata": {
    "colab": {
     "base_uri": "https://localhost:8080/"
    },
    "id": "x7PrjC6zuf6X",
    "outputId": "f2d66421-d671-4475-a51c-b37de3a2edac"
   },
   "outputs": [
    {
     "name": "stdout",
     "output_type": "stream",
     "text": [
      "(303, 13) (242, 13) (61, 13)\n"
     ]
    }
   ],
   "source": [
    "print(X.shape, X_train.shape, X_test.shape)"
   ]
  },
  {
   "attachments": {},
   "cell_type": "markdown",
   "metadata": {
    "id": "beSkZmpVuvn9"
   },
   "source": [
    "# Model Training"
   ]
  },
  {
   "attachments": {},
   "cell_type": "markdown",
   "metadata": {
    "id": "gi2NOWZjuxzw"
   },
   "source": [
    "## Logistic Regression"
   ]
  },
  {
   "cell_type": "code",
   "execution_count": 27,
   "metadata": {
    "id": "4-Md74FYuqNL"
   },
   "outputs": [
    {
     "name": "stderr",
     "output_type": "stream",
     "text": [
      "c:\\Users\\SAYAN\\AppData\\Local\\Programs\\Python\\Python311\\Lib\\site-packages\\sklearn\\linear_model\\_logistic.py:458: ConvergenceWarning: lbfgs failed to converge (status=1):\n",
      "STOP: TOTAL NO. of ITERATIONS REACHED LIMIT.\n",
      "\n",
      "Increase the number of iterations (max_iter) or scale the data as shown in:\n",
      "    https://scikit-learn.org/stable/modules/preprocessing.html\n",
      "Please also refer to the documentation for alternative solver options:\n",
      "    https://scikit-learn.org/stable/modules/linear_model.html#logistic-regression\n",
      "  n_iter_i = _check_optimize_result(\n"
     ]
    },
    {
     "data": {
      "text/plain": [
       "0.0288"
      ]
     },
     "execution_count": 27,
     "metadata": {},
     "output_type": "execute_result"
    }
   ],
   "source": [
    "model_logistic = LogisticRegression()\n",
    "start_time = time.time()  # Start the timer\n",
    "# training the LogisticRegression model with Training data\n",
    "model_logistic.fit(X_train, Y_train)\n",
    "end_time = time.time()  # Stop the timer\n",
    "lr_time = round(end_time - start_time, 4)\n",
    "lr_time"
   ]
  },
  {
   "cell_type": "code",
   "execution_count": 28,
   "metadata": {
    "id": "g19JaUTMvPKy"
   },
   "outputs": [],
   "source": [
    "# accuracy on training data\n",
    "X_train_prediction = model_logistic.predict(X_train)\n",
    "training_data_accuracy_logistic = accuracy_score(X_train_prediction, Y_train)\n"
   ]
  },
  {
   "cell_type": "code",
   "execution_count": 29,
   "metadata": {
    "colab": {
     "base_uri": "https://localhost:8080/"
    },
    "id": "uQBZvBh8v7R_",
    "outputId": "e798e765-9f84-43e2-d3a0-f0fea3192ac2"
   },
   "outputs": [
    {
     "name": "stdout",
     "output_type": "stream",
     "text": [
      "Accuracy on Training data :  0.8512396694214877\n"
     ]
    }
   ],
   "source": [
    "print('Accuracy on Training data : ', training_data_accuracy_logistic)"
   ]
  },
  {
   "cell_type": "code",
   "execution_count": 30,
   "metadata": {
    "id": "mDONDJdlwBIO"
   },
   "outputs": [],
   "source": [
    "# accuracy on test data\n",
    "X_test_prediction = model_logistic.predict(X_test)\n",
    "test_data_accuracy_logistic = accuracy_score(X_test_prediction, Y_test)"
   ]
  },
  {
   "cell_type": "code",
   "execution_count": 31,
   "metadata": {
    "colab": {
     "base_uri": "https://localhost:8080/"
    },
    "id": "_MBS-OqdwYpf",
    "outputId": "a2f5bd57-7135-47c2-c8f2-01f1823ad66a"
   },
   "outputs": [
    {
     "name": "stdout",
     "output_type": "stream",
     "text": [
      "Accuracy on Test data :  0.819672131147541\n"
     ]
    }
   ],
   "source": [
    "print('Accuracy on Test data : ', test_data_accuracy_logistic)"
   ]
  },
  {
   "cell_type": "code",
   "execution_count": 32,
   "metadata": {},
   "outputs": [
    {
     "data": {
      "text/plain": [
       "<BarContainer object of 2 artists>"
      ]
     },
     "execution_count": 32,
     "metadata": {},
     "output_type": "execute_result"
    },
    {
     "data": {
      "image/png": "[encoded data removed]",
      "text/plain": [
       "<Figure size 1500x300 with 1 Axes>"
      ]
     },
     "metadata": {},
     "output_type": "display_data"
    }
   ],
   "source": [
    "#accuracy difference between test data and train data\n",
    "names = ['Test data accuracy', 'Training data accuracy']\n",
    "values = [test_data_accuracy_logistic, training_data_accuracy_logistic]\n",
    "\n",
    "plt.figure(figsize=(15,3))\n",
    "color=['red', 'blue']\n",
    "plt.subplot(131)\n",
    "plt.bar(names, values, color=color)"
   ]
  },
  {
   "cell_type": "code",
   "execution_count": 33,
   "metadata": {},
   "outputs": [
    {
     "data": {
      "text/html": [
       "<div>\n",
       "<style scoped>\n",
       "    .dataframe tbody tr th:only-of-type {\n",
       "        vertical-align: middle;\n",
       "    }\n",
       "\n",
       "    .dataframe tbody tr th {\n",
       "        vertical-align: top;\n",
       "    }\n",
       "\n",
       "    .dataframe thead th {\n",
       "        text-align: right;\n",
       "    }\n",
       "</style>\n",
       "<table border=\"1\" class=\"dataframe\">\n",
       "  <thead>\n",
       "    <tr style=\"text-align: right;\">\n",
       "      <th></th>\n",
       "      <th>Predicted Negative</th>\n",
       "      <th>Predicted Positive</th>\n",
       "    </tr>\n",
       "  </thead>\n",
       "  <tbody>\n",
       "    <tr>\n",
       "      <th>Actual Negative</th>\n",
       "      <td>23</td>\n",
       "      <td>5</td>\n",
       "    </tr>\n",
       "    <tr>\n",
       "      <th>Actual Positive</th>\n",
       "      <td>6</td>\n",
       "      <td>27</td>\n",
       "    </tr>\n",
       "  </tbody>\n",
       "</table>\n",
       "</div>"
      ],
      "text/plain": [
       "                 Predicted Negative  Predicted Positive\n",
       "Actual Negative                  23                   5\n",
       "Actual Positive                   6                  27"
      ]
     },
     "execution_count": 33,
     "metadata": {},
     "output_type": "execute_result"
    }
   ],
   "source": [
    "# Creating the confusion matrix\n",
    "cm = metrics.confusion_matrix(Y_test,X_test_prediction)\n",
    "# Assigning columns names\n",
    "cm_df = pd.DataFrame(cm, \n",
    "            columns = ['Predicted Negative', 'Predicted Positive'],\n",
    "            index = ['Actual Negative', 'Actual Positive'])\n",
    "# Showing the confusion matrix\n",
    "cm_df"
   ]
  },
  {
   "cell_type": "code",
   "execution_count": 34,
   "metadata": {},
   "outputs": [
    {
     "name": "stdout",
     "output_type": "stream",
     "text": [
      "True Positives: 27\n",
      "True Negatives: 23\n",
      "False Positives: 5\n",
      "False Negatives: 6\n"
     ]
    }
   ],
   "source": [
    "# save confusion matrix and slice into four pieces\n",
    "TP_lr = cm[1][1]\n",
    "TN_lr = cm[0][0]\n",
    "FP_lr = cm[0][1]\n",
    "FN_lr = cm[1][0]\n",
    "print('True Positives:', TP_lr)\n",
    "print('True Negatives:', TN_lr)\n",
    "print('False Positives:', FP_lr)\n",
    "print('False Negatives:', FN_lr) "
   ]
  },
  {
   "cell_type": "code",
   "execution_count": 35,
   "metadata": {},
   "outputs": [],
   "source": [
    "# calculate the sensitivity\n",
    "conf_sensitivity_lr = (TP_lr / float(TP_lr + FN_lr))"
   ]
  },
  {
   "cell_type": "code",
   "execution_count": 36,
   "metadata": {},
   "outputs": [],
   "source": [
    "# calculate the specificity\n",
    "conf_specificity_lr = (TN_lr / float(TN_lr + FP_lr))"
   ]
  },
  {
   "cell_type": "code",
   "execution_count": 37,
   "metadata": {},
   "outputs": [],
   "source": [
    "# calculate precision\n",
    "conf_precision_lr = (TN_lr / float(TN_lr + FP_lr))"
   ]
  },
  {
   "cell_type": "code",
   "execution_count": 38,
   "metadata": {},
   "outputs": [],
   "source": [
    "# calculate f_1 score\n",
    "conf_f1_lr = 2 * ((conf_precision_lr * conf_sensitivity_lr) / (conf_precision_lr + conf_sensitivity_lr))"
   ]
  },
  {
   "cell_type": "code",
   "execution_count": 39,
   "metadata": {},
   "outputs": [
    {
     "name": "stdout",
     "output_type": "stream",
     "text": [
      "Sensitivity: 0.8181818181818182\n",
      "Specificity: 0.8214285714285714\n",
      "Precision: 0.8214285714285714\n",
      "f_1 Score: 0.8198019801980199\n"
     ]
    }
   ],
   "source": [
    "print(f'Sensitivity: {conf_sensitivity_lr}') \n",
    "print(f'Specificity: {conf_specificity_lr}') \n",
    "print(f'Precision: {conf_precision_lr}')\n",
    "print(f'f_1 Score: {conf_f1_lr}')"
   ]
  },
  {
   "cell_type": "code",
   "execution_count": null,
   "metadata": {
    "colab": {
     "base_uri": "https://localhost:8080/"
    },
    "id": "9ercruC9wb4C",
    "outputId": "6a7f8964-d7c5-4a54-bb76-ef18f2add04a"
   },
   "outputs": [],
   "source": []
  },
  {
   "attachments": {},
   "cell_type": "markdown",
   "metadata": {},
   "source": [
    "## XG Boost"
   ]
  },
  {
   "cell_type": "code",
   "execution_count": 40,
   "metadata": {},
   "outputs": [
    {
     "data": {
      "text/plain": [
       "0.1071"
      ]
     },
     "execution_count": 40,
     "metadata": {},
     "output_type": "execute_result"
    }
   ],
   "source": [
    "xgb_model = xgb.XGBClassifier(objective=\"binary:logistic\", random_state=42)\n",
    "start_time = time.time()  # Start the timer\n",
    "#training the xgb model with the train data\n",
    "xgb_model.fit(X_train, Y_train)\n",
    "end_time = time.time()  # Stop the timer\n",
    "xgb_time = round(end_time - start_time, 4)\n",
    "xgb_time"
   ]
  },
  {
   "cell_type": "code",
   "execution_count": 41,
   "metadata": {},
   "outputs": [],
   "source": [
    "# accuracy on train data \n",
    "X_train_prediction_xgb = xgb_model.predict(X_train)\n",
    "training_data_accuracy_xgb = accuracy_score(X_train_prediction_xgb, Y_train)"
   ]
  },
  {
   "cell_type": "code",
   "execution_count": 42,
   "metadata": {},
   "outputs": [
    {
     "name": "stdout",
     "output_type": "stream",
     "text": [
      "Accuracy on Training data :  1.0\n"
     ]
    }
   ],
   "source": [
    "print('Accuracy on Training data : ', training_data_accuracy_xgb)"
   ]
  },
  {
   "cell_type": "code",
   "execution_count": 43,
   "metadata": {},
   "outputs": [],
   "source": [
    "#accuracy on train data\n",
    "X_test_prediction_xgb = xgb_model.predict(X_test)\n",
    "test_data_accuracy_xgb = accuracy_score(X_test_prediction_xgb, Y_test)"
   ]
  },
  {
   "cell_type": "code",
   "execution_count": 44,
   "metadata": {},
   "outputs": [
    {
     "name": "stdout",
     "output_type": "stream",
     "text": [
      "Accuracy on Test data :  0.7704918032786885\n"
     ]
    }
   ],
   "source": [
    "print('Accuracy on Test data : ', test_data_accuracy_xgb)"
   ]
  },
  {
   "cell_type": "code",
   "execution_count": 45,
   "metadata": {},
   "outputs": [
    {
     "data": {
      "text/plain": [
       "<BarContainer object of 2 artists>"
      ]
     },
     "execution_count": 45,
     "metadata": {},
     "output_type": "execute_result"
    },
    {
     "data": {
      "image/png": "[encoded data removed]",
      "text/plain": [
       "<Figure size 1500x300 with 1 Axes>"
      ]
     },
     "metadata": {},
     "output_type": "display_data"
    }
   ],
   "source": [
    "#accuracy difference between test data and train data\n",
    "names = ['Test data accuracy', 'Training data accuracy']\n",
    "values = [test_data_accuracy_xgb, training_data_accuracy_xgb]\n",
    "\n",
    "plt.figure(figsize=(15,3))\n",
    "color=['red', 'blue']\n",
    "plt.subplot(131)\n",
    "plt.bar(names, values, color=color)"
   ]
  },
  {
   "cell_type": "code",
   "execution_count": 46,
   "metadata": {},
   "outputs": [
    {
     "data": {
      "text/html": [
       "<div>\n",
       "<style scoped>\n",
       "    .dataframe tbody tr th:only-of-type {\n",
       "        vertical-align: middle;\n",
       "    }\n",
       "\n",
       "    .dataframe tbody tr th {\n",
       "        vertical-align: top;\n",
       "    }\n",
       "\n",
       "    .dataframe thead th {\n",
       "        text-align: right;\n",
       "    }\n",
       "</style>\n",
       "<table border=\"1\" class=\"dataframe\">\n",
       "  <thead>\n",
       "    <tr style=\"text-align: right;\">\n",
       "      <th></th>\n",
       "      <th>Predicted Negative</th>\n",
       "      <th>Predicted Positive</th>\n",
       "    </tr>\n",
       "  </thead>\n",
       "  <tbody>\n",
       "    <tr>\n",
       "      <th>Actual Negative</th>\n",
       "      <td>21</td>\n",
       "      <td>7</td>\n",
       "    </tr>\n",
       "    <tr>\n",
       "      <th>Actual Positive</th>\n",
       "      <td>7</td>\n",
       "      <td>26</td>\n",
       "    </tr>\n",
       "  </tbody>\n",
       "</table>\n",
       "</div>"
      ],
      "text/plain": [
       "                 Predicted Negative  Predicted Positive\n",
       "Actual Negative                  21                   7\n",
       "Actual Positive                   7                  26"
      ]
     },
     "execution_count": 46,
     "metadata": {},
     "output_type": "execute_result"
    }
   ],
   "source": [
    "# Creating the confusion matrix\n",
    "cm = metrics.confusion_matrix(Y_test,X_test_prediction_xgb)\n",
    "# Assigning columns names\n",
    "cm_df = pd.DataFrame(cm, \n",
    "            columns = ['Predicted Negative', 'Predicted Positive'],\n",
    "            index = ['Actual Negative', 'Actual Positive'])\n",
    "# Showing the confusion matrix\n",
    "cm_df"
   ]
  },
  {
   "cell_type": "code",
   "execution_count": 47,
   "metadata": {},
   "outputs": [
    {
     "name": "stdout",
     "output_type": "stream",
     "text": [
      "True Positives: 26\n",
      "True Negatives: 21\n",
      "False Positives: 7\n",
      "False Negatives: 7\n"
     ]
    }
   ],
   "source": [
    "# save confusion matrix and slice into four pieces\n",
    "TP_xgb = cm[1][1]\n",
    "TN_xgb = cm[0][0]\n",
    "FP_xgb = cm[0][1]\n",
    "FN_xgb = cm[1][0]\n",
    "print('True Positives:', TP_xgb)\n",
    "print('True Negatives:', TN_xgb)\n",
    "print('False Positives:', FP_xgb)\n",
    "print('False Negatives:', FN_xgb) "
   ]
  },
  {
   "cell_type": "code",
   "execution_count": 48,
   "metadata": {},
   "outputs": [],
   "source": [
    "# calculate the sensitivity\n",
    "conf_sensitivity_xgb = (TP_xgb / float(TP_xgb + FN_xgb))"
   ]
  },
  {
   "cell_type": "code",
   "execution_count": 49,
   "metadata": {},
   "outputs": [],
   "source": [
    "# calculate the specificity\n",
    "conf_specificity_xgb = (TN_xgb / float(TN_xgb + FP_xgb))"
   ]
  },
  {
   "cell_type": "code",
   "execution_count": 50,
   "metadata": {},
   "outputs": [],
   "source": [
    "# calculate precision\n",
    "conf_precision_xgb = (TN_xgb / float(TN_xgb + FP_xgb))"
   ]
  },
  {
   "cell_type": "code",
   "execution_count": 51,
   "metadata": {},
   "outputs": [],
   "source": [
    "# calculate f_1 score\n",
    "conf_f1_xgb = 2 * ((conf_precision_xgb * conf_sensitivity_xgb) / (conf_precision_xgb + conf_sensitivity_xgb))"
   ]
  },
  {
   "cell_type": "code",
   "execution_count": 52,
   "metadata": {},
   "outputs": [
    {
     "name": "stdout",
     "output_type": "stream",
     "text": [
      "Sensitivity: 0.7878787878787878\n",
      "Specificity: 0.75\n",
      "Precision: 0.75\n",
      "f_1 Score: 0.7684729064039408\n"
     ]
    }
   ],
   "source": [
    "print(f'Sensitivity: {conf_sensitivity_xgb}') \n",
    "print(f'Specificity: {conf_specificity_xgb}') \n",
    "print(f'Precision: {conf_precision_xgb}')\n",
    "print(f'f_1 Score: {conf_f1_xgb}')"
   ]
  },
  {
   "attachments": {},
   "cell_type": "markdown",
   "metadata": {},
   "source": [
    "## SVM"
   ]
  },
  {
   "cell_type": "code",
   "execution_count": 53,
   "metadata": {},
   "outputs": [
    {
     "data": {
      "text/plain": [
       "0.3559"
      ]
     },
     "execution_count": 53,
     "metadata": {},
     "output_type": "execute_result"
    }
   ],
   "source": [
    "svm_model = svm.SVC(kernel='linear')\n",
    "start_time = time.time()  # Start the timer\n",
    "#training svm model with train data\n",
    "svm_model.fit(X_train, Y_train)\n",
    "end_time = time.time()  # stop the timer\n",
    "svm_time = round(end_time - start_time, 4)\n",
    "svm_time"
   ]
  },
  {
   "cell_type": "code",
   "execution_count": 54,
   "metadata": {},
   "outputs": [],
   "source": [
    "#accuracy on train data\n",
    "X_train_prediction_svm = svm_model.predict(X_train)\n",
    "training_data_accuracy_svm = accuracy_score(X_train_prediction_svm, Y_train)"
   ]
  },
  {
   "cell_type": "code",
   "execution_count": 55,
   "metadata": {},
   "outputs": [
    {
     "name": "stdout",
     "output_type": "stream",
     "text": [
      "Accuracy on Training data :  0.8553719008264463\n"
     ]
    }
   ],
   "source": [
    "print('Accuracy on Training data : ', training_data_accuracy_svm)"
   ]
  },
  {
   "cell_type": "code",
   "execution_count": 56,
   "metadata": {},
   "outputs": [],
   "source": [
    "#accuracy on test data\n",
    "X_test_prediction_svm = svm_model.predict(X_test)\n",
    "test_data_accuracy_svm = accuracy_score(X_test_prediction_svm, Y_test)"
   ]
  },
  {
   "cell_type": "code",
   "execution_count": 57,
   "metadata": {},
   "outputs": [
    {
     "name": "stdout",
     "output_type": "stream",
     "text": [
      "Accuracy on Test data :  0.819672131147541\n"
     ]
    }
   ],
   "source": [
    "print('Accuracy on Test data : ', test_data_accuracy_svm)"
   ]
  },
  {
   "cell_type": "code",
   "execution_count": 58,
   "metadata": {},
   "outputs": [
    {
     "data": {
      "text/plain": [
       "<BarContainer object of 2 artists>"
      ]
     },
     "execution_count": 58,
     "metadata": {},
     "output_type": "execute_result"
    },
    {
     "data": {
      "image/png": "[encoded data removed]",
      "text/plain": [
       "<Figure size 1500x300 with 1 Axes>"
      ]
     },
     "metadata": {},
     "output_type": "display_data"
    }
   ],
   "source": [
    "#accuracy difference between test data and train data\n",
    "names = ['Test data accuracy', 'Training data accuracy']\n",
    "values = [test_data_accuracy_svm, training_data_accuracy_svm]\n",
    "\n",
    "plt.figure(figsize=(15,3))\n",
    "color=['red', 'blue']\n",
    "plt.subplot(131)\n",
    "plt.bar(names, values, color=color)"
   ]
  },
  {
   "cell_type": "code",
   "execution_count": 59,
   "metadata": {},
   "outputs": [
    {
     "data": {
      "text/html": [
       "<div>\n",
       "<style scoped>\n",
       "    .dataframe tbody tr th:only-of-type {\n",
       "        vertical-align: middle;\n",
       "    }\n",
       "\n",
       "    .dataframe tbody tr th {\n",
       "        vertical-align: top;\n",
       "    }\n",
       "\n",
       "    .dataframe thead th {\n",
       "        text-align: right;\n",
       "    }\n",
       "</style>\n",
       "<table border=\"1\" class=\"dataframe\">\n",
       "  <thead>\n",
       "    <tr style=\"text-align: right;\">\n",
       "      <th></th>\n",
       "      <th>Predicted Negative</th>\n",
       "      <th>Predicted Positive</th>\n",
       "    </tr>\n",
       "  </thead>\n",
       "  <tbody>\n",
       "    <tr>\n",
       "      <th>Actual Negative</th>\n",
       "      <td>21</td>\n",
       "      <td>7</td>\n",
       "    </tr>\n",
       "    <tr>\n",
       "      <th>Actual Positive</th>\n",
       "      <td>4</td>\n",
       "      <td>29</td>\n",
       "    </tr>\n",
       "  </tbody>\n",
       "</table>\n",
       "</div>"
      ],
      "text/plain": [
       "                 Predicted Negative  Predicted Positive\n",
       "Actual Negative                  21                   7\n",
       "Actual Positive                   4                  29"
      ]
     },
     "execution_count": 59,
     "metadata": {},
     "output_type": "execute_result"
    }
   ],
   "source": [
    "# Creating the confusion matrix\n",
    "cm = metrics.confusion_matrix(Y_test,X_test_prediction_svm)\n",
    "# Assigning columns names\n",
    "cm_df = pd.DataFrame(cm, \n",
    "            columns = ['Predicted Negative', 'Predicted Positive'],\n",
    "            index = ['Actual Negative', 'Actual Positive'])\n",
    "# Showing the confusion matrix\n",
    "cm_df"
   ]
  },
  {
   "cell_type": "code",
   "execution_count": 60,
   "metadata": {},
   "outputs": [
    {
     "name": "stdout",
     "output_type": "stream",
     "text": [
      "True Positives: 29\n",
      "True Negatives: 21\n",
      "False Positives: 7\n",
      "False Negatives: 4\n"
     ]
    }
   ],
   "source": [
    "# save confusion matrix and slice into four pieces\n",
    "TP_svm = cm[1][1]\n",
    "TN_svm = cm[0][0]\n",
    "FP_svm = cm[0][1]\n",
    "FN_svm = cm[1][0]\n",
    "print('True Positives:', TP_svm)\n",
    "print('True Negatives:', TN_svm)\n",
    "print('False Positives:', FP_svm)\n",
    "print('False Negatives:', FN_svm) "
   ]
  },
  {
   "cell_type": "code",
   "execution_count": 61,
   "metadata": {},
   "outputs": [],
   "source": [
    "# calculate the sensitivity\n",
    "conf_sensitivity_svm = (TP_svm / float(TP_svm + FN_svm))"
   ]
  },
  {
   "cell_type": "code",
   "execution_count": 62,
   "metadata": {},
   "outputs": [],
   "source": [
    "# calculate the specificity\n",
    "conf_specificity_svm = (TN_svm / float(TN_svm + FP_svm))"
   ]
  },
  {
   "cell_type": "code",
   "execution_count": 63,
   "metadata": {},
   "outputs": [],
   "source": [
    "# calculate precision\n",
    "conf_precision_svm = (TN_svm / float(TN_svm + FP_svm))"
   ]
  },
  {
   "cell_type": "code",
   "execution_count": 64,
   "metadata": {},
   "outputs": [],
   "source": [
    "# calculate f_1 score\n",
    "conf_f1_svm = 2 * ((conf_precision_svm * conf_sensitivity_svm) / (conf_precision_svm + conf_sensitivity_svm))"
   ]
  },
  {
   "cell_type": "code",
   "execution_count": 65,
   "metadata": {},
   "outputs": [
    {
     "name": "stdout",
     "output_type": "stream",
     "text": [
      "Sensitivity: 0.8787878787878788\n",
      "Specificity: 0.75\n",
      "Precision: 0.75\n",
      "f_1 Score: 0.8093023255813953\n"
     ]
    }
   ],
   "source": [
    "print(f'Sensitivity: {conf_sensitivity_svm}') \n",
    "print(f'Specificity: {conf_specificity_svm}') \n",
    "print(f'Precision: {conf_precision_svm}')\n",
    "print(f'f_1 Score: {conf_f1_svm}')"
   ]
  },
  {
   "attachments": {},
   "cell_type": "markdown",
   "metadata": {},
   "source": [
    "## KN Neighbors"
   ]
  },
  {
   "cell_type": "code",
   "execution_count": 66,
   "metadata": {},
   "outputs": [
    {
     "data": {
      "text/plain": [
       "0.007"
      ]
     },
     "execution_count": 66,
     "metadata": {},
     "output_type": "execute_result"
    }
   ],
   "source": [
    "knn_model=KNeighborsClassifier(n_neighbors=7)\n",
    "start_time = time.time()  # Start the timer\n",
    "#train the kn neighbors model with train data\n",
    "knn_model.fit(X_train, Y_train)\n",
    "end_time = time.time()  # stop the timer\n",
    "knn_time = round(end_time - start_time, 4)\n",
    "knn_time"
   ]
  },
  {
   "cell_type": "code",
   "execution_count": 67,
   "metadata": {},
   "outputs": [],
   "source": [
    "#accuracy on train data\n",
    "X_train_prediction_knn = knn_model.predict(X_train)\n",
    "training_data_accuracy_knn = accuracy_score(X_train_prediction_knn, Y_train)"
   ]
  },
  {
   "cell_type": "code",
   "execution_count": 68,
   "metadata": {},
   "outputs": [
    {
     "name": "stdout",
     "output_type": "stream",
     "text": [
      "Accuracy on Training data :  0.7603305785123967\n"
     ]
    }
   ],
   "source": [
    "print('Accuracy on Training data : ', training_data_accuracy_knn)"
   ]
  },
  {
   "cell_type": "code",
   "execution_count": 69,
   "metadata": {},
   "outputs": [],
   "source": [
    "#accuracy on test data\n",
    "X_test_prediction_knn = knn_model.predict(X_test)\n",
    "test_data_accuracy_knn = accuracy_score(X_test_prediction_knn, Y_test)"
   ]
  },
  {
   "cell_type": "code",
   "execution_count": 70,
   "metadata": {},
   "outputs": [
    {
     "name": "stdout",
     "output_type": "stream",
     "text": [
      "Accuracy on Test data :  0.6065573770491803\n"
     ]
    }
   ],
   "source": [
    "print('Accuracy on Test data : ', test_data_accuracy_knn)"
   ]
  },
  {
   "cell_type": "code",
   "execution_count": 71,
   "metadata": {},
   "outputs": [
    {
     "data": {
      "text/plain": [
       "<BarContainer object of 2 artists>"
      ]
     },
     "execution_count": 71,
     "metadata": {},
     "output_type": "execute_result"
    },
    {
     "data": {
      "image/png": "[encoded data removed]",
      "text/plain": [
       "<Figure size 1500x300 with 1 Axes>"
      ]
     },
     "metadata": {},
     "output_type": "display_data"
    }
   ],
   "source": [
    "#accuracy difference between test data and train data\n",
    "names = ['Test data accuracy', 'Training data accuracy']\n",
    "values = [test_data_accuracy_knn, training_data_accuracy_knn]\n",
    "\n",
    "plt.figure(figsize=(15,3))\n",
    "color=['red', 'blue']\n",
    "plt.subplot(131)\n",
    "plt.bar(names, values, color=color)"
   ]
  },
  {
   "cell_type": "code",
   "execution_count": 72,
   "metadata": {},
   "outputs": [
    {
     "data": {
      "text/html": [
       "<div>\n",
       "<style scoped>\n",
       "    .dataframe tbody tr th:only-of-type {\n",
       "        vertical-align: middle;\n",
       "    }\n",
       "\n",
       "    .dataframe tbody tr th {\n",
       "        vertical-align: top;\n",
       "    }\n",
       "\n",
       "    .dataframe thead th {\n",
       "        text-align: right;\n",
       "    }\n",
       "</style>\n",
       "<table border=\"1\" class=\"dataframe\">\n",
       "  <thead>\n",
       "    <tr style=\"text-align: right;\">\n",
       "      <th></th>\n",
       "      <th>Predicted Negative</th>\n",
       "      <th>Predicted Positive</th>\n",
       "    </tr>\n",
       "  </thead>\n",
       "  <tbody>\n",
       "    <tr>\n",
       "      <th>Actual Negative</th>\n",
       "      <td>14</td>\n",
       "      <td>14</td>\n",
       "    </tr>\n",
       "    <tr>\n",
       "      <th>Actual Positive</th>\n",
       "      <td>10</td>\n",
       "      <td>23</td>\n",
       "    </tr>\n",
       "  </tbody>\n",
       "</table>\n",
       "</div>"
      ],
      "text/plain": [
       "                 Predicted Negative  Predicted Positive\n",
       "Actual Negative                  14                  14\n",
       "Actual Positive                  10                  23"
      ]
     },
     "execution_count": 72,
     "metadata": {},
     "output_type": "execute_result"
    }
   ],
   "source": [
    "# Creating the confusion matrix\n",
    "cm = metrics.confusion_matrix(Y_test,X_test_prediction_knn)\n",
    "# Assigning columns names\n",
    "cm_df = pd.DataFrame(cm, \n",
    "            columns = ['Predicted Negative', 'Predicted Positive'],\n",
    "            index = ['Actual Negative', 'Actual Positive'])\n",
    "# Showing the confusion matrix\n",
    "cm_df"
   ]
  },
  {
   "cell_type": "code",
   "execution_count": 73,
   "metadata": {},
   "outputs": [
    {
     "name": "stdout",
     "output_type": "stream",
     "text": [
      "True Positives: 23\n",
      "True Negatives: 14\n",
      "False Positives: 14\n",
      "False Negatives: 10\n"
     ]
    }
   ],
   "source": [
    "# save confusion matrix and slice into four pieces\n",
    "TP_knn = cm[1][1]\n",
    "TN_knn = cm[0][0]\n",
    "FP_knn = cm[0][1]\n",
    "FN_knn = cm[1][0]\n",
    "print('True Positives:', TP_knn)\n",
    "print('True Negatives:', TN_knn)\n",
    "print('False Positives:', FP_knn)\n",
    "print('False Negatives:', FN_knn) "
   ]
  },
  {
   "cell_type": "code",
   "execution_count": 74,
   "metadata": {},
   "outputs": [],
   "source": [
    "# calculate the sensitivity\n",
    "conf_sensitivity_knn = (TP_knn / float(TP_knn + FN_knn))"
   ]
  },
  {
   "cell_type": "code",
   "execution_count": 75,
   "metadata": {},
   "outputs": [],
   "source": [
    "# calculate the specificity\n",
    "conf_specificity_knn = (TN_knn / float(TN_knn + FP_knn))"
   ]
  },
  {
   "cell_type": "code",
   "execution_count": 76,
   "metadata": {},
   "outputs": [],
   "source": [
    "# calculate precision\n",
    "conf_precision_knn = (TN_knn / float(TN_knn + FP_knn))"
   ]
  },
  {
   "cell_type": "code",
   "execution_count": 77,
   "metadata": {},
   "outputs": [],
   "source": [
    "# calculate f_1 score\n",
    "conf_f1_knn = 2 * ((conf_precision_knn * conf_sensitivity_knn) / (conf_precision_knn + conf_sensitivity_knn))"
   ]
  },
  {
   "cell_type": "code",
   "execution_count": 78,
   "metadata": {},
   "outputs": [
    {
     "name": "stdout",
     "output_type": "stream",
     "text": [
      "Sensitivity: 0.696969696969697\n",
      "Specificity: 0.5\n",
      "Precision: 0.5\n",
      "f_1 Score: 0.5822784810126582\n"
     ]
    }
   ],
   "source": [
    "print(f'Sensitivity: {conf_sensitivity_knn}') \n",
    "print(f'Specificity: {conf_specificity_knn}') \n",
    "print(f'Precision: {conf_precision_knn}')\n",
    "print(f'f_1 Score: {conf_f1_knn}')"
   ]
  },
  {
   "attachments": {},
   "cell_type": "markdown",
   "metadata": {},
   "source": [
    "## Decision Tree"
   ]
  },
  {
   "cell_type": "code",
   "execution_count": 79,
   "metadata": {},
   "outputs": [],
   "source": [
    "max_accuracy = 0\n",
    "\n",
    "\n",
    "for x in range(200):\n",
    "    dt = DecisionTreeClassifier(random_state=x)\n",
    "    dt.fit(X_train,Y_train)\n",
    "    Y_pred_dt = dt.predict(X_test)\n",
    "    current_accuracy = round(accuracy_score(Y_pred_dt,Y_test)*100,2)\n",
    "    if(current_accuracy>max_accuracy):\n",
    "        max_accuracy = current_accuracy\n",
    "        best_x = x"
   ]
  },
  {
   "cell_type": "code",
   "execution_count": 80,
   "metadata": {},
   "outputs": [
    {
     "data": {
      "text/plain": [
       "0.0042"
      ]
     },
     "execution_count": 80,
     "metadata": {},
     "output_type": "execute_result"
    }
   ],
   "source": [
    "dt_model=DecisionTreeClassifier(random_state=best_x)\n",
    "start_time = time.time()  # Start the timer\n",
    "#train the decision tree with trin data\n",
    "dt_model.fit(X_train, Y_train)\n",
    "end_time = time.time()  # stop the timer\n",
    "dt_time = round(end_time - start_time, 4)\n",
    "dt_time"
   ]
  },
  {
   "cell_type": "code",
   "execution_count": 81,
   "metadata": {},
   "outputs": [],
   "source": [
    "# accuracy on train data\n",
    "X_train_prediction_dt = dt_model.predict(X_train)\n",
    "training_data_accuracy_dt = accuracy_score(X_train_prediction_dt, Y_train)"
   ]
  },
  {
   "cell_type": "code",
   "execution_count": 82,
   "metadata": {},
   "outputs": [
    {
     "name": "stdout",
     "output_type": "stream",
     "text": [
      "Accuracy on Training data :  1.0\n"
     ]
    }
   ],
   "source": [
    "print('Accuracy on Training data : ', training_data_accuracy_dt)"
   ]
  },
  {
   "cell_type": "code",
   "execution_count": 83,
   "metadata": {},
   "outputs": [],
   "source": [
    "#accuracy on test data\n",
    "X_test_prediction_dt= dt_model.predict(X_test)\n",
    "test_data_accuracy_dt = accuracy_score(X_test_prediction_dt, Y_test)"
   ]
  },
  {
   "cell_type": "code",
   "execution_count": 84,
   "metadata": {},
   "outputs": [
    {
     "name": "stdout",
     "output_type": "stream",
     "text": [
      "Accuracy on Test data :  0.8360655737704918\n"
     ]
    }
   ],
   "source": [
    "print('Accuracy on Test data : ', test_data_accuracy_dt)"
   ]
  },
  {
   "cell_type": "code",
   "execution_count": 85,
   "metadata": {},
   "outputs": [
    {
     "data": {
      "text/plain": [
       "<BarContainer object of 2 artists>"
      ]
     },
     "execution_count": 85,
     "metadata": {},
     "output_type": "execute_result"
    },
    {
     "data": {
      "image/png": "[encoded data removed]",
      "text/plain": [
       "<Figure size 1500x300 with 1 Axes>"
      ]
     },
     "metadata": {},
     "output_type": "display_data"
    }
   ],
   "source": [
    "#accuracy difference between test data and train data\n",
    "names = ['Test data accuracy', 'Training data accuracy']\n",
    "values = [test_data_accuracy_dt, training_data_accuracy_dt]\n",
    "\n",
    "plt.figure(figsize=(15,3))\n",
    "color=['red', 'blue']\n",
    "plt.subplot(131)\n",
    "plt.bar(names, values,color=color)"
   ]
  },
  {
   "cell_type": "code",
   "execution_count": 86,
   "metadata": {},
   "outputs": [
    {
     "data": {
      "text/html": [
       "<div>\n",
       "<style scoped>\n",
       "    .dataframe tbody tr th:only-of-type {\n",
       "        vertical-align: middle;\n",
       "    }\n",
       "\n",
       "    .dataframe tbody tr th {\n",
       "        vertical-align: top;\n",
       "    }\n",
       "\n",
       "    .dataframe thead th {\n",
       "        text-align: right;\n",
       "    }\n",
       "</style>\n",
       "<table border=\"1\" class=\"dataframe\">\n",
       "  <thead>\n",
       "    <tr style=\"text-align: right;\">\n",
       "      <th></th>\n",
       "      <th>Predicted Negative</th>\n",
       "      <th>Predicted Positive</th>\n",
       "    </tr>\n",
       "  </thead>\n",
       "  <tbody>\n",
       "    <tr>\n",
       "      <th>Actual Negative</th>\n",
       "      <td>22</td>\n",
       "      <td>6</td>\n",
       "    </tr>\n",
       "    <tr>\n",
       "      <th>Actual Positive</th>\n",
       "      <td>4</td>\n",
       "      <td>29</td>\n",
       "    </tr>\n",
       "  </tbody>\n",
       "</table>\n",
       "</div>"
      ],
      "text/plain": [
       "                 Predicted Negative  Predicted Positive\n",
       "Actual Negative                  22                   6\n",
       "Actual Positive                   4                  29"
      ]
     },
     "execution_count": 86,
     "metadata": {},
     "output_type": "execute_result"
    }
   ],
   "source": [
    "# Creating the confusion matrix\n",
    "cm = metrics.confusion_matrix(Y_test,X_test_prediction_dt)\n",
    "# Assigning columns names\n",
    "cm_df = pd.DataFrame(cm, \n",
    "            columns = ['Predicted Negative', 'Predicted Positive'],\n",
    "            index = ['Actual Negative', 'Actual Positive'])\n",
    "# Showing the confusion matrix\n",
    "cm_df"
   ]
  },
  {
   "cell_type": "code",
   "execution_count": 87,
   "metadata": {},
   "outputs": [
    {
     "name": "stdout",
     "output_type": "stream",
     "text": [
      "True Positives: 29\n",
      "True Negatives: 22\n",
      "False Positives: 6\n",
      "False Negatives: 4\n"
     ]
    }
   ],
   "source": [
    "# save confusion matrix and slice into four pieces\n",
    "TP_dt = cm[1][1]\n",
    "TN_dt = cm[0][0]\n",
    "FP_dt = cm[0][1]\n",
    "FN_dt = cm[1][0]\n",
    "print('True Positives:', TP_dt)\n",
    "print('True Negatives:', TN_dt)\n",
    "print('False Positives:', FP_dt)\n",
    "print('False Negatives:', FN_dt) "
   ]
  },
  {
   "cell_type": "code",
   "execution_count": 88,
   "metadata": {},
   "outputs": [],
   "source": [
    "# calculate the sensitivity\n",
    "conf_sensitivity_dt = (TP_dt / float(TP_dt + FN_dt))"
   ]
  },
  {
   "cell_type": "code",
   "execution_count": 89,
   "metadata": {},
   "outputs": [],
   "source": [
    "# calculate the specificity\n",
    "conf_specificity_dt = (TN_dt / float(TN_dt + FP_dt))"
   ]
  },
  {
   "cell_type": "code",
   "execution_count": 90,
   "metadata": {},
   "outputs": [],
   "source": [
    "# calculate precision\n",
    "conf_precision_dt = (TN_dt / float(TN_dt + FP_dt))"
   ]
  },
  {
   "cell_type": "code",
   "execution_count": 91,
   "metadata": {},
   "outputs": [],
   "source": [
    "# calculate f_1 score\n",
    "conf_f1_dt = 2 * ((conf_precision_dt * conf_sensitivity_dt) / (conf_precision_dt + conf_sensitivity_dt))"
   ]
  },
  {
   "cell_type": "code",
   "execution_count": 92,
   "metadata": {},
   "outputs": [
    {
     "name": "stdout",
     "output_type": "stream",
     "text": [
      "Sensitivity: 0.8787878787878788\n",
      "Specificity: 0.7857142857142857\n",
      "Precision: 0.7857142857142857\n",
      "f_1 Score: 0.8296488946684005\n"
     ]
    }
   ],
   "source": [
    "print(f'Sensitivity: {conf_sensitivity_dt}') \n",
    "print(f'Specificity: {conf_specificity_dt}') \n",
    "print(f'Precision: {conf_precision_dt}')\n",
    "print(f'f_1 Score: {conf_f1_dt}')"
   ]
  },
  {
   "attachments": {},
   "cell_type": "markdown",
   "metadata": {},
   "source": [
    "## Neural Network"
   ]
  },
  {
   "cell_type": "code",
   "execution_count": 93,
   "metadata": {},
   "outputs": [
    {
     "name": "stdout",
     "output_type": "stream",
     "text": [
      "Epoch 1/10\n",
      "8/8 [==============================] - 2s 4ms/step - loss: 4.0452 - accuracy: 0.5165\n",
      "Epoch 2/10\n",
      "8/8 [==============================] - 0s 3ms/step - loss: 2.9571 - accuracy: 0.4339\n",
      "Epoch 3/10\n",
      "8/8 [==============================] - 0s 3ms/step - loss: 2.4480 - accuracy: 0.4545\n",
      "Epoch 4/10\n",
      "8/8 [==============================] - 0s 3ms/step - loss: 1.9633 - accuracy: 0.4711\n",
      "Epoch 5/10\n",
      "8/8 [==============================] - 0s 4ms/step - loss: 1.5713 - accuracy: 0.4917\n",
      "Epoch 6/10\n",
      "8/8 [==============================] - 0s 2ms/step - loss: 1.3063 - accuracy: 0.5661\n",
      "Epoch 7/10\n",
      "8/8 [==============================] - 0s 2ms/step - loss: 1.0890 - accuracy: 0.5992\n",
      "Epoch 8/10\n",
      "8/8 [==============================] - 0s 2ms/step - loss: 0.9057 - accuracy: 0.6446\n",
      "Epoch 9/10\n",
      "8/8 [==============================] - 0s 2ms/step - loss: 0.8206 - accuracy: 0.6612\n",
      "Epoch 10/10\n",
      "8/8 [==============================] - 0s 2ms/step - loss: 0.7834 - accuracy: 0.6612\n"
     ]
    },
    {
     "data": {
      "text/plain": [
       "2.3559"
      ]
     },
     "execution_count": 93,
     "metadata": {},
     "output_type": "execute_result"
    }
   ],
   "source": [
    "nn_model = Sequential()\n",
    "nn_model.add(Dense(11,activation='relu',input_dim=13))\n",
    "nn_model.add(Dense(1,activation='sigmoid'))\n",
    "\n",
    "nn_model.compile(loss='binary_crossentropy',optimizer='adam',metrics=['accuracy'])\n",
    "start_time = time.time()  # Start the timer\n",
    "#train neural network model with train data\n",
    "nn_model.fit(X_train,Y_train,epochs=10)\n",
    "end_time = time.time()  # stop the timer\n",
    "nn_time = round(end_time - start_time, 4)\n",
    "nn_time"
   ]
  },
  {
   "cell_type": "code",
   "execution_count": 94,
   "metadata": {},
   "outputs": [
    {
     "name": "stdout",
     "output_type": "stream",
     "text": [
      "8/8 [==============================] - 0s 3ms/step\n"
     ]
    }
   ],
   "source": [
    "X_train_prediction_nn = nn_model.predict(X_train)\n",
    "rounded = [round(x[0]) for x in X_train_prediction_nn ]\n",
    "\n",
    "X_train_prediction_nn  = rounded\n"
   ]
  },
  {
   "cell_type": "code",
   "execution_count": 95,
   "metadata": {},
   "outputs": [],
   "source": [
    "#accuracy on train data\n",
    "training_data_accuracy_nn= (accuracy_score(X_train_prediction_nn, Y_train))"
   ]
  },
  {
   "cell_type": "code",
   "execution_count": 96,
   "metadata": {},
   "outputs": [
    {
     "name": "stdout",
     "output_type": "stream",
     "text": [
      "Accuracy on Training data :  0.6611570247933884\n"
     ]
    }
   ],
   "source": [
    "print('Accuracy on Training data : ', training_data_accuracy_nn)"
   ]
  },
  {
   "cell_type": "code",
   "execution_count": 97,
   "metadata": {},
   "outputs": [
    {
     "name": "stdout",
     "output_type": "stream",
     "text": [
      "2/2 [==============================] - 0s 4ms/step\n"
     ]
    }
   ],
   "source": [
    "X_test_prediction_nn = nn_model.predict(X_test)\n",
    "rounded = [round(x[0]) for x in X_test_prediction_nn ]\n",
    "\n",
    "X_test_prediction_nn  = rounded"
   ]
  },
  {
   "cell_type": "code",
   "execution_count": 98,
   "metadata": {},
   "outputs": [],
   "source": [
    "# accuracy on test data\n",
    "test_data_accuracy_nn= (accuracy_score(X_test_prediction_nn, Y_test))"
   ]
  },
  {
   "cell_type": "code",
   "execution_count": 99,
   "metadata": {},
   "outputs": [
    {
     "name": "stdout",
     "output_type": "stream",
     "text": [
      "Accuracy on Test data :  0.8360655737704918\n"
     ]
    }
   ],
   "source": [
    "print('Accuracy on Test data : ', test_data_accuracy_dt)"
   ]
  },
  {
   "cell_type": "code",
   "execution_count": 100,
   "metadata": {},
   "outputs": [
    {
     "data": {
      "text/plain": [
       "<BarContainer object of 2 artists>"
      ]
     },
     "execution_count": 100,
     "metadata": {},
     "output_type": "execute_result"
    },
    {
     "data": {
      "image/png": "[encoded data removed]",
      "text/plain": [
       "<Figure size 1500x300 with 1 Axes>"
      ]
     },
     "metadata": {},
     "output_type": "display_data"
    }
   ],
   "source": [
    "#accuracy difference between test data and train data\n",
    "names = ['Test data accuracy', 'Training data accuracy']\n",
    "values = [test_data_accuracy_nn, training_data_accuracy_nn]\n",
    "\n",
    "plt.figure(figsize=(15,3))\n",
    "color=['red', 'blue']\n",
    "plt.subplot(131)\n",
    "plt.bar(names, values, color=color)"
   ]
  },
  {
   "cell_type": "code",
   "execution_count": 101,
   "metadata": {},
   "outputs": [
    {
     "data": {
      "text/html": [
       "<div>\n",
       "<style scoped>\n",
       "    .dataframe tbody tr th:only-of-type {\n",
       "        vertical-align: middle;\n",
       "    }\n",
       "\n",
       "    .dataframe tbody tr th {\n",
       "        vertical-align: top;\n",
       "    }\n",
       "\n",
       "    .dataframe thead th {\n",
       "        text-align: right;\n",
       "    }\n",
       "</style>\n",
       "<table border=\"1\" class=\"dataframe\">\n",
       "  <thead>\n",
       "    <tr style=\"text-align: right;\">\n",
       "      <th></th>\n",
       "      <th>Predicted Negative</th>\n",
       "      <th>Predicted Positive</th>\n",
       "    </tr>\n",
       "  </thead>\n",
       "  <tbody>\n",
       "    <tr>\n",
       "      <th>Actual Negative</th>\n",
       "      <td>18</td>\n",
       "      <td>10</td>\n",
       "    </tr>\n",
       "    <tr>\n",
       "      <th>Actual Positive</th>\n",
       "      <td>9</td>\n",
       "      <td>24</td>\n",
       "    </tr>\n",
       "  </tbody>\n",
       "</table>\n",
       "</div>"
      ],
      "text/plain": [
       "                 Predicted Negative  Predicted Positive\n",
       "Actual Negative                  18                  10\n",
       "Actual Positive                   9                  24"
      ]
     },
     "execution_count": 101,
     "metadata": {},
     "output_type": "execute_result"
    }
   ],
   "source": [
    "# Creating the confusion matrix\n",
    "cm = metrics.confusion_matrix(Y_test,X_test_prediction_nn)\n",
    "# Assigning columns names\n",
    "cm_df = pd.DataFrame(cm, \n",
    "            columns = ['Predicted Negative', 'Predicted Positive'],\n",
    "            index = ['Actual Negative', 'Actual Positive'])\n",
    "# Showing the confusion matrix\n",
    "cm_df"
   ]
  },
  {
   "cell_type": "code",
   "execution_count": 102,
   "metadata": {},
   "outputs": [
    {
     "name": "stdout",
     "output_type": "stream",
     "text": [
      "True Positives: 24\n",
      "True Negatives: 18\n",
      "False Positives: 10\n",
      "False Negatives: 9\n"
     ]
    }
   ],
   "source": [
    "# save confusion matrix and slice into four pieces\n",
    "TP_nn = cm[1][1]\n",
    "TN_nn = cm[0][0]\n",
    "FP_nn = cm[0][1]\n",
    "FN_nn = cm[1][0]\n",
    "print('True Positives:', TP_nn)\n",
    "print('True Negatives:', TN_nn)\n",
    "print('False Positives:', FP_nn)\n",
    "print('False Negatives:', FN_nn)"
   ]
  },
  {
   "cell_type": "code",
   "execution_count": 103,
   "metadata": {},
   "outputs": [],
   "source": [
    "# calculate the sensitivity\n",
    "conf_sensitivity_nn = (TP_nn / float(TP_nn + FN_nn))"
   ]
  },
  {
   "cell_type": "code",
   "execution_count": 104,
   "metadata": {},
   "outputs": [],
   "source": [
    "# calculate the specificity\n",
    "conf_specificity_nn = (TN_nn / float(TN_nn + FP_nn))"
   ]
  },
  {
   "cell_type": "code",
   "execution_count": 105,
   "metadata": {},
   "outputs": [],
   "source": [
    "# calculate precision\n",
    "conf_precision_nn = (TN_nn / float(TN_nn + FP_nn))"
   ]
  },
  {
   "cell_type": "code",
   "execution_count": 106,
   "metadata": {},
   "outputs": [],
   "source": [
    "# calculate f_1 score\n",
    "conf_f1_nn = 2 * ((conf_precision_nn * conf_sensitivity_nn) / (conf_precision_nn + conf_sensitivity_nn))"
   ]
  },
  {
   "cell_type": "code",
   "execution_count": 107,
   "metadata": {},
   "outputs": [
    {
     "name": "stdout",
     "output_type": "stream",
     "text": [
      "Sensitivity: 0.7272727272727273\n",
      "Specificity: 0.6428571428571429\n",
      "Precision: 0.6428571428571429\n",
      "f_1 Score: 0.6824644549763033\n"
     ]
    }
   ],
   "source": [
    "print(f'Sensitivity: {conf_sensitivity_nn}') \n",
    "print(f'Specificity: {conf_specificity_nn}') \n",
    "print(f'Precision: {conf_precision_nn}')\n",
    "print(f'f_1 Score: {conf_f1_nn}')"
   ]
  },
  {
   "attachments": {},
   "cell_type": "markdown",
   "metadata": {},
   "source": [
    "## Random Forest"
   ]
  },
  {
   "cell_type": "code",
   "execution_count": 108,
   "metadata": {},
   "outputs": [],
   "source": [
    "max_accuracy = 0\n",
    "for x in range(200):\n",
    "    rf_model = RandomForestClassifier(random_state=x)\n",
    "    rf_model.fit(X_train,Y_train)\n",
    "    X_train_prediction_rf = rf_model.predict(X_train)\n",
    "    current_accuracy = round(accuracy_score(X_train_prediction_rf,Y_train)*100,2)\n",
    "    if(current_accuracy>max_accuracy):\n",
    "        max_accuracy = current_accuracy\n",
    "        best_x = x\n",
    "        \n",
    "rf_model = RandomForestClassifier(random_state=best_x)\n",
    "\n"
   ]
  },
  {
   "cell_type": "code",
   "execution_count": 109,
   "metadata": {},
   "outputs": [
    {
     "data": {
      "text/plain": [
       "0.2046"
      ]
     },
     "execution_count": 109,
     "metadata": {},
     "output_type": "execute_result"
    }
   ],
   "source": [
    "start_time = time.time()  # Start the timer\n",
    "#train the random forest with train data\n",
    "rf_model.fit(X_train,Y_train)\n",
    "end_time = time.time()  # stop the timer\n",
    "rf_time = round(end_time - start_time, 4)\n",
    "rf_time"
   ]
  },
  {
   "cell_type": "code",
   "execution_count": 110,
   "metadata": {},
   "outputs": [],
   "source": [
    "X_train_prediction_rf= rf_model.predict(X_train)"
   ]
  },
  {
   "cell_type": "code",
   "execution_count": 111,
   "metadata": {},
   "outputs": [],
   "source": [
    "#accuracy on train data\n",
    "training_data_accuracy_rf= (accuracy_score(X_train_prediction_rf,Y_train))"
   ]
  },
  {
   "cell_type": "code",
   "execution_count": 112,
   "metadata": {},
   "outputs": [
    {
     "name": "stdout",
     "output_type": "stream",
     "text": [
      "Accuracy on Training data :  1.0\n"
     ]
    }
   ],
   "source": [
    "print('Accuracy on Training data : ', training_data_accuracy_rf)"
   ]
  },
  {
   "cell_type": "code",
   "execution_count": 113,
   "metadata": {},
   "outputs": [],
   "source": [
    "X_test_prediction_rf= rf_model.predict(X_test)"
   ]
  },
  {
   "cell_type": "code",
   "execution_count": 114,
   "metadata": {},
   "outputs": [],
   "source": [
    "# accuracy on test data\n",
    "test_data_accuracy_rf= (accuracy_score(X_test_prediction_rf,Y_test))"
   ]
  },
  {
   "cell_type": "code",
   "execution_count": 115,
   "metadata": {},
   "outputs": [
    {
     "name": "stdout",
     "output_type": "stream",
     "text": [
      "Accuracy on Test data :  0.7868852459016393\n"
     ]
    }
   ],
   "source": [
    "print('Accuracy on Test data : ', test_data_accuracy_rf)"
   ]
  },
  {
   "cell_type": "code",
   "execution_count": 116,
   "metadata": {},
   "outputs": [
    {
     "data": {
      "text/plain": [
       "<BarContainer object of 2 artists>"
      ]
     },
     "execution_count": 116,
     "metadata": {},
     "output_type": "execute_result"
    },
    {
     "data": {
      "image/png": "[encoded data removed]",
      "text/plain": [
       "<Figure size 1500x300 with 1 Axes>"
      ]
     },
     "metadata": {},
     "output_type": "display_data"
    }
   ],
   "source": [
    "#accuracy difference between test data and train data\n",
    "names = ['Test data accuracy', 'Training data accuracy']\n",
    "values = [test_data_accuracy_rf, training_data_accuracy_rf]\n",
    "\n",
    "plt.figure(figsize=(15,3))\n",
    "color=['red', 'blue']\n",
    "plt.subplot(131)\n",
    "plt.bar(names, values, color=color)"
   ]
  },
  {
   "cell_type": "code",
   "execution_count": 117,
   "metadata": {},
   "outputs": [
    {
     "data": {
      "text/html": [
       "<div>\n",
       "<style scoped>\n",
       "    .dataframe tbody tr th:only-of-type {\n",
       "        vertical-align: middle;\n",
       "    }\n",
       "\n",
       "    .dataframe tbody tr th {\n",
       "        vertical-align: top;\n",
       "    }\n",
       "\n",
       "    .dataframe thead th {\n",
       "        text-align: right;\n",
       "    }\n",
       "</style>\n",
       "<table border=\"1\" class=\"dataframe\">\n",
       "  <thead>\n",
       "    <tr style=\"text-align: right;\">\n",
       "      <th></th>\n",
       "      <th>Predicted Negative</th>\n",
       "      <th>Predicted Positive</th>\n",
       "    </tr>\n",
       "  </thead>\n",
       "  <tbody>\n",
       "    <tr>\n",
       "      <th>Actual Negative</th>\n",
       "      <td>22</td>\n",
       "      <td>6</td>\n",
       "    </tr>\n",
       "    <tr>\n",
       "      <th>Actual Positive</th>\n",
       "      <td>7</td>\n",
       "      <td>26</td>\n",
       "    </tr>\n",
       "  </tbody>\n",
       "</table>\n",
       "</div>"
      ],
      "text/plain": [
       "                 Predicted Negative  Predicted Positive\n",
       "Actual Negative                  22                   6\n",
       "Actual Positive                   7                  26"
      ]
     },
     "execution_count": 117,
     "metadata": {},
     "output_type": "execute_result"
    }
   ],
   "source": [
    "# Creating the confusion matrix\n",
    "cm = metrics.confusion_matrix(Y_test,X_test_prediction_rf)\n",
    "# Assigning columns names\n",
    "cm_df = pd.DataFrame(cm, \n",
    "            columns = ['Predicted Negative', 'Predicted Positive'],\n",
    "            index = ['Actual Negative', 'Actual Positive'])\n",
    "# Showing the confusion matrix\n",
    "cm_df"
   ]
  },
  {
   "cell_type": "code",
   "execution_count": 118,
   "metadata": {},
   "outputs": [
    {
     "name": "stdout",
     "output_type": "stream",
     "text": [
      "True Positives: 26\n",
      "True Negatives: 22\n",
      "False Positives: 6\n",
      "False Negatives: 7\n"
     ]
    }
   ],
   "source": [
    "# save confusion matrix and slice into four pieces\n",
    "TP_rf = cm[1][1]\n",
    "TN_rf = cm[0][0]\n",
    "FP_rf = cm[0][1]\n",
    "FN_rf = cm[1][0]\n",
    "print('True Positives:', TP_rf)\n",
    "print('True Negatives:', TN_rf)\n",
    "print('False Positives:', FP_rf)\n",
    "print('False Negatives:', FN_rf)"
   ]
  },
  {
   "cell_type": "code",
   "execution_count": 119,
   "metadata": {},
   "outputs": [],
   "source": [
    "# calculate the sensitivity\n",
    "conf_sensitivity_rf = (TP_rf / float(TP_rf + FN_rf))"
   ]
  },
  {
   "cell_type": "code",
   "execution_count": 120,
   "metadata": {},
   "outputs": [],
   "source": [
    "# calculate the specificity\n",
    "conf_specificity_rf = (TN_rf / float(TN_rf + FP_rf))"
   ]
  },
  {
   "cell_type": "code",
   "execution_count": 121,
   "metadata": {},
   "outputs": [],
   "source": [
    "# calculate precision\n",
    "conf_precision_rf = (TN_rf / float(TN_rf + FP_rf))"
   ]
  },
  {
   "cell_type": "code",
   "execution_count": 122,
   "metadata": {},
   "outputs": [],
   "source": [
    "# calculate f_1 score\n",
    "conf_f1_rf = 2 * ((conf_precision_rf * conf_sensitivity_rf) / (conf_precision_rf + conf_sensitivity_rf))"
   ]
  },
  {
   "cell_type": "code",
   "execution_count": 123,
   "metadata": {},
   "outputs": [
    {
     "name": "stdout",
     "output_type": "stream",
     "text": [
      "Sensitivity: 0.7878787878787878\n",
      "Specificity: 0.7857142857142857\n",
      "Precision: 0.7857142857142857\n",
      "f_1 Score: 0.7867950481430535\n"
     ]
    }
   ],
   "source": [
    "print(f'Sensitivity: {conf_sensitivity_rf}') \n",
    "print(f'Specificity: {conf_specificity_rf}') \n",
    "print(f'Precision: {conf_precision_rf}')\n",
    "print(f'f_1 Score: {conf_f1_rf}')"
   ]
  },
  {
   "attachments": {},
   "cell_type": "markdown",
   "metadata": {},
   "source": [
    "## Naive Bayes"
   ]
  },
  {
   "cell_type": "code",
   "execution_count": 124,
   "metadata": {},
   "outputs": [],
   "source": [
    "nb_model=GaussianNB()"
   ]
  },
  {
   "cell_type": "code",
   "execution_count": 125,
   "metadata": {},
   "outputs": [
    {
     "data": {
      "text/plain": [
       "0.0035"
      ]
     },
     "execution_count": 125,
     "metadata": {},
     "output_type": "execute_result"
    }
   ],
   "source": [
    "start_time = time.time()  # Start the timer\n",
    "# tain naive bayes model with train data\n",
    "nb_model.fit(X_train, Y_train)\n",
    "end_time = time.time()  # stop the timer\n",
    "nb_time = round(end_time - start_time, 4)\n",
    "nb_time"
   ]
  },
  {
   "cell_type": "code",
   "execution_count": 126,
   "metadata": {},
   "outputs": [],
   "source": [
    "X_train_prediction_nb = nb_model.predict(X_train)\n",
    "X_test_prediction_nb = nb_model.predict(X_test)"
   ]
  },
  {
   "cell_type": "code",
   "execution_count": 127,
   "metadata": {},
   "outputs": [],
   "source": [
    "#accuracy on tain and test data\n",
    "training_data_accuracy_nb = accuracy_score(X_train_prediction_nb, Y_train)\n",
    "test_data_accuracy_nb = accuracy_score(X_test_prediction_nb, Y_test)"
   ]
  },
  {
   "cell_type": "code",
   "execution_count": 128,
   "metadata": {},
   "outputs": [
    {
     "name": "stdout",
     "output_type": "stream",
     "text": [
      "Accuracy on Training data :  0.8471074380165289\n",
      "Accuracy on Test data :  0.819672131147541\n"
     ]
    }
   ],
   "source": [
    "print('Accuracy on Training data : ', training_data_accuracy_nb)\n",
    "print('Accuracy on Test data : ', test_data_accuracy_nb)"
   ]
  },
  {
   "cell_type": "code",
   "execution_count": 129,
   "metadata": {},
   "outputs": [
    {
     "data": {
      "text/plain": [
       "<BarContainer object of 2 artists>"
      ]
     },
     "execution_count": 129,
     "metadata": {},
     "output_type": "execute_result"
    },
    {
     "data": {
      "image/png": "[encoded data removed]",
      "text/plain": [
       "<Figure size 1500x300 with 1 Axes>"
      ]
     },
     "metadata": {},
     "output_type": "display_data"
    }
   ],
   "source": [
    "#accuracy difference between test data and train data\n",
    "names = ['Test data accuracy', 'Training data accuracy']\n",
    "values = [test_data_accuracy_nb, training_data_accuracy_nb]\n",
    "\n",
    "plt.figure(figsize=(15,3))\n",
    "color=['red', 'blue']\n",
    "plt.subplot(131)\n",
    "plt.bar(names, values, color=color)"
   ]
  },
  {
   "cell_type": "code",
   "execution_count": 130,
   "metadata": {},
   "outputs": [
    {
     "data": {
      "text/html": [
       "<div>\n",
       "<style scoped>\n",
       "    .dataframe tbody tr th:only-of-type {\n",
       "        vertical-align: middle;\n",
       "    }\n",
       "\n",
       "    .dataframe tbody tr th {\n",
       "        vertical-align: top;\n",
       "    }\n",
       "\n",
       "    .dataframe thead th {\n",
       "        text-align: right;\n",
       "    }\n",
       "</style>\n",
       "<table border=\"1\" class=\"dataframe\">\n",
       "  <thead>\n",
       "    <tr style=\"text-align: right;\">\n",
       "      <th></th>\n",
       "      <th>Predicted Negative</th>\n",
       "      <th>Predicted Positive</th>\n",
       "    </tr>\n",
       "  </thead>\n",
       "  <tbody>\n",
       "    <tr>\n",
       "      <th>Actual Negative</th>\n",
       "      <td>25</td>\n",
       "      <td>3</td>\n",
       "    </tr>\n",
       "    <tr>\n",
       "      <th>Actual Positive</th>\n",
       "      <td>8</td>\n",
       "      <td>25</td>\n",
       "    </tr>\n",
       "  </tbody>\n",
       "</table>\n",
       "</div>"
      ],
      "text/plain": [
       "                 Predicted Negative  Predicted Positive\n",
       "Actual Negative                  25                   3\n",
       "Actual Positive                   8                  25"
      ]
     },
     "execution_count": 130,
     "metadata": {},
     "output_type": "execute_result"
    }
   ],
   "source": [
    "# Creating the confusion matrix\n",
    "cm = metrics.confusion_matrix(Y_test,X_test_prediction_nb)\n",
    "# Assigning columns names\n",
    "cm_df = pd.DataFrame(cm, \n",
    "            columns = ['Predicted Negative', 'Predicted Positive'],\n",
    "            index = ['Actual Negative', 'Actual Positive'])\n",
    "# Showing the confusion matrix\n",
    "cm_df"
   ]
  },
  {
   "cell_type": "code",
   "execution_count": 131,
   "metadata": {},
   "outputs": [
    {
     "name": "stdout",
     "output_type": "stream",
     "text": [
      "True Positives: 25\n",
      "True Negatives: 25\n",
      "False Positives: 3\n",
      "False Negatives: 8\n"
     ]
    }
   ],
   "source": [
    "# save confusion matrix and slice into four pieces\n",
    "TP_nb = cm[1][1]\n",
    "TN_nb = cm[0][0]\n",
    "FP_nb = cm[0][1]\n",
    "FN_nb = cm[1][0]\n",
    "print('True Positives:', TP_nb)\n",
    "print('True Negatives:', TN_nb)\n",
    "print('False Positives:', FP_nb)\n",
    "print('False Negatives:', FN_nb)"
   ]
  },
  {
   "cell_type": "code",
   "execution_count": 132,
   "metadata": {},
   "outputs": [],
   "source": [
    "# calculate the sensitivity\n",
    "conf_sensitivity_nb = (TP_nb / float(TP_nb + FN_nb))"
   ]
  },
  {
   "cell_type": "code",
   "execution_count": 133,
   "metadata": {},
   "outputs": [],
   "source": [
    "# calculate the specificity\n",
    "conf_specificity_nb = (TN_nb / float(TN_nb + FP_nb))"
   ]
  },
  {
   "cell_type": "code",
   "execution_count": 134,
   "metadata": {},
   "outputs": [],
   "source": [
    "# calculate precision\n",
    "conf_precision_nb = (TN_nb / float(TN_nb + FP_nb))"
   ]
  },
  {
   "cell_type": "code",
   "execution_count": 135,
   "metadata": {},
   "outputs": [],
   "source": [
    "# calculate f_1 score\n",
    "conf_f1_nb = 2 * ((conf_precision_nb * conf_sensitivity_nb) / (conf_precision_nb + conf_sensitivity_nb))"
   ]
  },
  {
   "cell_type": "code",
   "execution_count": 136,
   "metadata": {},
   "outputs": [
    {
     "name": "stdout",
     "output_type": "stream",
     "text": [
      "Sensitivity: 0.7575757575757576\n",
      "Specificity: 0.8928571428571429\n",
      "Precision: 0.8928571428571429\n",
      "f_1 Score: 0.819672131147541\n"
     ]
    }
   ],
   "source": [
    "print(f'Sensitivity: {conf_sensitivity_nb}') \n",
    "print(f'Specificity: {conf_specificity_nb}') \n",
    "print(f'Precision: {conf_precision_nb}')\n",
    "print(f'f_1 Score: {conf_f1_nb}')"
   ]
  },
  {
   "attachments": {},
   "cell_type": "markdown",
   "metadata": {},
   "source": [
    "## Cat Boost"
   ]
  },
  {
   "cell_type": "code",
   "execution_count": 137,
   "metadata": {},
   "outputs": [
    {
     "name": "stdout",
     "output_type": "stream",
     "text": [
      "Learning rate set to 0.005621\n",
      "0:\tlearn: 0.6872473\ttotal: 148ms\tremaining: 2m 27s\n",
      "1:\tlearn: 0.6817293\ttotal: 152ms\tremaining: 1m 15s\n",
      "2:\tlearn: 0.6762667\ttotal: 154ms\tremaining: 51.1s\n",
      "3:\tlearn: 0.6708223\ttotal: 156ms\tremaining: 38.8s\n",
      "4:\tlearn: 0.6656280\ttotal: 159ms\tremaining: 31.6s\n",
      "5:\tlearn: 0.6611711\ttotal: 160ms\tremaining: 26.6s\n",
      "6:\tlearn: 0.6573520\ttotal: 162ms\tremaining: 23s\n",
      "7:\tlearn: 0.6525319\ttotal: 165ms\tremaining: 20.5s\n",
      "8:\tlearn: 0.6476904\ttotal: 168ms\tremaining: 18.5s\n",
      "9:\tlearn: 0.6423973\ttotal: 170ms\tremaining: 16.9s\n",
      "10:\tlearn: 0.6379099\ttotal: 172ms\tremaining: 15.5s\n",
      "11:\tlearn: 0.6332676\ttotal: 174ms\tremaining: 14.3s\n",
      "12:\tlearn: 0.6284577\ttotal: 176ms\tremaining: 13.3s\n",
      "13:\tlearn: 0.6241655\ttotal: 178ms\tremaining: 12.5s\n",
      "14:\tlearn: 0.6196321\ttotal: 180ms\tremaining: 11.8s\n",
      "15:\tlearn: 0.6146231\ttotal: 182ms\tremaining: 11.2s\n",
      "16:\tlearn: 0.6115128\ttotal: 184ms\tremaining: 10.6s\n",
      "17:\tlearn: 0.6075234\ttotal: 186ms\tremaining: 10.1s\n",
      "18:\tlearn: 0.6035931\ttotal: 188ms\tremaining: 9.7s\n",
      "19:\tlearn: 0.5996386\ttotal: 190ms\tremaining: 9.29s\n",
      "20:\tlearn: 0.5949011\ttotal: 193ms\tremaining: 9.02s\n",
      "21:\tlearn: 0.5914183\ttotal: 221ms\tremaining: 9.83s\n",
      "22:\tlearn: 0.5872249\ttotal: 227ms\tremaining: 9.62s\n",
      "23:\tlearn: 0.5843330\ttotal: 229ms\tremaining: 9.3s\n",
      "24:\tlearn: 0.5800603\ttotal: 231ms\tremaining: 9.01s\n",
      "25:\tlearn: 0.5771945\ttotal: 234ms\tremaining: 8.76s\n",
      "26:\tlearn: 0.5736203\ttotal: 237ms\tremaining: 8.53s\n",
      "27:\tlearn: 0.5701733\ttotal: 260ms\tremaining: 9.03s\n",
      "28:\tlearn: 0.5661949\ttotal: 262ms\tremaining: 8.79s\n",
      "29:\tlearn: 0.5621694\ttotal: 264ms\tremaining: 8.55s\n",
      "30:\tlearn: 0.5586539\ttotal: 267ms\tremaining: 8.35s\n",
      "31:\tlearn: 0.5551002\ttotal: 282ms\tremaining: 8.52s\n",
      "32:\tlearn: 0.5518555\ttotal: 284ms\tremaining: 8.32s\n",
      "33:\tlearn: 0.5487744\ttotal: 289ms\tremaining: 8.22s\n",
      "34:\tlearn: 0.5451540\ttotal: 292ms\tremaining: 8.04s\n",
      "35:\tlearn: 0.5421005\ttotal: 293ms\tremaining: 7.85s\n",
      "36:\tlearn: 0.5389909\ttotal: 295ms\tremaining: 7.68s\n",
      "37:\tlearn: 0.5356927\ttotal: 297ms\tremaining: 7.53s\n",
      "38:\tlearn: 0.5322116\ttotal: 299ms\tremaining: 7.37s\n",
      "39:\tlearn: 0.5289215\ttotal: 301ms\tremaining: 7.22s\n",
      "40:\tlearn: 0.5252206\ttotal: 305ms\tremaining: 7.14s\n",
      "41:\tlearn: 0.5225021\ttotal: 307ms\tremaining: 7.01s\n",
      "42:\tlearn: 0.5189639\ttotal: 310ms\tremaining: 6.89s\n",
      "43:\tlearn: 0.5158275\ttotal: 311ms\tremaining: 6.76s\n",
      "44:\tlearn: 0.5137450\ttotal: 313ms\tremaining: 6.64s\n",
      "45:\tlearn: 0.5117219\ttotal: 315ms\tremaining: 6.53s\n",
      "46:\tlearn: 0.5092342\ttotal: 319ms\tremaining: 6.48s\n",
      "47:\tlearn: 0.5071564\ttotal: 321ms\tremaining: 6.38s\n",
      "48:\tlearn: 0.5045079\ttotal: 323ms\tremaining: 6.27s\n",
      "49:\tlearn: 0.5024772\ttotal: 325ms\tremaining: 6.18s\n",
      "50:\tlearn: 0.4997315\ttotal: 328ms\tremaining: 6.1s\n",
      "51:\tlearn: 0.4967520\ttotal: 331ms\tremaining: 6.04s\n",
      "52:\tlearn: 0.4944361\ttotal: 333ms\tremaining: 5.96s\n",
      "53:\tlearn: 0.4917259\ttotal: 335ms\tremaining: 5.87s\n",
      "54:\tlearn: 0.4888471\ttotal: 337ms\tremaining: 5.8s\n",
      "55:\tlearn: 0.4868374\ttotal: 339ms\tremaining: 5.72s\n",
      "56:\tlearn: 0.4840062\ttotal: 342ms\tremaining: 5.65s\n",
      "57:\tlearn: 0.4820820\ttotal: 344ms\tremaining: 5.58s\n",
      "58:\tlearn: 0.4798702\ttotal: 346ms\tremaining: 5.51s\n",
      "59:\tlearn: 0.4775017\ttotal: 348ms\tremaining: 5.45s\n",
      "60:\tlearn: 0.4745669\ttotal: 350ms\tremaining: 5.39s\n",
      "61:\tlearn: 0.4723363\ttotal: 353ms\tremaining: 5.34s\n",
      "62:\tlearn: 0.4696582\ttotal: 355ms\tremaining: 5.27s\n",
      "63:\tlearn: 0.4669173\ttotal: 356ms\tremaining: 5.21s\n",
      "64:\tlearn: 0.4640530\ttotal: 358ms\tremaining: 5.15s\n",
      "65:\tlearn: 0.4612746\ttotal: 362ms\tremaining: 5.12s\n",
      "66:\tlearn: 0.4585411\ttotal: 364ms\tremaining: 5.07s\n",
      "67:\tlearn: 0.4564834\ttotal: 366ms\tremaining: 5.01s\n",
      "68:\tlearn: 0.4544986\ttotal: 368ms\tremaining: 4.96s\n",
      "69:\tlearn: 0.4527936\ttotal: 370ms\tremaining: 4.91s\n",
      "70:\tlearn: 0.4502171\ttotal: 372ms\tremaining: 4.86s\n",
      "71:\tlearn: 0.4495044\ttotal: 373ms\tremaining: 4.81s\n",
      "72:\tlearn: 0.4475387\ttotal: 376ms\tremaining: 4.78s\n",
      "73:\tlearn: 0.4451222\ttotal: 378ms\tremaining: 4.74s\n",
      "74:\tlearn: 0.4440527\ttotal: 380ms\tremaining: 4.69s\n",
      "75:\tlearn: 0.4419940\ttotal: 383ms\tremaining: 4.66s\n",
      "76:\tlearn: 0.4406874\ttotal: 384ms\tremaining: 4.61s\n",
      "77:\tlearn: 0.4382826\ttotal: 387ms\tremaining: 4.57s\n",
      "78:\tlearn: 0.4363052\ttotal: 388ms\tremaining: 4.53s\n",
      "79:\tlearn: 0.4345307\ttotal: 392ms\tremaining: 4.51s\n",
      "80:\tlearn: 0.4323052\ttotal: 394ms\tremaining: 4.47s\n",
      "81:\tlearn: 0.4297271\ttotal: 396ms\tremaining: 4.44s\n",
      "82:\tlearn: 0.4276527\ttotal: 398ms\tremaining: 4.4s\n",
      "83:\tlearn: 0.4258008\ttotal: 400ms\tremaining: 4.36s\n",
      "84:\tlearn: 0.4239177\ttotal: 402ms\tremaining: 4.32s\n",
      "85:\tlearn: 0.4224843\ttotal: 403ms\tremaining: 4.29s\n",
      "86:\tlearn: 0.4205235\ttotal: 409ms\tremaining: 4.29s\n",
      "87:\tlearn: 0.4186136\ttotal: 411ms\tremaining: 4.26s\n",
      "88:\tlearn: 0.4166912\ttotal: 412ms\tremaining: 4.22s\n",
      "89:\tlearn: 0.4151908\ttotal: 414ms\tremaining: 4.19s\n",
      "90:\tlearn: 0.4132655\ttotal: 416ms\tremaining: 4.16s\n",
      "91:\tlearn: 0.4117412\ttotal: 419ms\tremaining: 4.13s\n",
      "92:\tlearn: 0.4095494\ttotal: 423ms\tremaining: 4.13s\n",
      "93:\tlearn: 0.4077727\ttotal: 425ms\tremaining: 4.09s\n",
      "94:\tlearn: 0.4062210\ttotal: 427ms\tremaining: 4.07s\n",
      "95:\tlearn: 0.4048990\ttotal: 429ms\tremaining: 4.04s\n",
      "96:\tlearn: 0.4031923\ttotal: 431ms\tremaining: 4.01s\n",
      "97:\tlearn: 0.4015820\ttotal: 433ms\tremaining: 3.98s\n",
      "98:\tlearn: 0.3997357\ttotal: 434ms\tremaining: 3.95s\n",
      "99:\tlearn: 0.3976993\ttotal: 439ms\tremaining: 3.95s\n",
      "100:\tlearn: 0.3962394\ttotal: 441ms\tremaining: 3.93s\n",
      "101:\tlearn: 0.3946231\ttotal: 443ms\tremaining: 3.9s\n",
      "102:\tlearn: 0.3927416\ttotal: 446ms\tremaining: 3.88s\n",
      "103:\tlearn: 0.3913900\ttotal: 447ms\tremaining: 3.85s\n",
      "104:\tlearn: 0.3899839\ttotal: 449ms\tremaining: 3.83s\n",
      "105:\tlearn: 0.3885125\ttotal: 453ms\tremaining: 3.82s\n",
      "106:\tlearn: 0.3869881\ttotal: 455ms\tremaining: 3.8s\n",
      "107:\tlearn: 0.3859131\ttotal: 459ms\tremaining: 3.79s\n",
      "108:\tlearn: 0.3844042\ttotal: 461ms\tremaining: 3.77s\n",
      "109:\tlearn: 0.3826996\ttotal: 463ms\tremaining: 3.75s\n",
      "110:\tlearn: 0.3812531\ttotal: 465ms\tremaining: 3.72s\n",
      "111:\tlearn: 0.3797558\ttotal: 471ms\tremaining: 3.73s\n",
      "112:\tlearn: 0.3780864\ttotal: 473ms\tremaining: 3.71s\n",
      "113:\tlearn: 0.3767035\ttotal: 475ms\tremaining: 3.69s\n",
      "114:\tlearn: 0.3753272\ttotal: 476ms\tremaining: 3.67s\n",
      "115:\tlearn: 0.3739510\ttotal: 479ms\tremaining: 3.65s\n",
      "116:\tlearn: 0.3722053\ttotal: 481ms\tremaining: 3.63s\n",
      "117:\tlearn: 0.3704985\ttotal: 485ms\tremaining: 3.63s\n",
      "118:\tlearn: 0.3686003\ttotal: 487ms\tremaining: 3.6s\n",
      "119:\tlearn: 0.3673859\ttotal: 489ms\tremaining: 3.58s\n",
      "120:\tlearn: 0.3669991\ttotal: 490ms\tremaining: 3.56s\n",
      "121:\tlearn: 0.3654210\ttotal: 492ms\tremaining: 3.54s\n",
      "122:\tlearn: 0.3645533\ttotal: 495ms\tremaining: 3.53s\n",
      "123:\tlearn: 0.3629961\ttotal: 496ms\tremaining: 3.51s\n",
      "124:\tlearn: 0.3618967\ttotal: 501ms\tremaining: 3.5s\n",
      "125:\tlearn: 0.3601781\ttotal: 503ms\tremaining: 3.49s\n",
      "126:\tlearn: 0.3588253\ttotal: 505ms\tremaining: 3.47s\n",
      "127:\tlearn: 0.3576718\ttotal: 507ms\tremaining: 3.46s\n",
      "128:\tlearn: 0.3561407\ttotal: 509ms\tremaining: 3.44s\n",
      "129:\tlearn: 0.3546344\ttotal: 511ms\tremaining: 3.42s\n",
      "130:\tlearn: 0.3531026\ttotal: 514ms\tremaining: 3.41s\n",
      "131:\tlearn: 0.3519333\ttotal: 516ms\tremaining: 3.39s\n",
      "132:\tlearn: 0.3508342\ttotal: 518ms\tremaining: 3.38s\n",
      "133:\tlearn: 0.3498034\ttotal: 521ms\tremaining: 3.37s\n",
      "134:\tlearn: 0.3484242\ttotal: 523ms\tremaining: 3.35s\n",
      "135:\tlearn: 0.3468111\ttotal: 525ms\tremaining: 3.33s\n",
      "136:\tlearn: 0.3456042\ttotal: 530ms\tremaining: 3.34s\n",
      "137:\tlearn: 0.3449035\ttotal: 532ms\tremaining: 3.32s\n",
      "138:\tlearn: 0.3439339\ttotal: 535ms\tremaining: 3.31s\n",
      "139:\tlearn: 0.3427919\ttotal: 537ms\tremaining: 3.3s\n",
      "140:\tlearn: 0.3418599\ttotal: 539ms\tremaining: 3.28s\n",
      "141:\tlearn: 0.3405994\ttotal: 540ms\tremaining: 3.27s\n",
      "142:\tlearn: 0.3394466\ttotal: 545ms\tremaining: 3.27s\n",
      "143:\tlearn: 0.3381761\ttotal: 547ms\tremaining: 3.25s\n",
      "144:\tlearn: 0.3369615\ttotal: 549ms\tremaining: 3.24s\n",
      "145:\tlearn: 0.3359294\ttotal: 551ms\tremaining: 3.22s\n",
      "146:\tlearn: 0.3347349\ttotal: 552ms\tremaining: 3.21s\n",
      "147:\tlearn: 0.3332810\ttotal: 555ms\tremaining: 3.2s\n",
      "148:\tlearn: 0.3319897\ttotal: 560ms\tremaining: 3.2s\n",
      "149:\tlearn: 0.3307184\ttotal: 561ms\tremaining: 3.18s\n",
      "150:\tlearn: 0.3296633\ttotal: 563ms\tremaining: 3.16s\n",
      "151:\tlearn: 0.3287348\ttotal: 564ms\tremaining: 3.15s\n",
      "152:\tlearn: 0.3275909\ttotal: 567ms\tremaining: 3.14s\n",
      "153:\tlearn: 0.3267908\ttotal: 569ms\tremaining: 3.13s\n",
      "154:\tlearn: 0.3258585\ttotal: 571ms\tremaining: 3.11s\n",
      "155:\tlearn: 0.3245642\ttotal: 574ms\tremaining: 3.1s\n",
      "156:\tlearn: 0.3234741\ttotal: 576ms\tremaining: 3.1s\n",
      "157:\tlearn: 0.3226041\ttotal: 578ms\tremaining: 3.08s\n",
      "158:\tlearn: 0.3216327\ttotal: 580ms\tremaining: 3.07s\n",
      "159:\tlearn: 0.3209342\ttotal: 582ms\tremaining: 3.06s\n",
      "160:\tlearn: 0.3201123\ttotal: 584ms\tremaining: 3.04s\n",
      "161:\tlearn: 0.3192475\ttotal: 585ms\tremaining: 3.03s\n",
      "162:\tlearn: 0.3182090\ttotal: 589ms\tremaining: 3.02s\n",
      "163:\tlearn: 0.3168069\ttotal: 591ms\tremaining: 3.01s\n",
      "164:\tlearn: 0.3161591\ttotal: 593ms\tremaining: 3s\n",
      "165:\tlearn: 0.3149965\ttotal: 595ms\tremaining: 2.99s\n",
      "166:\tlearn: 0.3143035\ttotal: 597ms\tremaining: 2.98s\n",
      "167:\tlearn: 0.3135592\ttotal: 599ms\tremaining: 2.96s\n",
      "168:\tlearn: 0.3126385\ttotal: 601ms\tremaining: 2.96s\n",
      "169:\tlearn: 0.3114365\ttotal: 605ms\tremaining: 2.95s\n",
      "170:\tlearn: 0.3106790\ttotal: 607ms\tremaining: 2.94s\n",
      "171:\tlearn: 0.3099415\ttotal: 610ms\tremaining: 2.94s\n",
      "172:\tlearn: 0.3089539\ttotal: 611ms\tremaining: 2.92s\n",
      "173:\tlearn: 0.3082992\ttotal: 613ms\tremaining: 2.91s\n",
      "174:\tlearn: 0.3073482\ttotal: 615ms\tremaining: 2.9s\n",
      "175:\tlearn: 0.3062977\ttotal: 617ms\tremaining: 2.89s\n",
      "176:\tlearn: 0.3055103\ttotal: 621ms\tremaining: 2.89s\n",
      "177:\tlearn: 0.3045894\ttotal: 623ms\tremaining: 2.88s\n",
      "178:\tlearn: 0.3037717\ttotal: 625ms\tremaining: 2.87s\n",
      "179:\tlearn: 0.3028787\ttotal: 627ms\tremaining: 2.85s\n",
      "180:\tlearn: 0.3024263\ttotal: 629ms\tremaining: 2.84s\n",
      "181:\tlearn: 0.3015580\ttotal: 631ms\tremaining: 2.83s\n",
      "182:\tlearn: 0.3004651\ttotal: 637ms\tremaining: 2.84s\n",
      "183:\tlearn: 0.2998772\ttotal: 639ms\tremaining: 2.83s\n",
      "184:\tlearn: 0.2990860\ttotal: 641ms\tremaining: 2.82s\n",
      "185:\tlearn: 0.2983896\ttotal: 643ms\tremaining: 2.81s\n",
      "186:\tlearn: 0.2975415\ttotal: 645ms\tremaining: 2.8s\n",
      "187:\tlearn: 0.2970117\ttotal: 647ms\tremaining: 2.79s\n",
      "188:\tlearn: 0.2962040\ttotal: 651ms\tremaining: 2.79s\n",
      "189:\tlearn: 0.2953363\ttotal: 653ms\tremaining: 2.78s\n",
      "190:\tlearn: 0.2943068\ttotal: 655ms\tremaining: 2.77s\n",
      "191:\tlearn: 0.2935868\ttotal: 657ms\tremaining: 2.77s\n",
      "192:\tlearn: 0.2928622\ttotal: 659ms\tremaining: 2.75s\n",
      "193:\tlearn: 0.2921268\ttotal: 662ms\tremaining: 2.75s\n",
      "194:\tlearn: 0.2912525\ttotal: 663ms\tremaining: 2.74s\n",
      "195:\tlearn: 0.2906663\ttotal: 667ms\tremaining: 2.73s\n",
      "196:\tlearn: 0.2900552\ttotal: 669ms\tremaining: 2.73s\n",
      "197:\tlearn: 0.2895890\ttotal: 671ms\tremaining: 2.72s\n",
      "198:\tlearn: 0.2884172\ttotal: 673ms\tremaining: 2.71s\n",
      "199:\tlearn: 0.2875124\ttotal: 675ms\tremaining: 2.7s\n",
      "200:\tlearn: 0.2864058\ttotal: 677ms\tremaining: 2.69s\n",
      "201:\tlearn: 0.2856059\ttotal: 679ms\tremaining: 2.68s\n",
      "202:\tlearn: 0.2847342\ttotal: 681ms\tremaining: 2.67s\n",
      "203:\tlearn: 0.2841657\ttotal: 683ms\tremaining: 2.66s\n",
      "204:\tlearn: 0.2833863\ttotal: 685ms\tremaining: 2.66s\n",
      "205:\tlearn: 0.2828309\ttotal: 687ms\tremaining: 2.65s\n",
      "206:\tlearn: 0.2825674\ttotal: 688ms\tremaining: 2.64s\n",
      "207:\tlearn: 0.2818943\ttotal: 690ms\tremaining: 2.63s\n",
      "208:\tlearn: 0.2809507\ttotal: 692ms\tremaining: 2.62s\n",
      "209:\tlearn: 0.2802931\ttotal: 696ms\tremaining: 2.62s\n",
      "210:\tlearn: 0.2797623\ttotal: 698ms\tremaining: 2.61s\n",
      "211:\tlearn: 0.2793787\ttotal: 699ms\tremaining: 2.6s\n",
      "212:\tlearn: 0.2790593\ttotal: 701ms\tremaining: 2.59s\n",
      "213:\tlearn: 0.2782329\ttotal: 702ms\tremaining: 2.58s\n",
      "214:\tlearn: 0.2775372\ttotal: 705ms\tremaining: 2.57s\n",
      "215:\tlearn: 0.2769156\ttotal: 706ms\tremaining: 2.56s\n",
      "216:\tlearn: 0.2762921\ttotal: 710ms\tremaining: 2.56s\n",
      "217:\tlearn: 0.2754524\ttotal: 713ms\tremaining: 2.56s\n",
      "218:\tlearn: 0.2745132\ttotal: 716ms\tremaining: 2.55s\n",
      "219:\tlearn: 0.2737372\ttotal: 717ms\tremaining: 2.54s\n",
      "220:\tlearn: 0.2730378\ttotal: 719ms\tremaining: 2.53s\n",
      "221:\tlearn: 0.2724732\ttotal: 721ms\tremaining: 2.52s\n",
      "222:\tlearn: 0.2716476\ttotal: 723ms\tremaining: 2.52s\n",
      "223:\tlearn: 0.2711850\ttotal: 726ms\tremaining: 2.51s\n",
      "224:\tlearn: 0.2703260\ttotal: 728ms\tremaining: 2.51s\n",
      "225:\tlearn: 0.2700116\ttotal: 730ms\tremaining: 2.5s\n",
      "226:\tlearn: 0.2689029\ttotal: 732ms\tremaining: 2.49s\n",
      "227:\tlearn: 0.2683763\ttotal: 733ms\tremaining: 2.48s\n",
      "228:\tlearn: 0.2675968\ttotal: 736ms\tremaining: 2.48s\n",
      "229:\tlearn: 0.2669054\ttotal: 737ms\tremaining: 2.47s\n",
      "230:\tlearn: 0.2664298\ttotal: 742ms\tremaining: 2.47s\n",
      "231:\tlearn: 0.2656508\ttotal: 744ms\tremaining: 2.46s\n",
      "232:\tlearn: 0.2652678\ttotal: 746ms\tremaining: 2.46s\n",
      "233:\tlearn: 0.2646559\ttotal: 749ms\tremaining: 2.45s\n",
      "234:\tlearn: 0.2639636\ttotal: 750ms\tremaining: 2.44s\n",
      "235:\tlearn: 0.2632907\ttotal: 752ms\tremaining: 2.44s\n",
      "236:\tlearn: 0.2626638\ttotal: 758ms\tremaining: 2.44s\n",
      "237:\tlearn: 0.2619009\ttotal: 761ms\tremaining: 2.44s\n",
      "238:\tlearn: 0.2612613\ttotal: 762ms\tremaining: 2.43s\n",
      "239:\tlearn: 0.2605855\ttotal: 764ms\tremaining: 2.42s\n",
      "240:\tlearn: 0.2599394\ttotal: 766ms\tremaining: 2.41s\n",
      "241:\tlearn: 0.2594904\ttotal: 768ms\tremaining: 2.4s\n",
      "242:\tlearn: 0.2587178\ttotal: 773ms\tremaining: 2.41s\n",
      "243:\tlearn: 0.2579583\ttotal: 774ms\tremaining: 2.4s\n",
      "244:\tlearn: 0.2573666\ttotal: 776ms\tremaining: 2.39s\n",
      "245:\tlearn: 0.2570178\ttotal: 778ms\tremaining: 2.38s\n",
      "246:\tlearn: 0.2565162\ttotal: 780ms\tremaining: 2.38s\n",
      "247:\tlearn: 0.2560522\ttotal: 782ms\tremaining: 2.37s\n",
      "248:\tlearn: 0.2555675\ttotal: 785ms\tremaining: 2.37s\n",
      "249:\tlearn: 0.2549659\ttotal: 788ms\tremaining: 2.36s\n",
      "250:\tlearn: 0.2547069\ttotal: 790ms\tremaining: 2.36s\n",
      "251:\tlearn: 0.2542798\ttotal: 792ms\tremaining: 2.35s\n",
      "252:\tlearn: 0.2537212\ttotal: 794ms\tremaining: 2.34s\n",
      "253:\tlearn: 0.2531207\ttotal: 795ms\tremaining: 2.34s\n",
      "254:\tlearn: 0.2526857\ttotal: 797ms\tremaining: 2.33s\n",
      "255:\tlearn: 0.2520443\ttotal: 801ms\tremaining: 2.33s\n",
      "256:\tlearn: 0.2513283\ttotal: 804ms\tremaining: 2.32s\n",
      "257:\tlearn: 0.2507997\ttotal: 806ms\tremaining: 2.32s\n",
      "258:\tlearn: 0.2502414\ttotal: 807ms\tremaining: 2.31s\n",
      "259:\tlearn: 0.2496223\ttotal: 809ms\tremaining: 2.3s\n",
      "260:\tlearn: 0.2487384\ttotal: 811ms\tremaining: 2.3s\n",
      "261:\tlearn: 0.2483881\ttotal: 814ms\tremaining: 2.29s\n",
      "262:\tlearn: 0.2479313\ttotal: 816ms\tremaining: 2.29s\n",
      "263:\tlearn: 0.2475285\ttotal: 818ms\tremaining: 2.28s\n",
      "264:\tlearn: 0.2473537\ttotal: 819ms\tremaining: 2.27s\n",
      "265:\tlearn: 0.2469062\ttotal: 821ms\tremaining: 2.27s\n",
      "266:\tlearn: 0.2463751\ttotal: 823ms\tremaining: 2.26s\n",
      "267:\tlearn: 0.2458797\ttotal: 826ms\tremaining: 2.25s\n",
      "268:\tlearn: 0.2451936\ttotal: 830ms\tremaining: 2.25s\n",
      "269:\tlearn: 0.2443405\ttotal: 832ms\tremaining: 2.25s\n",
      "270:\tlearn: 0.2438892\ttotal: 834ms\tremaining: 2.24s\n",
      "271:\tlearn: 0.2432412\ttotal: 836ms\tremaining: 2.24s\n",
      "272:\tlearn: 0.2427519\ttotal: 839ms\tremaining: 2.23s\n",
      "273:\tlearn: 0.2419479\ttotal: 841ms\tremaining: 2.23s\n",
      "274:\tlearn: 0.2414258\ttotal: 846ms\tremaining: 2.23s\n",
      "275:\tlearn: 0.2408117\ttotal: 848ms\tremaining: 2.22s\n",
      "276:\tlearn: 0.2402820\ttotal: 850ms\tremaining: 2.22s\n",
      "277:\tlearn: 0.2398348\ttotal: 852ms\tremaining: 2.21s\n",
      "278:\tlearn: 0.2397081\ttotal: 854ms\tremaining: 2.21s\n",
      "279:\tlearn: 0.2393548\ttotal: 857ms\tremaining: 2.2s\n",
      "280:\tlearn: 0.2388487\ttotal: 861ms\tremaining: 2.2s\n",
      "281:\tlearn: 0.2383995\ttotal: 863ms\tremaining: 2.2s\n",
      "282:\tlearn: 0.2380907\ttotal: 865ms\tremaining: 2.19s\n",
      "283:\tlearn: 0.2376609\ttotal: 867ms\tremaining: 2.19s\n",
      "284:\tlearn: 0.2371056\ttotal: 868ms\tremaining: 2.18s\n",
      "285:\tlearn: 0.2362636\ttotal: 871ms\tremaining: 2.17s\n",
      "286:\tlearn: 0.2357338\ttotal: 876ms\tremaining: 2.18s\n",
      "287:\tlearn: 0.2350094\ttotal: 879ms\tremaining: 2.17s\n",
      "288:\tlearn: 0.2346852\ttotal: 881ms\tremaining: 2.17s\n",
      "289:\tlearn: 0.2340428\ttotal: 883ms\tremaining: 2.16s\n",
      "290:\tlearn: 0.2335186\ttotal: 893ms\tremaining: 2.17s\n",
      "291:\tlearn: 0.2330164\ttotal: 897ms\tremaining: 2.17s\n",
      "292:\tlearn: 0.2323759\ttotal: 901ms\tremaining: 2.17s\n",
      "293:\tlearn: 0.2319322\ttotal: 905ms\tremaining: 2.17s\n",
      "294:\tlearn: 0.2315916\ttotal: 909ms\tremaining: 2.17s\n",
      "295:\tlearn: 0.2311085\ttotal: 912ms\tremaining: 2.17s\n",
      "296:\tlearn: 0.2305335\ttotal: 914ms\tremaining: 2.16s\n",
      "297:\tlearn: 0.2301743\ttotal: 916ms\tremaining: 2.16s\n",
      "298:\tlearn: 0.2297170\ttotal: 917ms\tremaining: 2.15s\n",
      "299:\tlearn: 0.2291678\ttotal: 921ms\tremaining: 2.15s\n",
      "300:\tlearn: 0.2287608\ttotal: 923ms\tremaining: 2.14s\n",
      "301:\tlearn: 0.2284186\ttotal: 925ms\tremaining: 2.14s\n",
      "302:\tlearn: 0.2281484\ttotal: 929ms\tremaining: 2.14s\n",
      "303:\tlearn: 0.2276262\ttotal: 933ms\tremaining: 2.13s\n",
      "304:\tlearn: 0.2268329\ttotal: 938ms\tremaining: 2.14s\n",
      "305:\tlearn: 0.2265419\ttotal: 942ms\tremaining: 2.13s\n",
      "306:\tlearn: 0.2261526\ttotal: 944ms\tremaining: 2.13s\n",
      "307:\tlearn: 0.2257264\ttotal: 946ms\tremaining: 2.13s\n",
      "308:\tlearn: 0.2253553\ttotal: 948ms\tremaining: 2.12s\n",
      "309:\tlearn: 0.2251315\ttotal: 953ms\tremaining: 2.12s\n",
      "310:\tlearn: 0.2248292\ttotal: 955ms\tremaining: 2.12s\n",
      "311:\tlearn: 0.2243848\ttotal: 957ms\tremaining: 2.11s\n",
      "312:\tlearn: 0.2238054\ttotal: 959ms\tremaining: 2.1s\n",
      "313:\tlearn: 0.2232816\ttotal: 960ms\tremaining: 2.1s\n",
      "314:\tlearn: 0.2228800\ttotal: 963ms\tremaining: 2.09s\n",
      "315:\tlearn: 0.2225778\ttotal: 968ms\tremaining: 2.09s\n",
      "316:\tlearn: 0.2221986\ttotal: 970ms\tremaining: 2.09s\n",
      "317:\tlearn: 0.2217390\ttotal: 972ms\tremaining: 2.08s\n",
      "318:\tlearn: 0.2211131\ttotal: 973ms\tremaining: 2.08s\n",
      "319:\tlearn: 0.2206170\ttotal: 976ms\tremaining: 2.07s\n",
      "320:\tlearn: 0.2200156\ttotal: 978ms\tremaining: 2.07s\n",
      "321:\tlearn: 0.2196257\ttotal: 982ms\tremaining: 2.07s\n",
      "322:\tlearn: 0.2191128\ttotal: 984ms\tremaining: 2.06s\n",
      "323:\tlearn: 0.2186664\ttotal: 986ms\tremaining: 2.06s\n",
      "324:\tlearn: 0.2182594\ttotal: 989ms\tremaining: 2.05s\n",
      "325:\tlearn: 0.2178499\ttotal: 991ms\tremaining: 2.05s\n",
      "326:\tlearn: 0.2175682\ttotal: 993ms\tremaining: 2.04s\n",
      "327:\tlearn: 0.2172564\ttotal: 995ms\tremaining: 2.04s\n",
      "328:\tlearn: 0.2167841\ttotal: 999ms\tremaining: 2.04s\n",
      "329:\tlearn: 0.2165800\ttotal: 1s\tremaining: 2.03s\n",
      "330:\tlearn: 0.2162488\ttotal: 1s\tremaining: 2.03s\n",
      "331:\tlearn: 0.2159386\ttotal: 1s\tremaining: 2.02s\n",
      "332:\tlearn: 0.2155575\ttotal: 1.01s\tremaining: 2.02s\n",
      "333:\tlearn: 0.2152389\ttotal: 1.01s\tremaining: 2.01s\n",
      "334:\tlearn: 0.2148383\ttotal: 1.01s\tremaining: 2.01s\n",
      "335:\tlearn: 0.2145614\ttotal: 1.01s\tremaining: 2s\n",
      "336:\tlearn: 0.2141526\ttotal: 1.02s\tremaining: 2s\n",
      "337:\tlearn: 0.2141085\ttotal: 1.02s\tremaining: 1.99s\n",
      "338:\tlearn: 0.2138010\ttotal: 1.02s\tremaining: 1.99s\n",
      "339:\tlearn: 0.2133350\ttotal: 1.02s\tremaining: 1.98s\n",
      "340:\tlearn: 0.2129828\ttotal: 1.02s\tremaining: 1.98s\n",
      "341:\tlearn: 0.2126654\ttotal: 1.02s\tremaining: 1.97s\n",
      "342:\tlearn: 0.2124691\ttotal: 1.03s\tremaining: 1.97s\n",
      "343:\tlearn: 0.2122785\ttotal: 1.03s\tremaining: 1.96s\n",
      "344:\tlearn: 0.2120586\ttotal: 1.03s\tremaining: 1.96s\n",
      "345:\tlearn: 0.2116848\ttotal: 1.03s\tremaining: 1.95s\n",
      "346:\tlearn: 0.2113992\ttotal: 1.04s\tremaining: 1.95s\n",
      "347:\tlearn: 0.2110554\ttotal: 1.04s\tremaining: 1.95s\n",
      "348:\tlearn: 0.2106661\ttotal: 1.04s\tremaining: 1.95s\n",
      "349:\tlearn: 0.2102722\ttotal: 1.04s\tremaining: 1.94s\n",
      "350:\tlearn: 0.2098968\ttotal: 1.05s\tremaining: 1.94s\n",
      "351:\tlearn: 0.2094354\ttotal: 1.05s\tremaining: 1.93s\n",
      "352:\tlearn: 0.2091098\ttotal: 1.05s\tremaining: 1.93s\n",
      "353:\tlearn: 0.2085395\ttotal: 1.05s\tremaining: 1.92s\n",
      "354:\tlearn: 0.2082898\ttotal: 1.06s\tremaining: 1.92s\n",
      "355:\tlearn: 0.2080373\ttotal: 1.06s\tremaining: 1.92s\n",
      "356:\tlearn: 0.2078127\ttotal: 1.06s\tremaining: 1.91s\n",
      "357:\tlearn: 0.2074151\ttotal: 1.06s\tremaining: 1.91s\n",
      "358:\tlearn: 0.2069113\ttotal: 1.06s\tremaining: 1.9s\n",
      "359:\tlearn: 0.2066679\ttotal: 1.07s\tremaining: 1.9s\n",
      "360:\tlearn: 0.2062704\ttotal: 1.07s\tremaining: 1.9s\n",
      "361:\tlearn: 0.2061613\ttotal: 1.07s\tremaining: 1.89s\n",
      "362:\tlearn: 0.2056226\ttotal: 1.08s\tremaining: 1.89s\n",
      "363:\tlearn: 0.2051597\ttotal: 1.08s\tremaining: 1.88s\n",
      "364:\tlearn: 0.2048674\ttotal: 1.08s\tremaining: 1.88s\n",
      "365:\tlearn: 0.2043330\ttotal: 1.08s\tremaining: 1.87s\n",
      "366:\tlearn: 0.2041810\ttotal: 1.08s\tremaining: 1.87s\n",
      "367:\tlearn: 0.2036715\ttotal: 1.09s\tremaining: 1.87s\n",
      "368:\tlearn: 0.2031891\ttotal: 1.09s\tremaining: 1.86s\n",
      "369:\tlearn: 0.2029270\ttotal: 1.09s\tremaining: 1.86s\n",
      "370:\tlearn: 0.2026130\ttotal: 1.09s\tremaining: 1.86s\n",
      "371:\tlearn: 0.2022526\ttotal: 1.1s\tremaining: 1.85s\n",
      "372:\tlearn: 0.2019099\ttotal: 1.1s\tremaining: 1.85s\n",
      "373:\tlearn: 0.2015656\ttotal: 1.1s\tremaining: 1.85s\n",
      "374:\tlearn: 0.2013092\ttotal: 1.11s\tremaining: 1.84s\n",
      "375:\tlearn: 0.2009937\ttotal: 1.11s\tremaining: 1.84s\n",
      "376:\tlearn: 0.2004609\ttotal: 1.11s\tremaining: 1.84s\n",
      "377:\tlearn: 0.1999792\ttotal: 1.11s\tremaining: 1.83s\n",
      "378:\tlearn: 0.1997489\ttotal: 1.12s\tremaining: 1.83s\n",
      "379:\tlearn: 0.1993854\ttotal: 1.12s\tremaining: 1.83s\n",
      "380:\tlearn: 0.1991556\ttotal: 1.12s\tremaining: 1.82s\n",
      "381:\tlearn: 0.1989383\ttotal: 1.12s\tremaining: 1.82s\n",
      "382:\tlearn: 0.1985330\ttotal: 1.13s\tremaining: 1.81s\n",
      "383:\tlearn: 0.1981555\ttotal: 1.13s\tremaining: 1.81s\n",
      "384:\tlearn: 0.1979281\ttotal: 1.13s\tremaining: 1.8s\n",
      "385:\tlearn: 0.1976367\ttotal: 1.13s\tremaining: 1.8s\n",
      "386:\tlearn: 0.1973343\ttotal: 1.14s\tremaining: 1.8s\n",
      "387:\tlearn: 0.1968476\ttotal: 1.14s\tremaining: 1.79s\n",
      "388:\tlearn: 0.1965453\ttotal: 1.14s\tremaining: 1.79s\n",
      "389:\tlearn: 0.1962933\ttotal: 1.14s\tremaining: 1.78s\n",
      "390:\tlearn: 0.1957869\ttotal: 1.14s\tremaining: 1.78s\n",
      "391:\tlearn: 0.1956253\ttotal: 1.14s\tremaining: 1.77s\n",
      "392:\tlearn: 0.1953644\ttotal: 1.15s\tremaining: 1.77s\n",
      "393:\tlearn: 0.1951664\ttotal: 1.15s\tremaining: 1.77s\n",
      "394:\tlearn: 0.1949340\ttotal: 1.15s\tremaining: 1.76s\n",
      "395:\tlearn: 0.1944700\ttotal: 1.15s\tremaining: 1.76s\n",
      "396:\tlearn: 0.1943208\ttotal: 1.16s\tremaining: 1.75s\n",
      "397:\tlearn: 0.1940129\ttotal: 1.16s\tremaining: 1.75s\n",
      "398:\tlearn: 0.1936089\ttotal: 1.16s\tremaining: 1.75s\n",
      "399:\tlearn: 0.1932386\ttotal: 1.16s\tremaining: 1.75s\n",
      "400:\tlearn: 0.1930517\ttotal: 1.17s\tremaining: 1.74s\n",
      "401:\tlearn: 0.1928420\ttotal: 1.17s\tremaining: 1.74s\n",
      "402:\tlearn: 0.1925234\ttotal: 1.17s\tremaining: 1.73s\n",
      "403:\tlearn: 0.1922042\ttotal: 1.17s\tremaining: 1.73s\n",
      "404:\tlearn: 0.1919055\ttotal: 1.17s\tremaining: 1.72s\n",
      "405:\tlearn: 0.1913662\ttotal: 1.18s\tremaining: 1.72s\n",
      "406:\tlearn: 0.1908786\ttotal: 1.18s\tremaining: 1.72s\n",
      "407:\tlearn: 0.1906290\ttotal: 1.18s\tremaining: 1.71s\n",
      "408:\tlearn: 0.1902596\ttotal: 1.18s\tremaining: 1.71s\n",
      "409:\tlearn: 0.1898292\ttotal: 1.18s\tremaining: 1.7s\n",
      "410:\tlearn: 0.1895166\ttotal: 1.19s\tremaining: 1.7s\n",
      "411:\tlearn: 0.1891850\ttotal: 1.19s\tremaining: 1.7s\n",
      "412:\tlearn: 0.1886585\ttotal: 1.19s\tremaining: 1.69s\n",
      "413:\tlearn: 0.1884209\ttotal: 1.19s\tremaining: 1.69s\n",
      "414:\tlearn: 0.1882386\ttotal: 1.2s\tremaining: 1.69s\n",
      "415:\tlearn: 0.1880908\ttotal: 1.2s\tremaining: 1.68s\n",
      "416:\tlearn: 0.1877400\ttotal: 1.2s\tremaining: 1.68s\n",
      "417:\tlearn: 0.1874425\ttotal: 1.2s\tremaining: 1.67s\n",
      "418:\tlearn: 0.1872747\ttotal: 1.21s\tremaining: 1.67s\n",
      "419:\tlearn: 0.1869618\ttotal: 1.21s\tremaining: 1.67s\n",
      "420:\tlearn: 0.1867169\ttotal: 1.21s\tremaining: 1.66s\n",
      "421:\tlearn: 0.1865128\ttotal: 1.21s\tremaining: 1.66s\n",
      "422:\tlearn: 0.1861885\ttotal: 1.21s\tremaining: 1.66s\n",
      "423:\tlearn: 0.1858291\ttotal: 1.22s\tremaining: 1.65s\n",
      "424:\tlearn: 0.1855183\ttotal: 1.22s\tremaining: 1.65s\n",
      "425:\tlearn: 0.1850806\ttotal: 1.22s\tremaining: 1.65s\n",
      "426:\tlearn: 0.1850505\ttotal: 1.22s\tremaining: 1.64s\n",
      "427:\tlearn: 0.1847969\ttotal: 1.23s\tremaining: 1.64s\n",
      "428:\tlearn: 0.1846309\ttotal: 1.23s\tremaining: 1.63s\n",
      "429:\tlearn: 0.1843908\ttotal: 1.23s\tremaining: 1.63s\n",
      "430:\tlearn: 0.1843340\ttotal: 1.23s\tremaining: 1.63s\n",
      "431:\tlearn: 0.1839819\ttotal: 1.24s\tremaining: 1.63s\n",
      "432:\tlearn: 0.1837045\ttotal: 1.24s\tremaining: 1.62s\n",
      "433:\tlearn: 0.1834146\ttotal: 1.24s\tremaining: 1.62s\n",
      "434:\tlearn: 0.1833514\ttotal: 1.24s\tremaining: 1.61s\n",
      "435:\tlearn: 0.1829154\ttotal: 1.24s\tremaining: 1.61s\n",
      "436:\tlearn: 0.1826390\ttotal: 1.25s\tremaining: 1.6s\n",
      "437:\tlearn: 0.1821177\ttotal: 1.25s\tremaining: 1.6s\n",
      "438:\tlearn: 0.1818529\ttotal: 1.25s\tremaining: 1.6s\n",
      "439:\tlearn: 0.1814934\ttotal: 1.25s\tremaining: 1.6s\n",
      "440:\tlearn: 0.1810615\ttotal: 1.26s\tremaining: 1.59s\n",
      "441:\tlearn: 0.1807956\ttotal: 1.26s\tremaining: 1.59s\n",
      "442:\tlearn: 0.1806062\ttotal: 1.26s\tremaining: 1.59s\n",
      "443:\tlearn: 0.1803215\ttotal: 1.26s\tremaining: 1.58s\n",
      "444:\tlearn: 0.1800948\ttotal: 1.27s\tremaining: 1.58s\n",
      "445:\tlearn: 0.1798617\ttotal: 1.27s\tremaining: 1.58s\n",
      "446:\tlearn: 0.1794936\ttotal: 1.27s\tremaining: 1.57s\n",
      "447:\tlearn: 0.1791667\ttotal: 1.27s\tremaining: 1.57s\n",
      "448:\tlearn: 0.1788924\ttotal: 1.28s\tremaining: 1.57s\n",
      "449:\tlearn: 0.1785334\ttotal: 1.28s\tremaining: 1.56s\n"
     ]
    },
    {
     "name": "stdout",
     "output_type": "stream",
     "text": [
      "450:\tlearn: 0.1784229\ttotal: 1.28s\tremaining: 1.56s\n",
      "451:\tlearn: 0.1782430\ttotal: 1.28s\tremaining: 1.56s\n",
      "452:\tlearn: 0.1778569\ttotal: 1.29s\tremaining: 1.55s\n",
      "453:\tlearn: 0.1774725\ttotal: 1.29s\tremaining: 1.55s\n",
      "454:\tlearn: 0.1773270\ttotal: 1.29s\tremaining: 1.55s\n",
      "455:\tlearn: 0.1771733\ttotal: 1.29s\tremaining: 1.54s\n",
      "456:\tlearn: 0.1769595\ttotal: 1.3s\tremaining: 1.54s\n",
      "457:\tlearn: 0.1768033\ttotal: 1.3s\tremaining: 1.54s\n",
      "458:\tlearn: 0.1764196\ttotal: 1.3s\tremaining: 1.53s\n",
      "459:\tlearn: 0.1759810\ttotal: 1.3s\tremaining: 1.53s\n",
      "460:\tlearn: 0.1755733\ttotal: 1.31s\tremaining: 1.53s\n",
      "461:\tlearn: 0.1752786\ttotal: 1.31s\tremaining: 1.53s\n",
      "462:\tlearn: 0.1750491\ttotal: 1.31s\tremaining: 1.52s\n",
      "463:\tlearn: 0.1748284\ttotal: 1.31s\tremaining: 1.52s\n",
      "464:\tlearn: 0.1746298\ttotal: 1.32s\tremaining: 1.51s\n",
      "465:\tlearn: 0.1743230\ttotal: 1.32s\tremaining: 1.51s\n",
      "466:\tlearn: 0.1741052\ttotal: 1.32s\tremaining: 1.51s\n",
      "467:\tlearn: 0.1739781\ttotal: 1.32s\tremaining: 1.5s\n",
      "468:\tlearn: 0.1737034\ttotal: 1.33s\tremaining: 1.5s\n",
      "469:\tlearn: 0.1733637\ttotal: 1.33s\tremaining: 1.5s\n",
      "470:\tlearn: 0.1730822\ttotal: 1.33s\tremaining: 1.5s\n",
      "471:\tlearn: 0.1730145\ttotal: 1.34s\tremaining: 1.5s\n",
      "472:\tlearn: 0.1727898\ttotal: 1.34s\tremaining: 1.5s\n",
      "473:\tlearn: 0.1725900\ttotal: 1.35s\tremaining: 1.5s\n",
      "474:\tlearn: 0.1723163\ttotal: 1.35s\tremaining: 1.49s\n",
      "475:\tlearn: 0.1718978\ttotal: 1.36s\tremaining: 1.49s\n",
      "476:\tlearn: 0.1716836\ttotal: 1.36s\tremaining: 1.49s\n",
      "477:\tlearn: 0.1713971\ttotal: 1.36s\tremaining: 1.49s\n",
      "478:\tlearn: 0.1711751\ttotal: 1.36s\tremaining: 1.49s\n",
      "479:\tlearn: 0.1707846\ttotal: 1.37s\tremaining: 1.48s\n",
      "480:\tlearn: 0.1705032\ttotal: 1.37s\tremaining: 1.48s\n",
      "481:\tlearn: 0.1702665\ttotal: 1.38s\tremaining: 1.48s\n",
      "482:\tlearn: 0.1700583\ttotal: 1.38s\tremaining: 1.47s\n",
      "483:\tlearn: 0.1696582\ttotal: 1.38s\tremaining: 1.47s\n",
      "484:\tlearn: 0.1693162\ttotal: 1.38s\tremaining: 1.47s\n",
      "485:\tlearn: 0.1690769\ttotal: 1.39s\tremaining: 1.47s\n",
      "486:\tlearn: 0.1687312\ttotal: 1.39s\tremaining: 1.46s\n",
      "487:\tlearn: 0.1685751\ttotal: 1.39s\tremaining: 1.46s\n",
      "488:\tlearn: 0.1683359\ttotal: 1.39s\tremaining: 1.46s\n",
      "489:\tlearn: 0.1679516\ttotal: 1.4s\tremaining: 1.45s\n",
      "490:\tlearn: 0.1676005\ttotal: 1.4s\tremaining: 1.45s\n",
      "491:\tlearn: 0.1673756\ttotal: 1.4s\tremaining: 1.45s\n",
      "492:\tlearn: 0.1671966\ttotal: 1.41s\tremaining: 1.45s\n",
      "493:\tlearn: 0.1669585\ttotal: 1.41s\tremaining: 1.44s\n",
      "494:\tlearn: 0.1666831\ttotal: 1.41s\tremaining: 1.44s\n",
      "495:\tlearn: 0.1664467\ttotal: 1.41s\tremaining: 1.44s\n",
      "496:\tlearn: 0.1663535\ttotal: 1.42s\tremaining: 1.44s\n",
      "497:\tlearn: 0.1663083\ttotal: 1.42s\tremaining: 1.43s\n",
      "498:\tlearn: 0.1660692\ttotal: 1.42s\tremaining: 1.43s\n",
      "499:\tlearn: 0.1655599\ttotal: 1.43s\tremaining: 1.43s\n",
      "500:\tlearn: 0.1651777\ttotal: 1.43s\tremaining: 1.42s\n",
      "501:\tlearn: 0.1648923\ttotal: 1.43s\tremaining: 1.42s\n",
      "502:\tlearn: 0.1646699\ttotal: 1.44s\tremaining: 1.42s\n",
      "503:\tlearn: 0.1644266\ttotal: 1.44s\tremaining: 1.41s\n",
      "504:\tlearn: 0.1640997\ttotal: 1.44s\tremaining: 1.41s\n",
      "505:\tlearn: 0.1640140\ttotal: 1.44s\tremaining: 1.41s\n",
      "506:\tlearn: 0.1637318\ttotal: 1.44s\tremaining: 1.4s\n",
      "507:\tlearn: 0.1636072\ttotal: 1.45s\tremaining: 1.4s\n",
      "508:\tlearn: 0.1634185\ttotal: 1.45s\tremaining: 1.4s\n",
      "509:\tlearn: 0.1631278\ttotal: 1.45s\tremaining: 1.4s\n",
      "510:\tlearn: 0.1628625\ttotal: 1.45s\tremaining: 1.39s\n",
      "511:\tlearn: 0.1626404\ttotal: 1.46s\tremaining: 1.39s\n",
      "512:\tlearn: 0.1623493\ttotal: 1.46s\tremaining: 1.39s\n",
      "513:\tlearn: 0.1620667\ttotal: 1.47s\tremaining: 1.39s\n",
      "514:\tlearn: 0.1618894\ttotal: 1.47s\tremaining: 1.38s\n",
      "515:\tlearn: 0.1617411\ttotal: 1.47s\tremaining: 1.38s\n",
      "516:\tlearn: 0.1614739\ttotal: 1.47s\tremaining: 1.38s\n",
      "517:\tlearn: 0.1611561\ttotal: 1.48s\tremaining: 1.38s\n",
      "518:\tlearn: 0.1609006\ttotal: 1.48s\tremaining: 1.37s\n",
      "519:\tlearn: 0.1607231\ttotal: 1.48s\tremaining: 1.37s\n",
      "520:\tlearn: 0.1604426\ttotal: 1.49s\tremaining: 1.37s\n",
      "521:\tlearn: 0.1600798\ttotal: 1.49s\tremaining: 1.36s\n",
      "522:\tlearn: 0.1597865\ttotal: 1.49s\tremaining: 1.36s\n",
      "523:\tlearn: 0.1596412\ttotal: 1.5s\tremaining: 1.36s\n",
      "524:\tlearn: 0.1594326\ttotal: 1.5s\tremaining: 1.35s\n",
      "525:\tlearn: 0.1592332\ttotal: 1.5s\tremaining: 1.35s\n",
      "526:\tlearn: 0.1591112\ttotal: 1.5s\tremaining: 1.35s\n",
      "527:\tlearn: 0.1587876\ttotal: 1.5s\tremaining: 1.34s\n",
      "528:\tlearn: 0.1586443\ttotal: 1.5s\tremaining: 1.34s\n",
      "529:\tlearn: 0.1585579\ttotal: 1.5s\tremaining: 1.33s\n",
      "530:\tlearn: 0.1584220\ttotal: 1.51s\tremaining: 1.33s\n",
      "531:\tlearn: 0.1582889\ttotal: 1.51s\tremaining: 1.33s\n",
      "532:\tlearn: 0.1580179\ttotal: 1.51s\tremaining: 1.33s\n",
      "533:\tlearn: 0.1577455\ttotal: 1.52s\tremaining: 1.32s\n",
      "534:\tlearn: 0.1575629\ttotal: 1.52s\tremaining: 1.32s\n",
      "535:\tlearn: 0.1572966\ttotal: 1.52s\tremaining: 1.31s\n",
      "536:\tlearn: 0.1570314\ttotal: 1.52s\tremaining: 1.31s\n",
      "537:\tlearn: 0.1567729\ttotal: 1.52s\tremaining: 1.31s\n",
      "538:\tlearn: 0.1565334\ttotal: 1.53s\tremaining: 1.31s\n",
      "539:\tlearn: 0.1561602\ttotal: 1.53s\tremaining: 1.3s\n",
      "540:\tlearn: 0.1559108\ttotal: 1.53s\tremaining: 1.3s\n",
      "541:\tlearn: 0.1556887\ttotal: 1.53s\tremaining: 1.29s\n",
      "542:\tlearn: 0.1554292\ttotal: 1.53s\tremaining: 1.29s\n",
      "543:\tlearn: 0.1551150\ttotal: 1.53s\tremaining: 1.28s\n",
      "544:\tlearn: 0.1549308\ttotal: 1.53s\tremaining: 1.28s\n",
      "545:\tlearn: 0.1547479\ttotal: 1.54s\tremaining: 1.28s\n",
      "546:\tlearn: 0.1544389\ttotal: 1.54s\tremaining: 1.27s\n",
      "547:\tlearn: 0.1542491\ttotal: 1.54s\tremaining: 1.27s\n",
      "548:\tlearn: 0.1539428\ttotal: 1.54s\tremaining: 1.27s\n",
      "549:\tlearn: 0.1537619\ttotal: 1.54s\tremaining: 1.26s\n",
      "550:\tlearn: 0.1535877\ttotal: 1.54s\tremaining: 1.26s\n",
      "551:\tlearn: 0.1534581\ttotal: 1.55s\tremaining: 1.25s\n",
      "552:\tlearn: 0.1533676\ttotal: 1.55s\tremaining: 1.25s\n",
      "553:\tlearn: 0.1533569\ttotal: 1.55s\tremaining: 1.25s\n",
      "554:\tlearn: 0.1532440\ttotal: 1.55s\tremaining: 1.24s\n",
      "555:\tlearn: 0.1530242\ttotal: 1.55s\tremaining: 1.24s\n",
      "556:\tlearn: 0.1526867\ttotal: 1.55s\tremaining: 1.24s\n",
      "557:\tlearn: 0.1525254\ttotal: 1.55s\tremaining: 1.23s\n",
      "558:\tlearn: 0.1522794\ttotal: 1.56s\tremaining: 1.23s\n",
      "559:\tlearn: 0.1519947\ttotal: 1.56s\tremaining: 1.22s\n",
      "560:\tlearn: 0.1517957\ttotal: 1.56s\tremaining: 1.22s\n",
      "561:\tlearn: 0.1516010\ttotal: 1.56s\tremaining: 1.22s\n",
      "562:\tlearn: 0.1513588\ttotal: 1.56s\tremaining: 1.21s\n",
      "563:\tlearn: 0.1511832\ttotal: 1.56s\tremaining: 1.21s\n",
      "564:\tlearn: 0.1511016\ttotal: 1.56s\tremaining: 1.21s\n",
      "565:\tlearn: 0.1509040\ttotal: 1.57s\tremaining: 1.2s\n",
      "566:\tlearn: 0.1506615\ttotal: 1.57s\tremaining: 1.2s\n",
      "567:\tlearn: 0.1504696\ttotal: 1.57s\tremaining: 1.2s\n",
      "568:\tlearn: 0.1502121\ttotal: 1.57s\tremaining: 1.19s\n",
      "569:\tlearn: 0.1500110\ttotal: 1.57s\tremaining: 1.19s\n",
      "570:\tlearn: 0.1498491\ttotal: 1.57s\tremaining: 1.18s\n",
      "571:\tlearn: 0.1496168\ttotal: 1.58s\tremaining: 1.18s\n",
      "572:\tlearn: 0.1494527\ttotal: 1.58s\tremaining: 1.18s\n",
      "573:\tlearn: 0.1492440\ttotal: 1.58s\tremaining: 1.17s\n",
      "574:\tlearn: 0.1489662\ttotal: 1.58s\tremaining: 1.17s\n",
      "575:\tlearn: 0.1487032\ttotal: 1.58s\tremaining: 1.16s\n",
      "576:\tlearn: 0.1485046\ttotal: 1.58s\tremaining: 1.16s\n",
      "577:\tlearn: 0.1483026\ttotal: 1.59s\tremaining: 1.16s\n",
      "578:\tlearn: 0.1480845\ttotal: 1.59s\tremaining: 1.15s\n",
      "579:\tlearn: 0.1478576\ttotal: 1.59s\tremaining: 1.15s\n",
      "580:\tlearn: 0.1476460\ttotal: 1.59s\tremaining: 1.15s\n",
      "581:\tlearn: 0.1475538\ttotal: 1.59s\tremaining: 1.14s\n",
      "582:\tlearn: 0.1474185\ttotal: 1.59s\tremaining: 1.14s\n",
      "583:\tlearn: 0.1472526\ttotal: 1.59s\tremaining: 1.14s\n",
      "584:\tlearn: 0.1469992\ttotal: 1.59s\tremaining: 1.13s\n",
      "585:\tlearn: 0.1467472\ttotal: 1.6s\tremaining: 1.13s\n",
      "586:\tlearn: 0.1464563\ttotal: 1.6s\tremaining: 1.12s\n",
      "587:\tlearn: 0.1462885\ttotal: 1.6s\tremaining: 1.12s\n",
      "588:\tlearn: 0.1460330\ttotal: 1.6s\tremaining: 1.12s\n",
      "589:\tlearn: 0.1458712\ttotal: 1.6s\tremaining: 1.11s\n",
      "590:\tlearn: 0.1455890\ttotal: 1.6s\tremaining: 1.11s\n",
      "591:\tlearn: 0.1453181\ttotal: 1.61s\tremaining: 1.11s\n",
      "592:\tlearn: 0.1452004\ttotal: 1.61s\tremaining: 1.1s\n",
      "593:\tlearn: 0.1450047\ttotal: 1.61s\tremaining: 1.1s\n",
      "594:\tlearn: 0.1448929\ttotal: 1.61s\tremaining: 1.1s\n",
      "595:\tlearn: 0.1446026\ttotal: 1.61s\tremaining: 1.09s\n",
      "596:\tlearn: 0.1444557\ttotal: 1.61s\tremaining: 1.09s\n",
      "597:\tlearn: 0.1442365\ttotal: 1.61s\tremaining: 1.08s\n",
      "598:\tlearn: 0.1441020\ttotal: 1.62s\tremaining: 1.08s\n",
      "599:\tlearn: 0.1439545\ttotal: 1.62s\tremaining: 1.08s\n",
      "600:\tlearn: 0.1437333\ttotal: 1.62s\tremaining: 1.08s\n",
      "601:\tlearn: 0.1434649\ttotal: 1.62s\tremaining: 1.07s\n",
      "602:\tlearn: 0.1432760\ttotal: 1.62s\tremaining: 1.07s\n",
      "603:\tlearn: 0.1430993\ttotal: 1.63s\tremaining: 1.06s\n",
      "604:\tlearn: 0.1429629\ttotal: 1.63s\tremaining: 1.06s\n",
      "605:\tlearn: 0.1427618\ttotal: 1.63s\tremaining: 1.06s\n",
      "606:\tlearn: 0.1426598\ttotal: 1.63s\tremaining: 1.05s\n",
      "607:\tlearn: 0.1424329\ttotal: 1.63s\tremaining: 1.05s\n",
      "608:\tlearn: 0.1422909\ttotal: 1.63s\tremaining: 1.05s\n",
      "609:\tlearn: 0.1420170\ttotal: 1.63s\tremaining: 1.04s\n",
      "610:\tlearn: 0.1419246\ttotal: 1.63s\tremaining: 1.04s\n",
      "611:\tlearn: 0.1417933\ttotal: 1.64s\tremaining: 1.04s\n",
      "612:\tlearn: 0.1415563\ttotal: 1.64s\tremaining: 1.03s\n",
      "613:\tlearn: 0.1415511\ttotal: 1.64s\tremaining: 1.03s\n",
      "614:\tlearn: 0.1412672\ttotal: 1.64s\tremaining: 1.03s\n",
      "615:\tlearn: 0.1410054\ttotal: 1.64s\tremaining: 1.02s\n",
      "616:\tlearn: 0.1407624\ttotal: 1.64s\tremaining: 1.02s\n",
      "617:\tlearn: 0.1405626\ttotal: 1.64s\tremaining: 1.01s\n",
      "618:\tlearn: 0.1403013\ttotal: 1.64s\tremaining: 1.01s\n",
      "619:\tlearn: 0.1401901\ttotal: 1.65s\tremaining: 1.01s\n",
      "620:\tlearn: 0.1400285\ttotal: 1.65s\tremaining: 1.01s\n",
      "621:\tlearn: 0.1399749\ttotal: 1.65s\tremaining: 1s\n",
      "622:\tlearn: 0.1398420\ttotal: 1.65s\tremaining: 999ms\n",
      "623:\tlearn: 0.1396725\ttotal: 1.65s\tremaining: 996ms\n",
      "624:\tlearn: 0.1394633\ttotal: 1.65s\tremaining: 993ms\n",
      "625:\tlearn: 0.1392653\ttotal: 1.66s\tremaining: 989ms\n",
      "626:\tlearn: 0.1391948\ttotal: 1.66s\tremaining: 987ms\n",
      "627:\tlearn: 0.1388603\ttotal: 1.66s\tremaining: 983ms\n",
      "628:\tlearn: 0.1385966\ttotal: 1.66s\tremaining: 980ms\n",
      "629:\tlearn: 0.1384511\ttotal: 1.67s\tremaining: 980ms\n",
      "630:\tlearn: 0.1382491\ttotal: 1.67s\tremaining: 976ms\n",
      "631:\tlearn: 0.1380148\ttotal: 1.67s\tremaining: 973ms\n",
      "632:\tlearn: 0.1377119\ttotal: 1.67s\tremaining: 970ms\n",
      "633:\tlearn: 0.1375049\ttotal: 1.67s\tremaining: 967ms\n",
      "634:\tlearn: 0.1372516\ttotal: 1.68s\tremaining: 963ms\n",
      "635:\tlearn: 0.1370806\ttotal: 1.68s\tremaining: 960ms\n",
      "636:\tlearn: 0.1369957\ttotal: 1.68s\tremaining: 957ms\n",
      "637:\tlearn: 0.1367137\ttotal: 1.68s\tremaining: 954ms\n",
      "638:\tlearn: 0.1366457\ttotal: 1.68s\tremaining: 950ms\n",
      "639:\tlearn: 0.1364156\ttotal: 1.68s\tremaining: 947ms\n",
      "640:\tlearn: 0.1362229\ttotal: 1.68s\tremaining: 944ms\n",
      "641:\tlearn: 0.1361380\ttotal: 1.69s\tremaining: 940ms\n",
      "642:\tlearn: 0.1358128\ttotal: 1.69s\tremaining: 937ms\n",
      "643:\tlearn: 0.1356925\ttotal: 1.69s\tremaining: 933ms\n",
      "644:\tlearn: 0.1355579\ttotal: 1.69s\tremaining: 930ms\n",
      "645:\tlearn: 0.1353734\ttotal: 1.69s\tremaining: 927ms\n",
      "646:\tlearn: 0.1352332\ttotal: 1.69s\tremaining: 924ms\n",
      "647:\tlearn: 0.1350920\ttotal: 1.69s\tremaining: 920ms\n",
      "648:\tlearn: 0.1349886\ttotal: 1.7s\tremaining: 917ms\n",
      "649:\tlearn: 0.1348535\ttotal: 1.7s\tremaining: 914ms\n",
      "650:\tlearn: 0.1347757\ttotal: 1.7s\tremaining: 910ms\n",
      "651:\tlearn: 0.1346196\ttotal: 1.7s\tremaining: 907ms\n",
      "652:\tlearn: 0.1344571\ttotal: 1.7s\tremaining: 904ms\n",
      "653:\tlearn: 0.1341710\ttotal: 1.7s\tremaining: 900ms\n",
      "654:\tlearn: 0.1340662\ttotal: 1.7s\tremaining: 897ms\n",
      "655:\tlearn: 0.1338137\ttotal: 1.7s\tremaining: 894ms\n",
      "656:\tlearn: 0.1337334\ttotal: 1.71s\tremaining: 892ms\n",
      "657:\tlearn: 0.1335138\ttotal: 1.71s\tremaining: 888ms\n",
      "658:\tlearn: 0.1333612\ttotal: 1.71s\tremaining: 885ms\n",
      "659:\tlearn: 0.1332270\ttotal: 1.71s\tremaining: 882ms\n",
      "660:\tlearn: 0.1329934\ttotal: 1.71s\tremaining: 878ms\n",
      "661:\tlearn: 0.1327173\ttotal: 1.71s\tremaining: 875ms\n",
      "662:\tlearn: 0.1325283\ttotal: 1.72s\tremaining: 872ms\n",
      "663:\tlearn: 0.1324227\ttotal: 1.72s\tremaining: 869ms\n",
      "664:\tlearn: 0.1322733\ttotal: 1.72s\tremaining: 866ms\n",
      "665:\tlearn: 0.1321889\ttotal: 1.72s\tremaining: 862ms\n",
      "666:\tlearn: 0.1320249\ttotal: 1.72s\tremaining: 859ms\n",
      "667:\tlearn: 0.1318567\ttotal: 1.72s\tremaining: 857ms\n",
      "668:\tlearn: 0.1318016\ttotal: 1.73s\tremaining: 854ms\n",
      "669:\tlearn: 0.1315839\ttotal: 1.73s\tremaining: 850ms\n",
      "670:\tlearn: 0.1314345\ttotal: 1.73s\tremaining: 847ms\n",
      "671:\tlearn: 0.1312407\ttotal: 1.73s\tremaining: 844ms\n",
      "672:\tlearn: 0.1311453\ttotal: 1.73s\tremaining: 841ms\n",
      "673:\tlearn: 0.1310379\ttotal: 1.73s\tremaining: 838ms\n",
      "674:\tlearn: 0.1308757\ttotal: 1.73s\tremaining: 834ms\n",
      "675:\tlearn: 0.1307242\ttotal: 1.73s\tremaining: 831ms\n",
      "676:\tlearn: 0.1304654\ttotal: 1.74s\tremaining: 828ms\n",
      "677:\tlearn: 0.1303408\ttotal: 1.74s\tremaining: 826ms\n",
      "678:\tlearn: 0.1302661\ttotal: 1.74s\tremaining: 823ms\n",
      "679:\tlearn: 0.1300595\ttotal: 1.74s\tremaining: 820ms\n",
      "680:\tlearn: 0.1299385\ttotal: 1.74s\tremaining: 817ms\n",
      "681:\tlearn: 0.1297737\ttotal: 1.74s\tremaining: 814ms\n",
      "682:\tlearn: 0.1296730\ttotal: 1.75s\tremaining: 810ms\n",
      "683:\tlearn: 0.1295220\ttotal: 1.75s\tremaining: 807ms\n",
      "684:\tlearn: 0.1293879\ttotal: 1.75s\tremaining: 804ms\n",
      "685:\tlearn: 0.1292613\ttotal: 1.75s\tremaining: 801ms\n",
      "686:\tlearn: 0.1291885\ttotal: 1.75s\tremaining: 798ms\n",
      "687:\tlearn: 0.1290317\ttotal: 1.75s\tremaining: 795ms\n",
      "688:\tlearn: 0.1287687\ttotal: 1.75s\tremaining: 792ms\n",
      "689:\tlearn: 0.1285048\ttotal: 1.76s\tremaining: 789ms\n",
      "690:\tlearn: 0.1282488\ttotal: 1.76s\tremaining: 786ms\n",
      "691:\tlearn: 0.1281287\ttotal: 1.76s\tremaining: 783ms\n",
      "692:\tlearn: 0.1279041\ttotal: 1.76s\tremaining: 780ms\n",
      "693:\tlearn: 0.1278389\ttotal: 1.76s\tremaining: 777ms\n",
      "694:\tlearn: 0.1276645\ttotal: 1.76s\tremaining: 774ms\n",
      "695:\tlearn: 0.1275819\ttotal: 1.76s\tremaining: 771ms\n",
      "696:\tlearn: 0.1272569\ttotal: 1.77s\tremaining: 768ms\n",
      "697:\tlearn: 0.1270536\ttotal: 1.77s\tremaining: 766ms\n",
      "698:\tlearn: 0.1269341\ttotal: 1.77s\tremaining: 763ms\n",
      "699:\tlearn: 0.1267915\ttotal: 1.77s\tremaining: 759ms\n",
      "700:\tlearn: 0.1265781\ttotal: 1.77s\tremaining: 756ms\n",
      "701:\tlearn: 0.1265254\ttotal: 1.77s\tremaining: 753ms\n",
      "702:\tlearn: 0.1263800\ttotal: 1.77s\tremaining: 750ms\n",
      "703:\tlearn: 0.1262394\ttotal: 1.78s\tremaining: 747ms\n",
      "704:\tlearn: 0.1261489\ttotal: 1.78s\tremaining: 744ms\n",
      "705:\tlearn: 0.1259180\ttotal: 1.78s\tremaining: 741ms\n",
      "706:\tlearn: 0.1257736\ttotal: 1.78s\tremaining: 738ms\n",
      "707:\tlearn: 0.1256442\ttotal: 1.78s\tremaining: 736ms\n",
      "708:\tlearn: 0.1255263\ttotal: 1.78s\tremaining: 733ms\n",
      "709:\tlearn: 0.1253544\ttotal: 1.79s\tremaining: 730ms\n",
      "710:\tlearn: 0.1251527\ttotal: 1.79s\tremaining: 727ms\n",
      "711:\tlearn: 0.1250303\ttotal: 1.79s\tremaining: 724ms\n",
      "712:\tlearn: 0.1248379\ttotal: 1.79s\tremaining: 721ms\n",
      "713:\tlearn: 0.1246318\ttotal: 1.79s\tremaining: 718ms\n",
      "714:\tlearn: 0.1245627\ttotal: 1.79s\tremaining: 715ms\n",
      "715:\tlearn: 0.1243193\ttotal: 1.79s\tremaining: 712ms\n",
      "716:\tlearn: 0.1241419\ttotal: 1.8s\tremaining: 709ms\n",
      "717:\tlearn: 0.1239368\ttotal: 1.8s\tremaining: 706ms\n",
      "718:\tlearn: 0.1237333\ttotal: 1.8s\tremaining: 704ms\n",
      "719:\tlearn: 0.1235947\ttotal: 1.8s\tremaining: 701ms\n",
      "720:\tlearn: 0.1234416\ttotal: 1.8s\tremaining: 698ms\n",
      "721:\tlearn: 0.1232858\ttotal: 1.8s\tremaining: 695ms\n",
      "722:\tlearn: 0.1231045\ttotal: 1.8s\tremaining: 692ms\n",
      "723:\tlearn: 0.1229417\ttotal: 1.81s\tremaining: 689ms\n",
      "724:\tlearn: 0.1227743\ttotal: 1.81s\tremaining: 686ms\n",
      "725:\tlearn: 0.1225732\ttotal: 1.81s\tremaining: 683ms\n",
      "726:\tlearn: 0.1223870\ttotal: 1.81s\tremaining: 680ms\n",
      "727:\tlearn: 0.1222832\ttotal: 1.81s\tremaining: 677ms\n",
      "728:\tlearn: 0.1221010\ttotal: 1.81s\tremaining: 675ms\n",
      "729:\tlearn: 0.1218992\ttotal: 1.82s\tremaining: 672ms\n",
      "730:\tlearn: 0.1217315\ttotal: 1.82s\tremaining: 669ms\n",
      "731:\tlearn: 0.1214813\ttotal: 1.82s\tremaining: 666ms\n",
      "732:\tlearn: 0.1213063\ttotal: 1.82s\tremaining: 663ms\n",
      "733:\tlearn: 0.1211565\ttotal: 1.82s\tremaining: 660ms\n",
      "734:\tlearn: 0.1209915\ttotal: 1.82s\tremaining: 657ms\n",
      "735:\tlearn: 0.1208191\ttotal: 1.82s\tremaining: 655ms\n",
      "736:\tlearn: 0.1205682\ttotal: 1.83s\tremaining: 652ms\n",
      "737:\tlearn: 0.1204042\ttotal: 1.83s\tremaining: 649ms\n",
      "738:\tlearn: 0.1202467\ttotal: 1.83s\tremaining: 646ms\n",
      "739:\tlearn: 0.1201004\ttotal: 1.83s\tremaining: 644ms\n",
      "740:\tlearn: 0.1199920\ttotal: 1.83s\tremaining: 641ms\n",
      "741:\tlearn: 0.1198509\ttotal: 1.83s\tremaining: 638ms\n",
      "742:\tlearn: 0.1197233\ttotal: 1.83s\tremaining: 635ms\n",
      "743:\tlearn: 0.1196199\ttotal: 1.84s\tremaining: 632ms\n",
      "744:\tlearn: 0.1195135\ttotal: 1.84s\tremaining: 629ms\n",
      "745:\tlearn: 0.1194656\ttotal: 1.84s\tremaining: 626ms\n",
      "746:\tlearn: 0.1192785\ttotal: 1.84s\tremaining: 623ms\n",
      "747:\tlearn: 0.1191201\ttotal: 1.84s\tremaining: 621ms\n",
      "748:\tlearn: 0.1188873\ttotal: 1.84s\tremaining: 618ms\n",
      "749:\tlearn: 0.1187815\ttotal: 1.85s\tremaining: 616ms\n",
      "750:\tlearn: 0.1185886\ttotal: 1.85s\tremaining: 613ms\n",
      "751:\tlearn: 0.1183167\ttotal: 1.85s\tremaining: 610ms\n",
      "752:\tlearn: 0.1182270\ttotal: 1.85s\tremaining: 607ms\n",
      "753:\tlearn: 0.1180401\ttotal: 1.85s\tremaining: 605ms\n",
      "754:\tlearn: 0.1178664\ttotal: 1.85s\tremaining: 602ms\n",
      "755:\tlearn: 0.1177934\ttotal: 1.85s\tremaining: 599ms\n",
      "756:\tlearn: 0.1176428\ttotal: 1.86s\tremaining: 596ms\n",
      "757:\tlearn: 0.1175694\ttotal: 1.86s\tremaining: 594ms\n",
      "758:\tlearn: 0.1174092\ttotal: 1.86s\tremaining: 591ms\n",
      "759:\tlearn: 0.1172510\ttotal: 1.86s\tremaining: 588ms\n",
      "760:\tlearn: 0.1171324\ttotal: 1.86s\tremaining: 586ms\n",
      "761:\tlearn: 0.1168966\ttotal: 1.86s\tremaining: 583ms\n",
      "762:\tlearn: 0.1166637\ttotal: 1.87s\tremaining: 580ms\n",
      "763:\tlearn: 0.1166115\ttotal: 1.87s\tremaining: 577ms\n",
      "764:\tlearn: 0.1163952\ttotal: 1.87s\tremaining: 574ms\n",
      "765:\tlearn: 0.1162979\ttotal: 1.87s\tremaining: 572ms\n",
      "766:\tlearn: 0.1162353\ttotal: 1.87s\tremaining: 569ms\n",
      "767:\tlearn: 0.1160229\ttotal: 1.87s\tremaining: 566ms\n",
      "768:\tlearn: 0.1159757\ttotal: 1.88s\tremaining: 564ms\n",
      "769:\tlearn: 0.1157870\ttotal: 1.88s\tremaining: 561ms\n",
      "770:\tlearn: 0.1156804\ttotal: 1.88s\tremaining: 558ms\n",
      "771:\tlearn: 0.1155614\ttotal: 1.88s\tremaining: 555ms\n",
      "772:\tlearn: 0.1154206\ttotal: 1.88s\tremaining: 553ms\n",
      "773:\tlearn: 0.1153045\ttotal: 1.88s\tremaining: 550ms\n",
      "774:\tlearn: 0.1152642\ttotal: 1.88s\tremaining: 547ms\n",
      "775:\tlearn: 0.1150342\ttotal: 1.89s\tremaining: 544ms\n",
      "776:\tlearn: 0.1148195\ttotal: 1.89s\tremaining: 542ms\n",
      "777:\tlearn: 0.1147525\ttotal: 1.89s\tremaining: 539ms\n",
      "778:\tlearn: 0.1146697\ttotal: 1.89s\tremaining: 536ms\n",
      "779:\tlearn: 0.1145748\ttotal: 1.89s\tremaining: 534ms\n",
      "780:\tlearn: 0.1143726\ttotal: 1.89s\tremaining: 531ms\n",
      "781:\tlearn: 0.1142594\ttotal: 1.9s\tremaining: 529ms\n",
      "782:\tlearn: 0.1139621\ttotal: 1.9s\tremaining: 526ms\n",
      "783:\tlearn: 0.1138752\ttotal: 1.9s\tremaining: 523ms\n",
      "784:\tlearn: 0.1136811\ttotal: 1.9s\tremaining: 520ms\n",
      "785:\tlearn: 0.1134226\ttotal: 1.9s\tremaining: 518ms\n",
      "786:\tlearn: 0.1132587\ttotal: 1.9s\tremaining: 515ms\n",
      "787:\tlearn: 0.1131201\ttotal: 1.9s\tremaining: 512ms\n",
      "788:\tlearn: 0.1130622\ttotal: 1.91s\tremaining: 509ms\n",
      "789:\tlearn: 0.1128990\ttotal: 1.91s\tremaining: 507ms\n",
      "790:\tlearn: 0.1126818\ttotal: 1.91s\tremaining: 505ms\n",
      "791:\tlearn: 0.1124909\ttotal: 1.91s\tremaining: 502ms\n",
      "792:\tlearn: 0.1123696\ttotal: 1.91s\tremaining: 499ms\n",
      "793:\tlearn: 0.1122825\ttotal: 1.91s\tremaining: 496ms\n",
      "794:\tlearn: 0.1121862\ttotal: 1.91s\tremaining: 494ms\n",
      "795:\tlearn: 0.1120077\ttotal: 1.92s\tremaining: 491ms\n",
      "796:\tlearn: 0.1118359\ttotal: 1.92s\tremaining: 489ms\n",
      "797:\tlearn: 0.1117398\ttotal: 1.92s\tremaining: 486ms\n",
      "798:\tlearn: 0.1115990\ttotal: 1.92s\tremaining: 483ms\n",
      "799:\tlearn: 0.1114412\ttotal: 1.92s\tremaining: 481ms\n",
      "800:\tlearn: 0.1113495\ttotal: 1.93s\tremaining: 478ms\n",
      "801:\tlearn: 0.1112387\ttotal: 1.93s\tremaining: 476ms\n",
      "802:\tlearn: 0.1111725\ttotal: 1.93s\tremaining: 473ms\n",
      "803:\tlearn: 0.1110399\ttotal: 1.93s\tremaining: 470ms\n",
      "804:\tlearn: 0.1108651\ttotal: 1.93s\tremaining: 468ms\n",
      "805:\tlearn: 0.1107561\ttotal: 1.93s\tremaining: 465ms\n",
      "806:\tlearn: 0.1106801\ttotal: 1.93s\tremaining: 462ms\n",
      "807:\tlearn: 0.1105762\ttotal: 1.93s\tremaining: 460ms\n",
      "808:\tlearn: 0.1104354\ttotal: 1.94s\tremaining: 457ms\n",
      "809:\tlearn: 0.1102804\ttotal: 1.94s\tremaining: 455ms\n",
      "810:\tlearn: 0.1102314\ttotal: 1.94s\tremaining: 452ms\n",
      "811:\tlearn: 0.1100387\ttotal: 1.94s\tremaining: 450ms\n",
      "812:\tlearn: 0.1098538\ttotal: 1.94s\tremaining: 447ms\n",
      "813:\tlearn: 0.1097323\ttotal: 1.94s\tremaining: 444ms\n",
      "814:\tlearn: 0.1096714\ttotal: 1.95s\tremaining: 442ms\n",
      "815:\tlearn: 0.1094995\ttotal: 1.95s\tremaining: 439ms\n",
      "816:\tlearn: 0.1094208\ttotal: 1.95s\tremaining: 436ms\n",
      "817:\tlearn: 0.1092216\ttotal: 1.95s\tremaining: 434ms\n",
      "818:\tlearn: 0.1090178\ttotal: 1.95s\tremaining: 431ms\n",
      "819:\tlearn: 0.1089455\ttotal: 1.95s\tremaining: 429ms\n",
      "820:\tlearn: 0.1087735\ttotal: 1.96s\tremaining: 426ms\n",
      "821:\tlearn: 0.1086362\ttotal: 1.96s\tremaining: 424ms\n",
      "822:\tlearn: 0.1085327\ttotal: 1.96s\tremaining: 421ms\n",
      "823:\tlearn: 0.1083835\ttotal: 1.96s\tremaining: 419ms\n",
      "824:\tlearn: 0.1082595\ttotal: 1.96s\tremaining: 416ms\n",
      "825:\tlearn: 0.1081156\ttotal: 1.96s\tremaining: 413ms\n",
      "826:\tlearn: 0.1079279\ttotal: 1.96s\tremaining: 411ms\n",
      "827:\tlearn: 0.1077666\ttotal: 1.96s\tremaining: 408ms\n",
      "828:\tlearn: 0.1075837\ttotal: 1.97s\tremaining: 406ms\n",
      "829:\tlearn: 0.1073777\ttotal: 1.97s\tremaining: 403ms\n",
      "830:\tlearn: 0.1072079\ttotal: 1.97s\tremaining: 401ms\n",
      "831:\tlearn: 0.1071077\ttotal: 1.97s\tremaining: 398ms\n",
      "832:\tlearn: 0.1069623\ttotal: 1.97s\tremaining: 396ms\n",
      "833:\tlearn: 0.1068732\ttotal: 1.97s\tremaining: 393ms\n",
      "834:\tlearn: 0.1066730\ttotal: 1.98s\tremaining: 390ms\n",
      "835:\tlearn: 0.1065347\ttotal: 1.98s\tremaining: 388ms\n",
      "836:\tlearn: 0.1064556\ttotal: 1.98s\tremaining: 385ms\n",
      "837:\tlearn: 0.1064142\ttotal: 1.98s\tremaining: 383ms\n",
      "838:\tlearn: 0.1062786\ttotal: 1.98s\tremaining: 380ms\n",
      "839:\tlearn: 0.1060631\ttotal: 1.98s\tremaining: 378ms\n",
      "840:\tlearn: 0.1059596\ttotal: 1.99s\tremaining: 375ms\n",
      "841:\tlearn: 0.1057512\ttotal: 1.99s\tremaining: 373ms\n",
      "842:\tlearn: 0.1056265\ttotal: 1.99s\tremaining: 370ms\n",
      "843:\tlearn: 0.1054739\ttotal: 1.99s\tremaining: 368ms\n",
      "844:\tlearn: 0.1052554\ttotal: 1.99s\tremaining: 365ms\n",
      "845:\tlearn: 0.1050946\ttotal: 1.99s\tremaining: 363ms\n",
      "846:\tlearn: 0.1049680\ttotal: 1.99s\tremaining: 360ms\n",
      "847:\tlearn: 0.1048408\ttotal: 1.99s\tremaining: 358ms\n",
      "848:\tlearn: 0.1047419\ttotal: 2s\tremaining: 355ms\n",
      "849:\tlearn: 0.1045914\ttotal: 2s\tremaining: 352ms\n",
      "850:\tlearn: 0.1045053\ttotal: 2s\tremaining: 350ms\n",
      "851:\tlearn: 0.1043525\ttotal: 2s\tremaining: 348ms\n",
      "852:\tlearn: 0.1042400\ttotal: 2s\tremaining: 345ms\n",
      "853:\tlearn: 0.1040648\ttotal: 2s\tremaining: 343ms\n",
      "854:\tlearn: 0.1038912\ttotal: 2.01s\tremaining: 340ms\n",
      "855:\tlearn: 0.1037685\ttotal: 2.01s\tremaining: 338ms\n",
      "856:\tlearn: 0.1036395\ttotal: 2.01s\tremaining: 335ms\n",
      "857:\tlearn: 0.1034626\ttotal: 2.01s\tremaining: 333ms\n",
      "858:\tlearn: 0.1033253\ttotal: 2.01s\tremaining: 330ms\n",
      "859:\tlearn: 0.1032953\ttotal: 2.01s\tremaining: 328ms\n",
      "860:\tlearn: 0.1031913\ttotal: 2.02s\tremaining: 325ms\n",
      "861:\tlearn: 0.1030755\ttotal: 2.02s\tremaining: 323ms\n",
      "862:\tlearn: 0.1029080\ttotal: 2.02s\tremaining: 321ms\n",
      "863:\tlearn: 0.1027969\ttotal: 2.02s\tremaining: 318ms\n",
      "864:\tlearn: 0.1026446\ttotal: 2.02s\tremaining: 316ms\n",
      "865:\tlearn: 0.1025329\ttotal: 2.02s\tremaining: 313ms\n",
      "866:\tlearn: 0.1024518\ttotal: 2.02s\tremaining: 311ms\n",
      "867:\tlearn: 0.1023329\ttotal: 2.02s\tremaining: 308ms\n",
      "868:\tlearn: 0.1022507\ttotal: 2.03s\tremaining: 306ms\n",
      "869:\tlearn: 0.1021352\ttotal: 2.03s\tremaining: 303ms\n",
      "870:\tlearn: 0.1020906\ttotal: 2.03s\tremaining: 301ms\n",
      "871:\tlearn: 0.1019235\ttotal: 2.03s\tremaining: 298ms\n",
      "872:\tlearn: 0.1016939\ttotal: 2.03s\tremaining: 296ms\n",
      "873:\tlearn: 0.1015595\ttotal: 2.04s\tremaining: 293ms\n",
      "874:\tlearn: 0.1014643\ttotal: 2.04s\tremaining: 291ms\n",
      "875:\tlearn: 0.1013816\ttotal: 2.04s\tremaining: 289ms\n",
      "876:\tlearn: 0.1011989\ttotal: 2.04s\tremaining: 286ms\n",
      "877:\tlearn: 0.1010524\ttotal: 2.04s\tremaining: 284ms\n",
      "878:\tlearn: 0.1008887\ttotal: 2.04s\tremaining: 281ms\n",
      "879:\tlearn: 0.1006944\ttotal: 2.05s\tremaining: 279ms\n",
      "880:\tlearn: 0.1006147\ttotal: 2.05s\tremaining: 277ms\n",
      "881:\tlearn: 0.1005394\ttotal: 2.05s\tremaining: 274ms\n",
      "882:\tlearn: 0.1003779\ttotal: 2.05s\tremaining: 272ms\n",
      "883:\tlearn: 0.1002789\ttotal: 2.05s\tremaining: 269ms\n",
      "884:\tlearn: 0.1002121\ttotal: 2.05s\tremaining: 267ms\n",
      "885:\tlearn: 0.1001437\ttotal: 2.06s\tremaining: 265ms\n",
      "886:\tlearn: 0.0999595\ttotal: 2.06s\tremaining: 262ms\n",
      "887:\tlearn: 0.0998600\ttotal: 2.06s\tremaining: 260ms\n",
      "888:\tlearn: 0.0997407\ttotal: 2.06s\tremaining: 257ms\n",
      "889:\tlearn: 0.0996085\ttotal: 2.06s\tremaining: 255ms\n",
      "890:\tlearn: 0.0994443\ttotal: 2.06s\tremaining: 253ms\n",
      "891:\tlearn: 0.0992461\ttotal: 2.07s\tremaining: 250ms\n",
      "892:\tlearn: 0.0991571\ttotal: 2.07s\tremaining: 248ms\n",
      "893:\tlearn: 0.0989974\ttotal: 2.07s\tremaining: 245ms\n",
      "894:\tlearn: 0.0989351\ttotal: 2.07s\tremaining: 243ms\n",
      "895:\tlearn: 0.0988165\ttotal: 2.07s\tremaining: 240ms\n",
      "896:\tlearn: 0.0986759\ttotal: 2.07s\tremaining: 238ms\n",
      "897:\tlearn: 0.0985497\ttotal: 2.07s\tremaining: 236ms\n",
      "898:\tlearn: 0.0984033\ttotal: 2.08s\tremaining: 233ms\n",
      "899:\tlearn: 0.0982551\ttotal: 2.08s\tremaining: 231ms\n",
      "900:\tlearn: 0.0981863\ttotal: 2.08s\tremaining: 229ms\n",
      "901:\tlearn: 0.0980098\ttotal: 2.08s\tremaining: 226ms\n",
      "902:\tlearn: 0.0978095\ttotal: 2.08s\tremaining: 224ms\n",
      "903:\tlearn: 0.0977029\ttotal: 2.08s\tremaining: 221ms\n",
      "904:\tlearn: 0.0975624\ttotal: 2.08s\tremaining: 219ms\n",
      "905:\tlearn: 0.0974414\ttotal: 2.09s\tremaining: 216ms\n",
      "906:\tlearn: 0.0973214\ttotal: 2.09s\tremaining: 214ms\n",
      "907:\tlearn: 0.0971801\ttotal: 2.09s\tremaining: 212ms\n",
      "908:\tlearn: 0.0970657\ttotal: 2.09s\tremaining: 209ms\n",
      "909:\tlearn: 0.0969859\ttotal: 2.09s\tremaining: 207ms\n",
      "910:\tlearn: 0.0969331\ttotal: 2.09s\tremaining: 205ms\n",
      "911:\tlearn: 0.0967542\ttotal: 2.1s\tremaining: 202ms\n",
      "912:\tlearn: 0.0966464\ttotal: 2.1s\tremaining: 200ms\n",
      "913:\tlearn: 0.0965693\ttotal: 2.1s\tremaining: 197ms\n",
      "914:\tlearn: 0.0964958\ttotal: 2.1s\tremaining: 195ms\n",
      "915:\tlearn: 0.0963483\ttotal: 2.1s\tremaining: 193ms\n",
      "916:\tlearn: 0.0962550\ttotal: 2.1s\tremaining: 190ms\n",
      "917:\tlearn: 0.0961346\ttotal: 2.1s\tremaining: 188ms\n",
      "918:\tlearn: 0.0960097\ttotal: 2.1s\tremaining: 186ms\n",
      "919:\tlearn: 0.0959745\ttotal: 2.11s\tremaining: 183ms\n",
      "920:\tlearn: 0.0958996\ttotal: 2.11s\tremaining: 181ms\n",
      "921:\tlearn: 0.0957703\ttotal: 2.11s\tremaining: 179ms\n",
      "922:\tlearn: 0.0956220\ttotal: 2.11s\tremaining: 176ms\n",
      "923:\tlearn: 0.0955147\ttotal: 2.11s\tremaining: 174ms\n",
      "924:\tlearn: 0.0953581\ttotal: 2.12s\tremaining: 171ms\n",
      "925:\tlearn: 0.0952851\ttotal: 2.12s\tremaining: 169ms\n",
      "926:\tlearn: 0.0951481\ttotal: 2.12s\tremaining: 167ms\n",
      "927:\tlearn: 0.0950238\ttotal: 2.12s\tremaining: 164ms\n",
      "928:\tlearn: 0.0948931\ttotal: 2.12s\tremaining: 162ms\n",
      "929:\tlearn: 0.0948030\ttotal: 2.12s\tremaining: 160ms\n",
      "930:\tlearn: 0.0946134\ttotal: 2.12s\tremaining: 157ms\n",
      "931:\tlearn: 0.0944941\ttotal: 2.13s\tremaining: 155ms\n",
      "932:\tlearn: 0.0943960\ttotal: 2.13s\tremaining: 153ms\n",
      "933:\tlearn: 0.0943192\ttotal: 2.13s\tremaining: 150ms\n",
      "934:\tlearn: 0.0942398\ttotal: 2.13s\tremaining: 148ms\n",
      "935:\tlearn: 0.0941668\ttotal: 2.13s\tremaining: 146ms\n",
      "936:\tlearn: 0.0941064\ttotal: 2.13s\tremaining: 143ms\n",
      "937:\tlearn: 0.0940412\ttotal: 2.13s\tremaining: 141ms\n",
      "938:\tlearn: 0.0939187\ttotal: 2.13s\tremaining: 139ms\n",
      "939:\tlearn: 0.0937490\ttotal: 2.14s\tremaining: 136ms\n",
      "940:\tlearn: 0.0935986\ttotal: 2.14s\tremaining: 134ms\n",
      "941:\tlearn: 0.0934979\ttotal: 2.14s\tremaining: 132ms\n",
      "942:\tlearn: 0.0933757\ttotal: 2.14s\tremaining: 130ms\n",
      "943:\tlearn: 0.0932181\ttotal: 2.14s\tremaining: 127ms\n",
      "944:\tlearn: 0.0931069\ttotal: 2.15s\tremaining: 125ms\n",
      "945:\tlearn: 0.0930244\ttotal: 2.15s\tremaining: 123ms\n",
      "946:\tlearn: 0.0929170\ttotal: 2.15s\tremaining: 120ms\n",
      "947:\tlearn: 0.0928261\ttotal: 2.15s\tremaining: 118ms\n",
      "948:\tlearn: 0.0927183\ttotal: 2.15s\tremaining: 116ms\n",
      "949:\tlearn: 0.0926060\ttotal: 2.15s\tremaining: 113ms\n",
      "950:\tlearn: 0.0925377\ttotal: 2.15s\tremaining: 111ms\n",
      "951:\tlearn: 0.0923982\ttotal: 2.16s\tremaining: 109ms\n",
      "952:\tlearn: 0.0922655\ttotal: 2.16s\tremaining: 106ms\n",
      "953:\tlearn: 0.0921826\ttotal: 2.16s\tremaining: 104ms\n",
      "954:\tlearn: 0.0920667\ttotal: 2.16s\tremaining: 102ms\n",
      "955:\tlearn: 0.0919499\ttotal: 2.16s\tremaining: 99.6ms\n",
      "956:\tlearn: 0.0918307\ttotal: 2.16s\tremaining: 97.3ms\n",
      "957:\tlearn: 0.0917314\ttotal: 2.17s\tremaining: 95ms\n",
      "958:\tlearn: 0.0915493\ttotal: 2.17s\tremaining: 92.7ms\n",
      "959:\tlearn: 0.0913964\ttotal: 2.17s\tremaining: 90.4ms\n",
      "960:\tlearn: 0.0913091\ttotal: 2.17s\tremaining: 88.1ms\n",
      "961:\tlearn: 0.0912025\ttotal: 2.17s\tremaining: 85.8ms\n",
      "962:\tlearn: 0.0910296\ttotal: 2.17s\tremaining: 83.5ms\n",
      "963:\tlearn: 0.0909210\ttotal: 2.17s\tremaining: 81.2ms\n",
      "964:\tlearn: 0.0908609\ttotal: 2.18s\tremaining: 79ms\n",
      "965:\tlearn: 0.0907622\ttotal: 2.18s\tremaining: 76.7ms\n",
      "966:\tlearn: 0.0906864\ttotal: 2.18s\tremaining: 74.4ms\n",
      "967:\tlearn: 0.0905804\ttotal: 2.18s\tremaining: 72.1ms\n",
      "968:\tlearn: 0.0904830\ttotal: 2.18s\tremaining: 69.8ms\n",
      "969:\tlearn: 0.0903416\ttotal: 2.18s\tremaining: 67.5ms\n",
      "970:\tlearn: 0.0902944\ttotal: 2.18s\tremaining: 65.3ms\n",
      "971:\tlearn: 0.0901198\ttotal: 2.19s\tremaining: 63ms\n",
      "972:\tlearn: 0.0900503\ttotal: 2.19s\tremaining: 60.7ms\n",
      "973:\tlearn: 0.0899150\ttotal: 2.19s\tremaining: 58.5ms\n",
      "974:\tlearn: 0.0897809\ttotal: 2.19s\tremaining: 56.2ms\n",
      "975:\tlearn: 0.0897283\ttotal: 2.19s\tremaining: 53.9ms\n",
      "976:\tlearn: 0.0896125\ttotal: 2.19s\tremaining: 51.7ms\n",
      "977:\tlearn: 0.0895022\ttotal: 2.19s\tremaining: 49.4ms\n",
      "978:\tlearn: 0.0893924\ttotal: 2.2s\tremaining: 47.1ms\n",
      "979:\tlearn: 0.0893093\ttotal: 2.2s\tremaining: 44.9ms\n",
      "980:\tlearn: 0.0892003\ttotal: 2.2s\tremaining: 42.6ms\n",
      "981:\tlearn: 0.0891031\ttotal: 2.2s\tremaining: 40.4ms\n",
      "982:\tlearn: 0.0890374\ttotal: 2.2s\tremaining: 38.1ms\n",
      "983:\tlearn: 0.0888951\ttotal: 2.21s\tremaining: 35.9ms\n",
      "984:\tlearn: 0.0888038\ttotal: 2.21s\tremaining: 33.6ms\n",
      "985:\tlearn: 0.0887006\ttotal: 2.21s\tremaining: 31.4ms\n",
      "986:\tlearn: 0.0885531\ttotal: 2.21s\tremaining: 29.1ms\n",
      "987:\tlearn: 0.0884688\ttotal: 2.21s\tremaining: 26.8ms\n",
      "988:\tlearn: 0.0883006\ttotal: 2.21s\tremaining: 24.6ms\n",
      "989:\tlearn: 0.0882000\ttotal: 2.21s\tremaining: 22.4ms\n",
      "990:\tlearn: 0.0881199\ttotal: 2.21s\tremaining: 20.1ms\n",
      "991:\tlearn: 0.0879847\ttotal: 2.21s\tremaining: 17.9ms\n",
      "992:\tlearn: 0.0878485\ttotal: 2.22s\tremaining: 15.6ms\n",
      "993:\tlearn: 0.0877675\ttotal: 2.22s\tremaining: 13.4ms\n",
      "994:\tlearn: 0.0876924\ttotal: 2.22s\tremaining: 11.2ms\n",
      "995:\tlearn: 0.0875527\ttotal: 2.22s\tremaining: 8.93ms\n",
      "996:\tlearn: 0.0874503\ttotal: 2.22s\tremaining: 6.69ms\n",
      "997:\tlearn: 0.0873958\ttotal: 2.23s\tremaining: 4.46ms\n",
      "998:\tlearn: 0.0872521\ttotal: 2.23s\tremaining: 2.23ms\n",
      "999:\tlearn: 0.0871845\ttotal: 2.23s\tremaining: 0us\n"
     ]
    },
    {
     "data": {
      "text/plain": [
       "2.5673"
      ]
     },
     "execution_count": 137,
     "metadata": {},
     "output_type": "execute_result"
    }
   ],
   "source": [
    "# train the cat boost model with train data\n",
    "params = {'learning_rate': 0.1, 'depth': 6,\\\n",
    "          'l2_leaf_reg': 3, 'iterations': 10}\n",
    "cb_model = CatBoostClassifier()\n",
    "start_time = time.time()  # Start the timer\n",
    "cb_model.fit(X_train,Y_train)\n",
    "end_time = time.time()  # stop the timer\n",
    "cb_time = round(end_time - start_time, 4)\n",
    "cb_time\n"
   ]
  },
  {
   "cell_type": "code",
   "execution_count": 138,
   "metadata": {},
   "outputs": [],
   "source": [
    "X_train_prediction_cb = cb_model.predict(X_train)\n",
    "X_test_prediction_cb = cb_model.predict(X_test)"
   ]
  },
  {
   "cell_type": "code",
   "execution_count": 139,
   "metadata": {},
   "outputs": [],
   "source": [
    "#accuracy on train data and test data\n",
    "training_data_accuracy_cb = accuracy_score(X_train_prediction_cb, Y_train)\n",
    "test_data_accuracy_cb = accuracy_score(X_test_prediction_cb, Y_test)"
   ]
  },
  {
   "cell_type": "code",
   "execution_count": 140,
   "metadata": {},
   "outputs": [
    {
     "name": "stdout",
     "output_type": "stream",
     "text": [
      "Accuracy on Training data :  0.9958677685950413\n",
      "Accuracy on Test data :  0.7704918032786885\n"
     ]
    }
   ],
   "source": [
    "print('Accuracy on Training data : ', training_data_accuracy_cb)\n",
    "print('Accuracy on Test data : ', test_data_accuracy_cb)"
   ]
  },
  {
   "cell_type": "code",
   "execution_count": 141,
   "metadata": {},
   "outputs": [
    {
     "data": {
      "text/plain": [
       "<BarContainer object of 2 artists>"
      ]
     },
     "execution_count": 141,
     "metadata": {},
     "output_type": "execute_result"
    },
    {
     "data": {
      "image/png": "[encoded data removed]",
      "text/plain": [
       "<Figure size 1500x300 with 1 Axes>"
      ]
     },
     "metadata": {},
     "output_type": "display_data"
    }
   ],
   "source": [
    "#accuracy difference between test data and train data\n",
    "names = ['Test data accuracy', 'Training data accuracy']\n",
    "values = [test_data_accuracy_cb, training_data_accuracy_cb]\n",
    "\n",
    "plt.figure(figsize=(15,3))\n",
    "color=['red', 'blue']\n",
    "plt.subplot(131)\n",
    "plt.bar(names, values, color=color)"
   ]
  },
  {
   "cell_type": "code",
   "execution_count": 142,
   "metadata": {},
   "outputs": [
    {
     "data": {
      "text/html": [
       "<div>\n",
       "<style scoped>\n",
       "    .dataframe tbody tr th:only-of-type {\n",
       "        vertical-align: middle;\n",
       "    }\n",
       "\n",
       "    .dataframe tbody tr th {\n",
       "        vertical-align: top;\n",
       "    }\n",
       "\n",
       "    .dataframe thead th {\n",
       "        text-align: right;\n",
       "    }\n",
       "</style>\n",
       "<table border=\"1\" class=\"dataframe\">\n",
       "  <thead>\n",
       "    <tr style=\"text-align: right;\">\n",
       "      <th></th>\n",
       "      <th>Predicted Negative</th>\n",
       "      <th>Predicted Positive</th>\n",
       "    </tr>\n",
       "  </thead>\n",
       "  <tbody>\n",
       "    <tr>\n",
       "      <th>Actual Negative</th>\n",
       "      <td>21</td>\n",
       "      <td>7</td>\n",
       "    </tr>\n",
       "    <tr>\n",
       "      <th>Actual Positive</th>\n",
       "      <td>7</td>\n",
       "      <td>26</td>\n",
       "    </tr>\n",
       "  </tbody>\n",
       "</table>\n",
       "</div>"
      ],
      "text/plain": [
       "                 Predicted Negative  Predicted Positive\n",
       "Actual Negative                  21                   7\n",
       "Actual Positive                   7                  26"
      ]
     },
     "execution_count": 142,
     "metadata": {},
     "output_type": "execute_result"
    }
   ],
   "source": [
    "# Creating the confusion matrix\n",
    "cm = metrics.confusion_matrix(Y_test,X_test_prediction_cb)\n",
    "# Assigning columns names\n",
    "cm_df = pd.DataFrame(cm, \n",
    "            columns = ['Predicted Negative', 'Predicted Positive'],\n",
    "            index = ['Actual Negative', 'Actual Positive'])\n",
    "# Showing the confusion matrix\n",
    "cm_df"
   ]
  },
  {
   "cell_type": "code",
   "execution_count": 143,
   "metadata": {},
   "outputs": [
    {
     "name": "stdout",
     "output_type": "stream",
     "text": [
      "True Positives: 26\n",
      "True Negatives: 21\n",
      "False Positives: 7\n",
      "False Negatives: 7\n"
     ]
    }
   ],
   "source": [
    "# save confusion matrix and slice into four pieces\n",
    "TP_cb = cm[1][1]\n",
    "TN_cb = cm[0][0]\n",
    "FP_cb = cm[0][1]\n",
    "FN_cb = cm[1][0]\n",
    "print('True Positives:', TP_cb)\n",
    "print('True Negatives:', TN_cb)\n",
    "print('False Positives:', FP_cb)\n",
    "print('False Negatives:', FN_cb)"
   ]
  },
  {
   "cell_type": "code",
   "execution_count": 144,
   "metadata": {},
   "outputs": [],
   "source": [
    "# calculate the sensitivity\n",
    "conf_sensitivity_cb = (TP_cb / float(TP_cb + FN_cb))"
   ]
  },
  {
   "cell_type": "code",
   "execution_count": 145,
   "metadata": {},
   "outputs": [],
   "source": [
    "# calculate the specificity\n",
    "conf_specificity_cb = (TN_cb / float(TN_cb + FP_cb))"
   ]
  },
  {
   "cell_type": "code",
   "execution_count": 146,
   "metadata": {},
   "outputs": [],
   "source": [
    "# calculate precision\n",
    "conf_precision_cb = (TN_cb / float(TN_cb + FP_cb))"
   ]
  },
  {
   "cell_type": "code",
   "execution_count": 147,
   "metadata": {},
   "outputs": [],
   "source": [
    "# calculate f_1 score\n",
    "conf_f1_cb = 2 * ((conf_precision_cb * conf_sensitivity_cb) / (conf_precision_cb + conf_sensitivity_cb))"
   ]
  },
  {
   "cell_type": "code",
   "execution_count": 148,
   "metadata": {},
   "outputs": [
    {
     "name": "stdout",
     "output_type": "stream",
     "text": [
      "Sensitivity: 0.7878787878787878\n",
      "Specificity: 0.75\n",
      "Precision: 0.75\n",
      "f_1 Score: 0.7684729064039408\n"
     ]
    }
   ],
   "source": [
    "print(f'Sensitivity: {conf_sensitivity_cb}') \n",
    "print(f'Specificity: {conf_specificity_cb}') \n",
    "print(f'Precision: {conf_precision_cb}')\n",
    "print(f'f_1 Score: {conf_f1_cb}')"
   ]
  },
  {
   "attachments": {},
   "cell_type": "markdown",
   "metadata": {},
   "source": [
    "## Ada Boost"
   ]
  },
  {
   "cell_type": "code",
   "execution_count": 149,
   "metadata": {},
   "outputs": [
    {
     "data": {
      "text/plain": [
       "0.1325"
      ]
     },
     "execution_count": 149,
     "metadata": {},
     "output_type": "execute_result"
    }
   ],
   "source": [
    "#train ada boost model with tain data\n",
    "ab_model = AdaBoostClassifier()\n",
    "start_time = time.time()  # Start the timer\n",
    "ab_model.fit(X_train,Y_train)\n",
    "end_time = time.time()  # stop the timer\n",
    "ab_time = round(end_time - start_time, 4)\n",
    "ab_time\n"
   ]
  },
  {
   "cell_type": "code",
   "execution_count": 150,
   "metadata": {},
   "outputs": [],
   "source": [
    "X_train_prediction_ab = ab_model.predict(X_train)\n",
    "X_test_prediction_ab = ab_model.predict(X_test)"
   ]
  },
  {
   "cell_type": "code",
   "execution_count": 151,
   "metadata": {},
   "outputs": [],
   "source": [
    "# accuracy on train data and test data\n",
    "training_data_accuracy_ab = accuracy_score(X_train_prediction_ab, Y_train)\n",
    "test_data_accuracy_ab = accuracy_score(X_test_prediction_ab, Y_test)"
   ]
  },
  {
   "cell_type": "code",
   "execution_count": 152,
   "metadata": {},
   "outputs": [
    {
     "name": "stdout",
     "output_type": "stream",
     "text": [
      "Accuracy on Training data :  0.9256198347107438\n",
      "Accuracy on Test data :  0.7704918032786885\n"
     ]
    }
   ],
   "source": [
    "print('Accuracy on Training data : ', training_data_accuracy_ab)\n",
    "print('Accuracy on Test data : ', test_data_accuracy_ab)"
   ]
  },
  {
   "cell_type": "code",
   "execution_count": 153,
   "metadata": {},
   "outputs": [
    {
     "data": {
      "text/plain": [
       "<BarContainer object of 2 artists>"
      ]
     },
     "execution_count": 153,
     "metadata": {},
     "output_type": "execute_result"
    },
    {
     "data": {
      "image/png": "[encoded data removed]",
      "text/plain": [
       "<Figure size 1500x300 with 1 Axes>"
      ]
     },
     "metadata": {},
     "output_type": "display_data"
    }
   ],
   "source": [
    "#accuracy difference between test data and train data\n",
    "names = ['Test data accuracy', 'Training data accuracy']\n",
    "values = [test_data_accuracy_ab, training_data_accuracy_ab]\n",
    "\n",
    "plt.figure(figsize=(15,3))\n",
    "color=['red', 'blue']\n",
    "plt.subplot(131)\n",
    "plt.bar(names, values,color=color)"
   ]
  },
  {
   "cell_type": "code",
   "execution_count": 154,
   "metadata": {},
   "outputs": [
    {
     "data": {
      "text/html": [
       "<div>\n",
       "<style scoped>\n",
       "    .dataframe tbody tr th:only-of-type {\n",
       "        vertical-align: middle;\n",
       "    }\n",
       "\n",
       "    .dataframe tbody tr th {\n",
       "        vertical-align: top;\n",
       "    }\n",
       "\n",
       "    .dataframe thead th {\n",
       "        text-align: right;\n",
       "    }\n",
       "</style>\n",
       "<table border=\"1\" class=\"dataframe\">\n",
       "  <thead>\n",
       "    <tr style=\"text-align: right;\">\n",
       "      <th></th>\n",
       "      <th>Predicted Negative</th>\n",
       "      <th>Predicted Positive</th>\n",
       "    </tr>\n",
       "  </thead>\n",
       "  <tbody>\n",
       "    <tr>\n",
       "      <th>Actual Negative</th>\n",
       "      <td>23</td>\n",
       "      <td>5</td>\n",
       "    </tr>\n",
       "    <tr>\n",
       "      <th>Actual Positive</th>\n",
       "      <td>9</td>\n",
       "      <td>24</td>\n",
       "    </tr>\n",
       "  </tbody>\n",
       "</table>\n",
       "</div>"
      ],
      "text/plain": [
       "                 Predicted Negative  Predicted Positive\n",
       "Actual Negative                  23                   5\n",
       "Actual Positive                   9                  24"
      ]
     },
     "execution_count": 154,
     "metadata": {},
     "output_type": "execute_result"
    }
   ],
   "source": [
    "# Creating the confusion matrix\n",
    "cm = metrics.confusion_matrix(Y_test,X_test_prediction_ab)\n",
    "# Assigning columns names\n",
    "cm_df = pd.DataFrame(cm, \n",
    "            columns = ['Predicted Negative', 'Predicted Positive'],\n",
    "            index = ['Actual Negative', 'Actual Positive'])\n",
    "# Showing the confusion matrix\n",
    "cm_df"
   ]
  },
  {
   "cell_type": "code",
   "execution_count": 155,
   "metadata": {},
   "outputs": [
    {
     "name": "stdout",
     "output_type": "stream",
     "text": [
      "True Positives: 24\n",
      "True Negatives: 23\n",
      "False Positives: 5\n",
      "False Negatives: 9\n"
     ]
    }
   ],
   "source": [
    "# save confusion matrix and slice into four pieces\n",
    "TP_ab = cm[1][1]\n",
    "TN_ab = cm[0][0]\n",
    "FP_ab = cm[0][1]\n",
    "FN_ab = cm[1][0]\n",
    "print('True Positives:', TP_ab)\n",
    "print('True Negatives:', TN_ab)\n",
    "print('False Positives:', FP_ab)\n",
    "print('False Negatives:', FN_ab)"
   ]
  },
  {
   "cell_type": "code",
   "execution_count": 156,
   "metadata": {},
   "outputs": [],
   "source": [
    "# calculate the sensitivity\n",
    "conf_sensitivity_ab = (TP_ab / float(TP_ab + FN_ab))"
   ]
  },
  {
   "cell_type": "code",
   "execution_count": 157,
   "metadata": {},
   "outputs": [],
   "source": [
    "# calculate the specificity\n",
    "conf_specificity_ab = (TN_ab / float(TN_ab + FP_ab))"
   ]
  },
  {
   "cell_type": "code",
   "execution_count": 158,
   "metadata": {},
   "outputs": [],
   "source": [
    "# calculate precision\n",
    "conf_precision_ab = (TN_ab / float(TN_ab + FP_ab))"
   ]
  },
  {
   "cell_type": "code",
   "execution_count": 159,
   "metadata": {},
   "outputs": [],
   "source": [
    "# calculate f_1 score\n",
    "conf_f1_ab = 2 * ((conf_precision_ab * conf_sensitivity_ab) / (conf_precision_ab + conf_sensitivity_ab))"
   ]
  },
  {
   "cell_type": "code",
   "execution_count": 160,
   "metadata": {},
   "outputs": [
    {
     "name": "stdout",
     "output_type": "stream",
     "text": [
      "Sensitivity: 0.7272727272727273\n",
      "Specificity: 0.8214285714285714\n",
      "Precision: 0.8214285714285714\n",
      "f_1 Score: 0.7714884696016772\n"
     ]
    }
   ],
   "source": [
    "print(f'Sensitivity: {conf_sensitivity_ab}') \n",
    "print(f'Specificity: {conf_specificity_ab}') \n",
    "print(f'Precision: {conf_precision_ab}')\n",
    "print(f'f_1 Score: {conf_f1_ab}')"
   ]
  },
  {
   "attachments": {},
   "cell_type": "markdown",
   "metadata": {},
   "source": [
    "## Ridge Regression"
   ]
  },
  {
   "cell_type": "code",
   "execution_count": 161,
   "metadata": {},
   "outputs": [
    {
     "data": {
      "text/plain": [
       "0.008"
      ]
     },
     "execution_count": 161,
     "metadata": {},
     "output_type": "execute_result"
    }
   ],
   "source": [
    "#train ridge regression model with train data\n",
    "rr_model = Ridge(alpha = 0.5, tol = 0.001, \\\n",
    "              solver ='auto', random_state = 42)\n",
    "start_time = time.time()  # Start the timer\n",
    "rr_model.fit(X_train,Y_train)\n",
    "end_time = time.time()  # stop the timer\n",
    "rr_time = round(end_time - start_time, 4)\n",
    "rr_time\n"
   ]
  },
  {
   "cell_type": "code",
   "execution_count": 162,
   "metadata": {},
   "outputs": [],
   "source": [
    "X_train_prediction_rr = rr_model.predict(X_train)\n",
    "X_test_prediction_rr = rr_model.predict(X_test)\n"
   ]
  },
  {
   "cell_type": "code",
   "execution_count": 163,
   "metadata": {},
   "outputs": [],
   "source": [
    "#accuracy on train and test data\n",
    "training_data_accuracy_rr = rr_model.score(X_train, Y_train)\n",
    "test_data_accuracy_rr = rr_model.score(X_test, Y_test)"
   ]
  },
  {
   "cell_type": "code",
   "execution_count": 164,
   "metadata": {},
   "outputs": [
    {
     "name": "stdout",
     "output_type": "stream",
     "text": [
      "Accuracy on Training data :  0.5373435825401789\n",
      "Accuracy on Test data :  0.41912175285734443\n"
     ]
    }
   ],
   "source": [
    "print('Accuracy on Training data : ', training_data_accuracy_rr)\n",
    "print('Accuracy on Test data : ', test_data_accuracy_rr)"
   ]
  },
  {
   "cell_type": "code",
   "execution_count": 165,
   "metadata": {
    "scrolled": true
   },
   "outputs": [
    {
     "data": {
      "text/plain": [
       "<BarContainer object of 2 artists>"
      ]
     },
     "execution_count": 165,
     "metadata": {},
     "output_type": "execute_result"
    },
    {
     "data": {
      "image/png": "[encoded data removed]",
      "text/plain": [
       "<Figure size 1500x300 with 1 Axes>"
      ]
     },
     "metadata": {},
     "output_type": "display_data"
    }
   ],
   "source": [
    "#accuracy difference between test data and train data\n",
    "names = ['Test data accuracy', 'Training data accuracy']\n",
    "values = [test_data_accuracy_rr, training_data_accuracy_rr]\n",
    "\n",
    "plt.figure(figsize=(15,3))\n",
    "color=['red', 'blue']\n",
    "plt.subplot(131)\n",
    "plt.bar(names, values, color=color)"
   ]
  },
  {
   "cell_type": "code",
   "execution_count": 166,
   "metadata": {},
   "outputs": [],
   "source": [
    "###### Creating the confusion matrix\n",
    "threshold = 0.5\n",
    "y_pred_class = [1 if prob >= threshold else 0 for prob in X_test_prediction_rr]\n",
    "\n",
    "# Create a confusion matrix\n",
    "cm = metrics.confusion_matrix(Y_test, y_pred_class)"
   ]
  },
  {
   "cell_type": "code",
   "execution_count": 167,
   "metadata": {},
   "outputs": [
    {
     "name": "stdout",
     "output_type": "stream",
     "text": [
      "True Positives: 29\n",
      "True Negatives: 21\n",
      "False Positives: 7\n",
      "False Negatives: 4\n"
     ]
    }
   ],
   "source": [
    "###### save confusion matrix and slice into four pieces\n",
    "TP_rr = cm[1][1]\n",
    "TN_rr = cm[0][0]\n",
    "FP_rr = cm[0][1]\n",
    "FN_rr = cm[1][0]\n",
    "print('True Positives:', TP_rr)\n",
    "print('True Negatives:', TN_rr)\n",
    "print('False Positives:', FP_rr)\n",
    "print('False Negatives:', FN_rr)"
   ]
  },
  {
   "cell_type": "code",
   "execution_count": 168,
   "metadata": {},
   "outputs": [],
   "source": [
    "###### calculate the sensitivity\n",
    "conf_sensitivity_rr = (TP_rr / float(TP_rr + FN_rr))"
   ]
  },
  {
   "cell_type": "code",
   "execution_count": 169,
   "metadata": {},
   "outputs": [],
   "source": [
    "###### calculate the specificity\n",
    "conf_specificity_rr = (TN_rr / float(TN_rr + FP_rr))"
   ]
  },
  {
   "cell_type": "code",
   "execution_count": 170,
   "metadata": {},
   "outputs": [],
   "source": [
    "###### calculate precision\n",
    "conf_precision_rr = (TN_rr / float(TN_rr + FP_rr))"
   ]
  },
  {
   "cell_type": "code",
   "execution_count": 171,
   "metadata": {},
   "outputs": [],
   "source": [
    "###### calculate f_1 score\n",
    "conf_f1_rr = 2 * ((conf_precision_rr * conf_sensitivity_rr) / (conf_precision_rr + conf_sensitivity_rr))"
   ]
  },
  {
   "cell_type": "code",
   "execution_count": 172,
   "metadata": {},
   "outputs": [
    {
     "name": "stdout",
     "output_type": "stream",
     "text": [
      "Specificity: 0.75\n",
      "Precision: 0.75\n",
      "f_1 Score: 0.8093023255813953\n"
     ]
    }
   ],
   "source": [
    "###### print(f'Sensitivity: {conf_sensitivity_rr}') \n",
    "print(f'Specificity: {conf_specificity_rr}') \n",
    "print(f'Precision: {conf_precision_rr}')\n",
    "print(f'f_1 Score: {conf_f1_rr}')"
   ]
  },
  {
   "attachments": {},
   "cell_type": "markdown",
   "metadata": {},
   "source": [
    "## MultinomialNB"
   ]
  },
  {
   "cell_type": "code",
   "execution_count": 173,
   "metadata": {},
   "outputs": [],
   "source": [
    "mnb_model=MultinomialNB()"
   ]
  },
  {
   "cell_type": "code",
   "execution_count": 174,
   "metadata": {},
   "outputs": [
    {
     "data": {
      "text/plain": [
       "0.0"
      ]
     },
     "execution_count": 174,
     "metadata": {},
     "output_type": "execute_result"
    }
   ],
   "source": [
    "#traih multinomialnb model with train data\n",
    "start_time = time.time()  # Start the timer\n",
    "mnb_model.fit(X_train,Y_train)\n",
    "end_time = time.time()  # stop the timer\n",
    "mnb_time = round(end_time - start_time, 4)\n",
    "mnb_time\n"
   ]
  },
  {
   "cell_type": "code",
   "execution_count": 175,
   "metadata": {},
   "outputs": [],
   "source": [
    "X_train_prediction_mnb = mnb_model.predict(X_train)\n",
    "X_test_prediction_mnb = mnb_model.predict(X_test)"
   ]
  },
  {
   "cell_type": "code",
   "execution_count": 176,
   "metadata": {},
   "outputs": [],
   "source": [
    "#accuracy on train and test data\n",
    "training_data_accuracy_mnb = accuracy_score(X_train_prediction_mnb, Y_train)\n",
    "test_data_accuracy_mnb = accuracy_score(X_test_prediction_mnb, Y_test)"
   ]
  },
  {
   "cell_type": "code",
   "execution_count": 177,
   "metadata": {},
   "outputs": [
    {
     "name": "stdout",
     "output_type": "stream",
     "text": [
      "Accuracy on Training data :  0.7603305785123967\n",
      "Accuracy on Test data :  0.6885245901639344\n"
     ]
    }
   ],
   "source": [
    "print('Accuracy on Training data : ', training_data_accuracy_mnb)\n",
    "print('Accuracy on Test data : ', test_data_accuracy_mnb)"
   ]
  },
  {
   "cell_type": "code",
   "execution_count": 178,
   "metadata": {},
   "outputs": [
    {
     "data": {
      "text/plain": [
       "<BarContainer object of 2 artists>"
      ]
     },
     "execution_count": 178,
     "metadata": {},
     "output_type": "execute_result"
    },
    {
     "data": {
      "image/png": "[encoded data removed]",
      "text/plain": [
       "<Figure size 1500x300 with 1 Axes>"
      ]
     },
     "metadata": {},
     "output_type": "display_data"
    }
   ],
   "source": [
    "#accuracy difference between test data and train data\n",
    "names = ['Test data accuracy', 'Training data accuracy']\n",
    "values = [test_data_accuracy_mnb, training_data_accuracy_mnb]\n",
    "\n",
    "plt.figure(figsize=(15,3))\n",
    "color=['red', 'blue']\n",
    "plt.subplot(131)\n",
    "plt.bar(names, values, color=color)"
   ]
  },
  {
   "cell_type": "code",
   "execution_count": 179,
   "metadata": {},
   "outputs": [
    {
     "data": {
      "text/html": [
       "<div>\n",
       "<style scoped>\n",
       "    .dataframe tbody tr th:only-of-type {\n",
       "        vertical-align: middle;\n",
       "    }\n",
       "\n",
       "    .dataframe tbody tr th {\n",
       "        vertical-align: top;\n",
       "    }\n",
       "\n",
       "    .dataframe thead th {\n",
       "        text-align: right;\n",
       "    }\n",
       "</style>\n",
       "<table border=\"1\" class=\"dataframe\">\n",
       "  <thead>\n",
       "    <tr style=\"text-align: right;\">\n",
       "      <th></th>\n",
       "      <th>Predicted Negative</th>\n",
       "      <th>Predicted Positive</th>\n",
       "    </tr>\n",
       "  </thead>\n",
       "  <tbody>\n",
       "    <tr>\n",
       "      <th>Actual Negative</th>\n",
       "      <td>21</td>\n",
       "      <td>7</td>\n",
       "    </tr>\n",
       "    <tr>\n",
       "      <th>Actual Positive</th>\n",
       "      <td>12</td>\n",
       "      <td>21</td>\n",
       "    </tr>\n",
       "  </tbody>\n",
       "</table>\n",
       "</div>"
      ],
      "text/plain": [
       "                 Predicted Negative  Predicted Positive\n",
       "Actual Negative                  21                   7\n",
       "Actual Positive                  12                  21"
      ]
     },
     "execution_count": 179,
     "metadata": {},
     "output_type": "execute_result"
    }
   ],
   "source": [
    "# Creating the confusion matrix\n",
    "cm = metrics.confusion_matrix(Y_test,X_test_prediction_mnb)\n",
    "# Assigning columns names\n",
    "cm_df = pd.DataFrame(cm, \n",
    "            columns = ['Predicted Negative', 'Predicted Positive'],\n",
    "            index = ['Actual Negative', 'Actual Positive'])\n",
    "# Showing the confusion matrix\n",
    "cm_df"
   ]
  },
  {
   "cell_type": "code",
   "execution_count": 180,
   "metadata": {},
   "outputs": [
    {
     "name": "stdout",
     "output_type": "stream",
     "text": [
      "True Positives: 21\n",
      "True Negatives: 21\n",
      "False Positives: 7\n",
      "False Negatives: 12\n"
     ]
    }
   ],
   "source": [
    "# save confusion matrix and slice into four pieces\n",
    "TP_mnb = cm[1][1]\n",
    "TN_mnb = cm[0][0]\n",
    "FP_mnb = cm[0][1]\n",
    "FN_mnb = cm[1][0]\n",
    "print('True Positives:', TP_mnb)\n",
    "print('True Negatives:', TN_mnb)\n",
    "print('False Positives:', FP_mnb)\n",
    "print('False Negatives:', FN_mnb)"
   ]
  },
  {
   "cell_type": "code",
   "execution_count": 181,
   "metadata": {},
   "outputs": [],
   "source": [
    "# calculate the sensitivity\n",
    "conf_sensitivity_mnb = (TP_mnb / float(TP_mnb + FN_mnb))"
   ]
  },
  {
   "cell_type": "code",
   "execution_count": 182,
   "metadata": {},
   "outputs": [],
   "source": [
    "# calculate the specificity\n",
    "conf_specificity_mnb = (TN_mnb / float(TN_mnb + FP_mnb))"
   ]
  },
  {
   "cell_type": "code",
   "execution_count": 183,
   "metadata": {},
   "outputs": [],
   "source": [
    "# calculate precision\n",
    "conf_precision_mnb = (TN_mnb / float(TN_mnb + FP_mnb))"
   ]
  },
  {
   "cell_type": "code",
   "execution_count": 184,
   "metadata": {},
   "outputs": [],
   "source": [
    "# calculate f_1 score\n",
    "conf_f1_mnb = 2 * ((conf_precision_mnb * conf_sensitivity_mnb) / (conf_precision_mnb + conf_sensitivity_mnb))"
   ]
  },
  {
   "cell_type": "code",
   "execution_count": 185,
   "metadata": {},
   "outputs": [
    {
     "name": "stdout",
     "output_type": "stream",
     "text": [
      "Sensitivity: 0.6363636363636364\n",
      "Specificity: 0.75\n",
      "Precision: 0.75\n",
      "f_1 Score: 0.6885245901639345\n"
     ]
    }
   ],
   "source": [
    "print(f'Sensitivity: {conf_sensitivity_mnb}') \n",
    "print(f'Specificity: {conf_specificity_mnb}') \n",
    "print(f'Precision: {conf_precision_mnb}')\n",
    "print(f'f_1 Score: {conf_f1_mnb}')"
   ]
  },
  {
   "attachments": {},
   "cell_type": "markdown",
   "metadata": {},
   "source": [
    "## True Predition"
   ]
  },
  {
   "cell_type": "code",
   "execution_count": 186,
   "metadata": {},
   "outputs": [
    {
     "data": {
      "text/plain": [
       "Text(0, 0.5, 'Score')"
      ]
     },
     "execution_count": 186,
     "metadata": {},
     "output_type": "execute_result"
    },
    {
     "data": {
      "image/png": "[encoded data removed]",
      "text/plain": [
       "<Figure size 6800x1000 with 1 Axes>"
      ]
     },
     "metadata": {},
     "output_type": "display_data"
    }
   ],
   "source": [
    "names = ['Lohgistic Regration', 'XG Boost', 'SVM', 'KN Neighbors', 'Decision Tree', ' Neural Network', 'Random Forest',' Naive Bayes', 'Cat Boost', 'Ada Boost', 'Ridge Regression','MultinomialNB']\n",
    "values_tp = [TP_lr,TP_xgb,TP_svm,TP_knn,TP_dt,TP_nn,TP_rf,TP_nb,TP_cb,TP_ab,TP_rr,TP_mnb]\n",
    "plt.figure(figsize=(68,10))\n",
    "color = [\"orangered\",\"olive\",\"gray\",\"tomato\",\"seagreen\",\"peru\",\"indianred\",\"yellowgreen\",\"teal\",\"darkkhaki\",\"royalblue\",\"mediumpurple\"]\n",
    "\n",
    "plt.subplot(131)\n",
    "plt.bar(names, values_tp, color=color)\n",
    "plt.title('True Prediction', fontsize=35)\n",
    "plt.xlabel('Algorithm', fontsize= 25)\n",
    "plt.ylabel('Score', fontsize = 25)"
   ]
  },
  {
   "cell_type": "code",
   "execution_count": 187,
   "metadata": {},
   "outputs": [
    {
     "name": "stdout",
     "output_type": "stream",
     "text": [
      "Best Accuracy in true prediction:  SVM \t 29\n"
     ]
    }
   ],
   "source": [
    "print('Best Accuracy in true prediction: ',names[values_tp.index(max(values_tp))], '\\t', max(values_tp) )"
   ]
  },
  {
   "attachments": {},
   "cell_type": "markdown",
   "metadata": {},
   "source": [
    "## True Negatives"
   ]
  },
  {
   "cell_type": "code",
   "execution_count": 188,
   "metadata": {},
   "outputs": [
    {
     "data": {
      "text/plain": [
       "Text(0, 0.5, 'Score')"
      ]
     },
     "execution_count": 188,
     "metadata": {},
     "output_type": "execute_result"
    },
    {
     "data": {
      "image/png": "[encoded data removed]",
      "text/plain": [
       "<Figure size 6800x1000 with 1 Axes>"
      ]
     },
     "metadata": {},
     "output_type": "display_data"
    }
   ],
   "source": [
    "names = ['Lohgistic Regration', 'XG Boost', 'SVM', 'KN Neighbors', 'Decision Tree', ' Neural Network', 'Random Forest',' Naive Bayes', 'Cat Boost', 'Ada Boost','Ridge Regression', 'MultinomialNB']\n",
    "values_tn = [TN_lr,TN_xgb,TN_svm,TN_knn,TN_dt,TN_nn,TN_rf,TN_nb,TN_cb,TN_ab,TN_rr,TN_mnb]\n",
    "plt.figure(figsize=(68,10))\n",
    "color = [\"orangered\",\"olive\",\"gray\",\"tomato\",\"seagreen\",\"peru\",\"indianred\",\"yellowgreen\",\"teal\",\"darkkhaki\",\"royalblue\",\"mediumpurple\"]\n",
    "\n",
    "plt.subplot(131)\n",
    "plt.bar(names, values_tn, color=color)\n",
    "plt.title('True Negatives', fontsize=35)\n",
    "plt.xlabel('Algorithm', fontsize= 25)\n",
    "plt.ylabel('Score', fontsize = 25)"
   ]
  },
  {
   "cell_type": "code",
   "execution_count": 189,
   "metadata": {},
   "outputs": [
    {
     "name": "stdout",
     "output_type": "stream",
     "text": [
      "Best Accuracy in true negetive:   Naive Bayes \t 25\n"
     ]
    }
   ],
   "source": [
    "print('Best Accuracy in true negetive: ',names[values_tn.index(max(values_tn))], '\\t', max(values_tn) )"
   ]
  },
  {
   "attachments": {},
   "cell_type": "markdown",
   "metadata": {},
   "source": [
    "## Training accuracy comparision"
   ]
  },
  {
   "cell_type": "code",
   "execution_count": 190,
   "metadata": {},
   "outputs": [
    {
     "data": {
      "text/plain": [
       "Text(0, 0.5, 'Score')"
      ]
     },
     "execution_count": 190,
     "metadata": {},
     "output_type": "execute_result"
    },
    {
     "data": {
      "image/png": "[encoded data removed]",
      "text/plain": [
       "<Figure size 6500x1000 with 1 Axes>"
      ]
     },
     "metadata": {},
     "output_type": "display_data"
    }
   ],
   "source": [
    "names = ['Lohgistic Regration', 'XG Boost', 'SVM', 'KN Neighbors', 'Decision Tree', ' Neural Network', 'Random Forest', ' Naive Bayes','Cat Boost', 'Ada Boost', 'Ridge Regression', 'MultinomialNB']\n",
    "values_tac = [training_data_accuracy_logistic*100, training_data_accuracy_xgb*100, training_data_accuracy_svm*100, training_data_accuracy_knn*100, training_data_accuracy_dt*100, training_data_accuracy_nn * 100, training_data_accuracy_rf*100, training_data_accuracy_nb*100, training_data_accuracy_cb*100, training_data_accuracy_ab*100, training_data_accuracy_rr*100, training_data_accuracy_mnb*100]\n",
    "\n",
    "plt.figure(figsize=(65,10))\n",
    "color = [\"orangered\",\"olive\",\"gray\",\"tomato\",\"seagreen\",\"peru\",\"indianred\",\"yellowgreen\",\"teal\",\"darkkhaki\",\"royalblue\",\"mediumpurple\"]\n",
    "\n",
    "plt.subplot(131)\n",
    "plt.bar(names, values_tac, color= color)\n",
    "plt.title('Training Accuracy', fontsize=35)\n",
    "plt.xlabel('Algorithm', fontsize= 25)\n",
    "plt.ylabel('Score', fontsize = 25)"
   ]
  },
  {
   "cell_type": "code",
   "execution_count": 191,
   "metadata": {},
   "outputs": [
    {
     "name": "stdout",
     "output_type": "stream",
     "text": [
      "Best Accuracy in train Data:  XG Boost \t 100.0\n"
     ]
    }
   ],
   "source": [
    "print('Best Accuracy in train Data: ',names[values_tac.index(max(values_tac))], '\\t', max(values_tac) )"
   ]
  },
  {
   "attachments": {},
   "cell_type": "markdown",
   "metadata": {},
   "source": [
    "## Test Accuracy"
   ]
  },
  {
   "cell_type": "code",
   "execution_count": 192,
   "metadata": {},
   "outputs": [
    {
     "data": {
      "text/plain": [
       "Text(0, 0.5, 'Score')"
      ]
     },
     "execution_count": 192,
     "metadata": {},
     "output_type": "execute_result"
    },
    {
     "data": {
      "image/png": "[encoded data removed]",
      "text/plain": [
       "<Figure size 6800x1000 with 1 Axes>"
      ]
     },
     "metadata": {},
     "output_type": "display_data"
    }
   ],
   "source": [
    "names = ['Lohgistic Regration', 'XG Boost', 'SVM', 'KN Neighbors', 'Decision Tree', ' Neural Network', 'Random Forest',' Naive Bayes', 'Cat Boost', 'Ada Boost','Ridge Regression', 'MultinomialNB']\n",
    "values_ta = [test_data_accuracy_logistic*100, test_data_accuracy_xgb*100, test_data_accuracy_svm*100, test_data_accuracy_knn*100, test_data_accuracy_dt*100, test_data_accuracy_nn * 100, test_data_accuracy_rf*100, test_data_accuracy_nb*100,test_data_accuracy_cb*100, test_data_accuracy_ab*100, test_data_accuracy_rr*100, test_data_accuracy_mnb*100]\n",
    "\n",
    "plt.figure(figsize=(68,10))\n",
    "color = [\"orangered\",\"olive\",\"gray\",\"tomato\",\"seagreen\",\"peru\",\"indianred\",\"yellowgreen\",\"teal\",\"darkkhaki\",\"royalblue\",\"mediumpurple\"]\n",
    "\n",
    "plt.subplot(131)\n",
    "plt.bar(names, values_ta, color=color)\n",
    "plt.title('Test Accuracy', fontsize=35)\n",
    "plt.xlabel('Algorithm', fontsize= 25)\n",
    "plt.ylabel('Score', fontsize = 25)"
   ]
  },
  {
   "cell_type": "code",
   "execution_count": 193,
   "metadata": {},
   "outputs": [
    {
     "name": "stdout",
     "output_type": "stream",
     "text": [
      "Best Accuracy in test Data:  Decision Tree \t 83.60655737704919\n"
     ]
    }
   ],
   "source": [
    "print('Best Accuracy in test Data: ',names[values_ta.index(max(values_ta))] , '\\t', max(values_ta))"
   ]
  },
  {
   "attachments": {},
   "cell_type": "markdown",
   "metadata": {},
   "source": [
    "## Pricision"
   ]
  },
  {
   "cell_type": "code",
   "execution_count": 194,
   "metadata": {},
   "outputs": [
    {
     "data": {
      "text/plain": [
       "Text(0, 0.5, 'Score')"
      ]
     },
     "execution_count": 194,
     "metadata": {},
     "output_type": "execute_result"
    },
    {
     "data": {
      "image/png": "[encoded data removed]",
      "text/plain": [
       "<Figure size 6800x1000 with 1 Axes>"
      ]
     },
     "metadata": {},
     "output_type": "display_data"
    }
   ],
   "source": [
    "names = ['Lohgistic Regration', 'XG Boost', 'SVM', 'KN Neighbors', 'Decision Tree', ' Neural Network', 'Random Forest',' Naive Bayes', 'Cat Boost', 'Ada Boost','Ridge Regression', 'MultinomialNB']\n",
    "values_pr = [conf_precision_lr,conf_precision_xgb,conf_precision_svm,conf_precision_knn,conf_precision_dt,conf_precision_nn,conf_precision_rf,conf_precision_nb,conf_precision_cb,conf_precision_ab,conf_precision_rr,conf_precision_mnb]\n",
    "plt.figure(figsize=(68,10))\n",
    "color = [\"orangered\",\"olive\",\"gray\",\"tomato\",\"seagreen\",\"peru\",\"indianred\",\"yellowgreen\",\"teal\",\"darkkhaki\",\"royalblue\",\"mediumpurple\"]\n",
    "\n",
    "plt.subplot(131)\n",
    "plt.bar(names, values_pr, color=color)\n",
    "plt.title('Precision', fontsize=35)\n",
    "plt.xlabel('Algorithm', fontsize= 25)\n",
    "plt.ylabel('Score', fontsize = 25)"
   ]
  },
  {
   "cell_type": "code",
   "execution_count": 195,
   "metadata": {},
   "outputs": [
    {
     "name": "stdout",
     "output_type": "stream",
     "text": [
      "Best Precision in pricision:   Naive Bayes \t 0.8928571428571429\n"
     ]
    }
   ],
   "source": [
    "print('Best Precision in pricision: ',names[values_pr.index(max(values_pr))] , '\\t', max(values_pr))"
   ]
  },
  {
   "attachments": {},
   "cell_type": "markdown",
   "metadata": {},
   "source": [
    "## Sensitivity"
   ]
  },
  {
   "cell_type": "code",
   "execution_count": 196,
   "metadata": {},
   "outputs": [
    {
     "data": {
      "text/plain": [
       "Text(0, 0.5, 'Score')"
      ]
     },
     "execution_count": 196,
     "metadata": {},
     "output_type": "execute_result"
    },
    {
     "data": {
      "image/png": "[encoded data removed]",
      "text/plain": [
       "<Figure size 6800x1000 with 1 Axes>"
      ]
     },
     "metadata": {},
     "output_type": "display_data"
    }
   ],
   "source": [
    "names = ['Lohgistic Regration', 'XG Boost', 'SVM', 'KN Neighbors', 'Decision Tree', ' Neural Network', 'Random Forest',' Naive Bayes', 'Cat Boost', 'Ada Boost','Ridge Regression', 'MultinomialNB']\n",
    "values_se = [conf_sensitivity_lr,conf_sensitivity_xgb,conf_sensitivity_svm,conf_sensitivity_knn,conf_sensitivity_dt,conf_sensitivity_nn,conf_sensitivity_rf,conf_sensitivity_nb,conf_sensitivity_cb,conf_sensitivity_ab,conf_sensitivity_rr, conf_sensitivity_mnb]\n",
    "\n",
    "plt.figure(figsize=(68,10))\n",
    "color = [\"orangered\",\"olive\",\"gray\",\"tomato\",\"seagreen\",\"peru\",\"indianred\",\"yellowgreen\",\"teal\",\"darkkhaki\",\"royalblue\",\"mediumpurple\"]\n",
    "\n",
    "plt.subplot(131)\n",
    "plt.bar(names, values_se, color=color)\n",
    "plt.title('Sensitivity', fontsize=35)\n",
    "plt.xlabel('Algorithm', fontsize= 25)\n",
    "plt.ylabel('Score', fontsize = 25)"
   ]
  },
  {
   "cell_type": "code",
   "execution_count": 197,
   "metadata": {},
   "outputs": [
    {
     "name": "stdout",
     "output_type": "stream",
     "text": [
      "Best Precision in sencitivity:  SVM \t 0.8787878787878788\n"
     ]
    }
   ],
   "source": [
    "print('Best Precision in sencitivity: ',names[values_se.index(max(values_se))] , '\\t', max(values_se))"
   ]
  },
  {
   "attachments": {},
   "cell_type": "markdown",
   "metadata": {},
   "source": [
    "## Specificity"
   ]
  },
  {
   "cell_type": "code",
   "execution_count": 198,
   "metadata": {},
   "outputs": [
    {
     "data": {
      "text/plain": [
       "Text(0, 0.5, 'Score')"
      ]
     },
     "execution_count": 198,
     "metadata": {},
     "output_type": "execute_result"
    },
    {
     "data": {
      "image/png": "[encoded data removed]",
      "text/plain": [
       "<Figure size 6800x1000 with 1 Axes>"
      ]
     },
     "metadata": {},
     "output_type": "display_data"
    }
   ],
   "source": [
    "names = ['Lohgistic Regration', 'XG Boost', 'SVM', 'KN Neighbors', 'Decision Tree', ' Neural Network', 'Random Forest',' Naive Bayes', 'Cat Boost', 'Ada Boost', 'Ridge Regression','MultinomialNB']\n",
    "values_sp = [conf_specificity_lr, conf_specificity_xgb, conf_specificity_svm, conf_specificity_knn, conf_specificity_dt, conf_specificity_nn, conf_specificity_rf, conf_specificity_nb, conf_specificity_cb, conf_specificity_ab, conf_specificity_rr, conf_specificity_mnb]\n",
    "\n",
    "plt.figure(figsize=(68,10))\n",
    "color = [\"orangered\",\"olive\",\"gray\",\"tomato\",\"seagreen\",\"peru\",\"indianred\",\"yellowgreen\",\"teal\",\"darkkhaki\",\"royalblue\",\"mediumpurple\"]\n",
    "\n",
    "plt.subplot(131)\n",
    "plt.bar(names, values_sp, color=color)\n",
    "plt.title('Specificity', fontsize=35)\n",
    "plt.xlabel('Algorithm', fontsize= 25)\n",
    "plt.ylabel('Score', fontsize = 25)"
   ]
  },
  {
   "cell_type": "code",
   "execution_count": 199,
   "metadata": {},
   "outputs": [
    {
     "name": "stdout",
     "output_type": "stream",
     "text": [
      "Best Precision in specitivity:   Naive Bayes \t 0.8928571428571429\n"
     ]
    }
   ],
   "source": [
    "print('Best Precision in specitivity: ',names[values_sp.index(max(values_sp))] , '\\t', max(values_sp))"
   ]
  },
  {
   "attachments": {},
   "cell_type": "markdown",
   "metadata": {},
   "source": [
    "## f_1 Score"
   ]
  },
  {
   "cell_type": "code",
   "execution_count": 200,
   "metadata": {},
   "outputs": [
    {
     "data": {
      "text/plain": [
       "Text(0, 0.5, 'Score')"
      ]
     },
     "execution_count": 200,
     "metadata": {},
     "output_type": "execute_result"
    },
    {
     "data": {
      "image/png": "[encoded data removed]",
      "text/plain": [
       "<Figure size 6800x1000 with 1 Axes>"
      ]
     },
     "metadata": {},
     "output_type": "display_data"
    }
   ],
   "source": [
    "%matplotlib inline\n",
    "names = ['Lohgistic Regration', 'XG Boost', 'SVM', 'KN Neighbors', 'Decision Tree', ' Neural Network', 'Random Forest',' Naive Bayes', 'Cat Boost', 'Ada Boost','Ridge Regression', 'MultinomialNB']\n",
    "values_f1 = [conf_f1_lr,conf_f1_xgb,conf_f1_svm,conf_f1_knn,conf_f1_dt,conf_f1_nn,conf_f1_rf,conf_f1_nb,conf_f1_cb,conf_f1_ab,conf_f1_rr,conf_f1_mnb]\n",
    "\n",
    "plt.figure(figsize=(68,10))\n",
    "color = [\"orangered\",\"olive\",\"gray\",\"tomato\",\"seagreen\",\"peru\",\"indianred\",\"yellowgreen\",\"teal\",\"darkkhaki\",\"royalblue\",\"mediumpurple\"]\n",
    "\n",
    "plt.subplot(131)\n",
    "plt.bar(names, values_f1, color=color)\n",
    "plt.title('F1_Score', fontsize=35)\n",
    "plt.xlabel('Algorithm', fontsize= 25)\n",
    "plt.ylabel('Score', fontsize = 25)"
   ]
  },
  {
   "cell_type": "code",
   "execution_count": 201,
   "metadata": {},
   "outputs": [
    {
     "name": "stdout",
     "output_type": "stream",
     "text": [
      "Best Precision in f1_score:  Decision Tree \t 0.8296488946684005\n"
     ]
    }
   ],
   "source": [
    "print('Best Precision in f1_score: ',names[values_f1.index(max(values_f1))] , '\\t', max(values_f1))"
   ]
  },
  {
   "attachments": {},
   "cell_type": "markdown",
   "metadata": {},
   "source": [
    "### Time"
   ]
  },
  {
   "cell_type": "code",
   "execution_count": 202,
   "metadata": {},
   "outputs": [
    {
     "data": {
      "text/plain": [
       "Text(0, 0.5, 'Score')"
      ]
     },
     "execution_count": 202,
     "metadata": {},
     "output_type": "execute_result"
    },
    {
     "data": {
      "image/png": "[encoded data removed]",
      "text/plain": [
       "<Figure size 6800x1000 with 1 Axes>"
      ]
     },
     "metadata": {},
     "output_type": "display_data"
    }
   ],
   "source": [
    "names = ['Lohgistic Regration', 'XG Boost', 'SVM', 'KN Neighbors', 'Decision Tree', ' Neural Network', 'Random Forest',' Naive Bayes', 'Cat Boost', 'Ada Boost','Ridge Regression', 'MultinomialNB']\n",
    "values_time = [lr_time, xgb_time, svm_time, knn_time, dt_time, nn_time, rf_time, nb_time, cb_time, ab_time, rr_time, mnb_time]\n",
    "\n",
    "plt.figure(figsize=(68,10))\n",
    "\n",
    "plt.subplot(131)\n",
    "plt.bar(names, values_time, color='powderblue')\n",
    "plt.title('Time', fontsize=35)\n",
    "plt.xlabel('Algorithm', fontsize= 25)\n",
    "plt.ylabel('Score', fontsize = 25)"
   ]
  },
  {
   "attachments": {},
   "cell_type": "markdown",
   "metadata": {},
   "source": [
    "## Result"
   ]
  },
  {
   "cell_type": "code",
   "execution_count": 203,
   "metadata": {},
   "outputs": [
    {
     "data": {
      "text/html": [
       "<div>\n",
       "<style scoped>\n",
       "    .dataframe tbody tr th:only-of-type {\n",
       "        vertical-align: middle;\n",
       "    }\n",
       "\n",
       "    .dataframe tbody tr th {\n",
       "        vertical-align: top;\n",
       "    }\n",
       "\n",
       "    .dataframe thead th {\n",
       "        text-align: right;\n",
       "    }\n",
       "</style>\n",
       "<table border=\"1\" class=\"dataframe\">\n",
       "  <thead>\n",
       "    <tr style=\"text-align: right;\">\n",
       "      <th></th>\n",
       "      <th>Name</th>\n",
       "      <th>True Prediction</th>\n",
       "      <th>True negetive</th>\n",
       "      <th>Accuracy</th>\n",
       "      <th>Pricision</th>\n",
       "      <th>Sensitivity</th>\n",
       "      <th>Specificity</th>\n",
       "      <th>F1_score</th>\n",
       "      <th>Time</th>\n",
       "    </tr>\n",
       "  </thead>\n",
       "  <tbody>\n",
       "    <tr>\n",
       "      <th>0</th>\n",
       "      <td>Lohgistic Regration</td>\n",
       "      <td>27</td>\n",
       "      <td>23</td>\n",
       "      <td>81.967213</td>\n",
       "      <td>0.821429</td>\n",
       "      <td>0.818182</td>\n",
       "      <td>0.821429</td>\n",
       "      <td>0.819802</td>\n",
       "      <td>0.0288</td>\n",
       "    </tr>\n",
       "    <tr>\n",
       "      <th>1</th>\n",
       "      <td>XG Boost</td>\n",
       "      <td>26</td>\n",
       "      <td>21</td>\n",
       "      <td>77.049180</td>\n",
       "      <td>0.750000</td>\n",
       "      <td>0.787879</td>\n",
       "      <td>0.750000</td>\n",
       "      <td>0.768473</td>\n",
       "      <td>0.1071</td>\n",
       "    </tr>\n",
       "    <tr>\n",
       "      <th>2</th>\n",
       "      <td>SVM</td>\n",
       "      <td>29</td>\n",
       "      <td>21</td>\n",
       "      <td>81.967213</td>\n",
       "      <td>0.750000</td>\n",
       "      <td>0.878788</td>\n",
       "      <td>0.750000</td>\n",
       "      <td>0.809302</td>\n",
       "      <td>0.3559</td>\n",
       "    </tr>\n",
       "    <tr>\n",
       "      <th>3</th>\n",
       "      <td>KN Neighbors</td>\n",
       "      <td>23</td>\n",
       "      <td>14</td>\n",
       "      <td>60.655738</td>\n",
       "      <td>0.500000</td>\n",
       "      <td>0.696970</td>\n",
       "      <td>0.500000</td>\n",
       "      <td>0.582278</td>\n",
       "      <td>0.0070</td>\n",
       "    </tr>\n",
       "    <tr>\n",
       "      <th>4</th>\n",
       "      <td>Decision Tree</td>\n",
       "      <td>29</td>\n",
       "      <td>22</td>\n",
       "      <td>83.606557</td>\n",
       "      <td>0.785714</td>\n",
       "      <td>0.878788</td>\n",
       "      <td>0.785714</td>\n",
       "      <td>0.829649</td>\n",
       "      <td>0.0042</td>\n",
       "    </tr>\n",
       "    <tr>\n",
       "      <th>5</th>\n",
       "      <td>Neural Network</td>\n",
       "      <td>24</td>\n",
       "      <td>18</td>\n",
       "      <td>68.852459</td>\n",
       "      <td>0.642857</td>\n",
       "      <td>0.727273</td>\n",
       "      <td>0.642857</td>\n",
       "      <td>0.682464</td>\n",
       "      <td>2.3559</td>\n",
       "    </tr>\n",
       "    <tr>\n",
       "      <th>6</th>\n",
       "      <td>Random Forest</td>\n",
       "      <td>26</td>\n",
       "      <td>22</td>\n",
       "      <td>78.688525</td>\n",
       "      <td>0.785714</td>\n",
       "      <td>0.787879</td>\n",
       "      <td>0.785714</td>\n",
       "      <td>0.786795</td>\n",
       "      <td>0.2046</td>\n",
       "    </tr>\n",
       "    <tr>\n",
       "      <th>7</th>\n",
       "      <td>Naive Bayes</td>\n",
       "      <td>25</td>\n",
       "      <td>25</td>\n",
       "      <td>81.967213</td>\n",
       "      <td>0.892857</td>\n",
       "      <td>0.757576</td>\n",
       "      <td>0.892857</td>\n",
       "      <td>0.819672</td>\n",
       "      <td>0.0035</td>\n",
       "    </tr>\n",
       "    <tr>\n",
       "      <th>8</th>\n",
       "      <td>Cat Boost</td>\n",
       "      <td>26</td>\n",
       "      <td>21</td>\n",
       "      <td>77.049180</td>\n",
       "      <td>0.750000</td>\n",
       "      <td>0.787879</td>\n",
       "      <td>0.750000</td>\n",
       "      <td>0.768473</td>\n",
       "      <td>2.5673</td>\n",
       "    </tr>\n",
       "    <tr>\n",
       "      <th>9</th>\n",
       "      <td>Ada Boost</td>\n",
       "      <td>24</td>\n",
       "      <td>23</td>\n",
       "      <td>77.049180</td>\n",
       "      <td>0.821429</td>\n",
       "      <td>0.727273</td>\n",
       "      <td>0.821429</td>\n",
       "      <td>0.771488</td>\n",
       "      <td>0.1325</td>\n",
       "    </tr>\n",
       "    <tr>\n",
       "      <th>10</th>\n",
       "      <td>Ridge Regression</td>\n",
       "      <td>29</td>\n",
       "      <td>21</td>\n",
       "      <td>41.912175</td>\n",
       "      <td>0.750000</td>\n",
       "      <td>0.878788</td>\n",
       "      <td>0.750000</td>\n",
       "      <td>0.809302</td>\n",
       "      <td>0.0080</td>\n",
       "    </tr>\n",
       "    <tr>\n",
       "      <th>11</th>\n",
       "      <td>MultinomialNB</td>\n",
       "      <td>21</td>\n",
       "      <td>21</td>\n",
       "      <td>68.852459</td>\n",
       "      <td>0.750000</td>\n",
       "      <td>0.636364</td>\n",
       "      <td>0.750000</td>\n",
       "      <td>0.688525</td>\n",
       "      <td>0.0000</td>\n",
       "    </tr>\n",
       "  </tbody>\n",
       "</table>\n",
       "</div>"
      ],
      "text/plain": [
       "                   Name  True Prediction  True negetive   Accuracy  Pricision  \\\n",
       "0   Lohgistic Regration               27             23  81.967213   0.821429   \n",
       "1              XG Boost               26             21  77.049180   0.750000   \n",
       "2                   SVM               29             21  81.967213   0.750000   \n",
       "3          KN Neighbors               23             14  60.655738   0.500000   \n",
       "4         Decision Tree               29             22  83.606557   0.785714   \n",
       "5        Neural Network               24             18  68.852459   0.642857   \n",
       "6         Random Forest               26             22  78.688525   0.785714   \n",
       "7           Naive Bayes               25             25  81.967213   0.892857   \n",
       "8             Cat Boost               26             21  77.049180   0.750000   \n",
       "9             Ada Boost               24             23  77.049180   0.821429   \n",
       "10     Ridge Regression               29             21  41.912175   0.750000   \n",
       "11        MultinomialNB               21             21  68.852459   0.750000   \n",
       "\n",
       "    Sensitivity  Specificity  F1_score    Time  \n",
       "0      0.818182     0.821429  0.819802  0.0288  \n",
       "1      0.787879     0.750000  0.768473  0.1071  \n",
       "2      0.878788     0.750000  0.809302  0.3559  \n",
       "3      0.696970     0.500000  0.582278  0.0070  \n",
       "4      0.878788     0.785714  0.829649  0.0042  \n",
       "5      0.727273     0.642857  0.682464  2.3559  \n",
       "6      0.787879     0.785714  0.786795  0.2046  \n",
       "7      0.757576     0.892857  0.819672  0.0035  \n",
       "8      0.787879     0.750000  0.768473  2.5673  \n",
       "9      0.727273     0.821429  0.771488  0.1325  \n",
       "10     0.878788     0.750000  0.809302  0.0080  \n",
       "11     0.636364     0.750000  0.688525  0.0000  "
      ]
     },
     "execution_count": 203,
     "metadata": {},
     "output_type": "execute_result"
    }
   ],
   "source": [
    "data= {'Name': names,\n",
    "    'True Prediction': values_tp,\n",
    "       'True negetive': values_tn,\n",
    "       'Accuracy': values_ta,\n",
    "       'Pricision': values_pr,\n",
    "      'Sensitivity': values_se,\n",
    "      'Specificity': values_sp,\n",
    "      'F1_score': values_f1,\n",
    "      'Time': values_time}\n",
    "df=pd.DataFrame(data)\n",
    "df"
   ]
  },
  {
   "cell_type": "code",
   "execution_count": 204,
   "metadata": {},
   "outputs": [],
   "source": [
    "# result convert to csv\n",
    "#df.to_csv(\"Result.csv\", index=False)\n"
   ]
  },
  {
   "attachments": {},
   "cell_type": "markdown",
   "metadata": {},
   "source": [
    "### Build a prediction model "
   ]
  },
  {
   "cell_type": "code",
   "execution_count": 205,
   "metadata": {},
   "outputs": [
    {
     "name": "stdout",
     "output_type": "stream",
     "text": [
      "[1]\n",
      "The Person has Heart Disease\n"
     ]
    },
    {
     "name": "stderr",
     "output_type": "stream",
     "text": [
      "c:\\Users\\SAYAN\\AppData\\Local\\Programs\\Python\\Python311\\Lib\\site-packages\\sklearn\\base.py:439: UserWarning: X does not have valid feature names, but DecisionTreeClassifier was fitted with feature names\n",
      "  warnings.warn(\n"
     ]
    }
   ],
   "source": [
    "input_data = (49,1,1,130,266,0,1,171,0,0.6,2,0,2)\n",
    "\n",
    "# change the input data to a numpy array\n",
    "input_data_as_numpy_array= np.asarray(input_data)\n",
    "\n",
    "# reshape the numpy array as we are predicting for only on instance\n",
    "input_data_reshaped = input_data_as_numpy_array.reshape(1,-1)\n",
    "\n",
    "prediction = dt_model.predict(input_data_reshaped)\n",
    "print(prediction)\n",
    "\n",
    "if (prediction[0]== 0):\n",
    "  print('The Person does not have a Heart Disease')\n",
    "else:\n",
    "  print('The Person has Heart Disease')\n"
   ]
  },
  {
   "cell_type": "code",
   "execution_count": 206,
   "metadata": {},
   "outputs": [],
   "source": [
    "# d = {\n",
    "#     'Defective Heart(0)': 165,\n",
    "#     'Healthy Heart(1)': 138\n",
    "# }\n",
    "\n",
    "# df1 = pd.DataFrame([d])\n",
    "# df1.to_csv('heart.csv', index=False)\n",
    "# df1"
   ]
  },
  {
   "attachments": {},
   "cell_type": "markdown",
   "metadata": {},
   "source": [
    "###### "
   ]
  },
  {
   "cell_type": "markdown",
   "metadata": {},
   "source": []
  }
 ],
 "metadata": {
  "colab": {
   "provenance": []
  },
  "kernelspec": {
   "display_name": "Python 3 (ipykernel)",
   "language": "python",
   "name": "python3"
  },
  "language_info": {
   "codemirror_mode": {
    "name": "ipython",
    "version": 3
   },
   "file_extension": ".py",
   "mimetype": "text/x-python",
   "name": "python",
   "nbconvert_exporter": "python",
   "pygments_lexer": "ipython3",
   "version": "3.11.1"
  }
 },
 "nbformat": 4,
 "nbformat_minor": 1
}
